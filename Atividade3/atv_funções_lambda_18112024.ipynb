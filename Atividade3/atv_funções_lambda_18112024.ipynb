{
  "nbformat": 4,
  "nbformat_minor": 0,
  "metadata": {
    "colab": {
      "provenance": [],
      "authorship_tag": "ABX9TyMjJIMuKc54hAMtnFZMUccg",
      "include_colab_link": true
    },
    "kernelspec": {
      "name": "python3",
      "display_name": "Python 3"
    },
    "language_info": {
      "name": "python"
    }
  },
  "cells": [
    {
      "cell_type": "markdown",
      "metadata": {
        "id": "view-in-github",
        "colab_type": "text"
      },
      "source": [
        "<a href=\"https://colab.research.google.com/github/BossattoY/ENG_20242/blob/main/Atividade3/atv_fun%C3%A7%C3%B5es_lambda_18112024.ipynb\" target=\"_parent\"><img src=\"https://colab.research.google.com/assets/colab-badge.svg\" alt=\"Open In Colab\"/></a>"
      ]
    },
    {
      "cell_type": "code",
      "execution_count": 22,
      "metadata": {
        "id": "AYuPFxNhBapY"
      },
      "outputs": [],
      "source": [
        "#lista Geral int\n",
        "geral_int = lambda : [1, 2, 3, 4, 5, 6, 7, 8, 9]\n",
        "\n",
        "#1\n",
        "quadrado = lambda lista : [x**2 for x in lista]\n",
        "\n",
        "#2\n",
        "\n",
        "\n",
        "#3\n",
        "\n",
        "\n",
        "#4\n",
        "\n",
        "\n",
        "#5\n",
        "\n",
        "\n",
        "#6\n",
        "\n",
        "\n",
        "#7\n",
        "\n",
        "\n",
        "#8\n",
        "\n",
        "\n",
        "#9\n",
        "\n",
        "\n",
        "#10\n",
        "\n",
        "\n",
        "#11\n",
        "\n",
        "\n",
        "#12\n",
        "\n",
        "\n",
        "#13\n",
        "\n",
        "\n",
        "#14\n",
        "\n",
        "\n",
        "#15\n",
        "\n",
        "\n",
        "#16\n",
        "\n",
        "\n",
        "#17\n",
        "\n",
        "\n",
        "#18\n",
        "\n",
        "\n",
        "#19\n",
        "\n",
        "\n",
        "#20\n",
        "\n",
        "\n",
        "#21\n",
        "\n",
        "\n",
        "#22\n",
        "\n",
        "\n",
        "#23\n",
        "\n",
        "\n",
        "#24\n",
        "\n",
        "\n",
        "#25\n",
        "\n",
        "\n",
        "#26\n",
        "\n",
        "\n",
        "#27\n",
        "\n",
        "\n",
        "#28\n",
        "\n",
        "\n",
        "#29\n",
        "\n",
        "\n",
        "#30\n",
        "\n"
      ]
    },
    {
      "cell_type": "code",
      "source": [
        "#1 Dada uma lista de números inteiros, use uma função lambda para retornar uma lista com o quadrado de cada número.\n",
        "lista = geral_int()\n",
        "quadrado(lista)"
      ],
      "metadata": {
        "colab": {
          "base_uri": "https://localhost:8080/"
        },
        "id": "CShnMmb5CSo3",
        "outputId": "086cfc74-be2c-45df-c2aa-29544196a2b5"
      },
      "execution_count": 23,
      "outputs": [
        {
          "output_type": "execute_result",
          "data": {
            "text/plain": [
              "[1, 4, 9, 16, 25, 36, 49, 64, 81]"
            ]
          },
          "metadata": {},
          "execution_count": 23
        }
      ]
    },
    {
      "cell_type": "code",
      "source": [
        "#2 Dada uma lista de temperaturas em Celsius, use uma função lambda para convertê-las em Fahrenheit.\n"
      ],
      "metadata": {
        "id": "kgXkGWSCFNT3"
      },
      "execution_count": null,
      "outputs": []
    },
    {
      "cell_type": "code",
      "source": [
        "#3 Dada uma lista de palavras, use uma função lambda para retornar uma lista com o comprimento de cada palavra.\n"
      ],
      "metadata": {
        "id": "L8XLaKESFNb3"
      },
      "execution_count": null,
      "outputs": []
    },
    {
      "cell_type": "code",
      "source": [
        "#4 Use uma função lambda para dobrar os valores de uma lista de inteiros.\n"
      ],
      "metadata": {
        "id": "03_-eMh4FNjP"
      },
      "execution_count": null,
      "outputs": []
    },
    {
      "cell_type": "code",
      "source": [
        "#5 Dada uma lista de nomes, use uma função lambda para adicionar o prefixo \"Sr./Sra.\" antes de cada nome.\n"
      ],
      "metadata": {
        "id": "a4ngz9KDFNqn"
      },
      "execution_count": null,
      "outputs": []
    },
    {
      "cell_type": "code",
      "source": [
        "#6 Dada uma lista de números, use uma função lambda para retornar apenas os números pares.\n"
      ],
      "metadata": {
        "id": "vlQQYALNFNx3"
      },
      "execution_count": null,
      "outputs": []
    },
    {
      "cell_type": "code",
      "source": [
        "#7 Dada uma lista de palavras, use uma função lambda para retornar apenas as palavras com menos de 5 caracteres.\n"
      ],
      "metadata": {
        "id": "TFsQ961_FN4n"
      },
      "execution_count": null,
      "outputs": []
    },
    {
      "cell_type": "code",
      "source": [
        "#8 Dada uma lista de idades, use uma função lambda para retornar apenas as idades maiores que 18.\n"
      ],
      "metadata": {
        "id": "GjAonp_MFOAP"
      },
      "execution_count": null,
      "outputs": []
    },
    {
      "cell_type": "code",
      "source": [
        "#9 Dada uma lista de strings, use uma função lambda para retornar as strings que começam com a letra \"a\".\n"
      ],
      "metadata": {
        "id": "j8rnvIRwFOHP"
      },
      "execution_count": null,
      "outputs": []
    },
    {
      "cell_type": "code",
      "source": [
        "#10 Dada uma lista de números inteiros, use uma função lambda para retornar apenas os números positivos.\n"
      ],
      "metadata": {
        "id": "-rOlYfZhFON_"
      },
      "execution_count": null,
      "outputs": []
    },
    {
      "cell_type": "code",
      "source": [
        "#11 Use uma função lambda para calcular a soma de uma lista de números.\n"
      ],
      "metadata": {
        "id": "YNi5eIv3FOUP"
      },
      "execution_count": null,
      "outputs": []
    },
    {
      "cell_type": "code",
      "source": [
        "#12 Use uma função lambda para multiplicar todos os elementos de uma lista.\n"
      ],
      "metadata": {
        "id": "aSpUKGmBFOa_"
      },
      "execution_count": null,
      "outputs": []
    },
    {
      "cell_type": "code",
      "source": [
        "#13 Use uma função lambda para encontrar o maior número em uma lista.\n"
      ],
      "metadata": {
        "id": "O0UOReI4FOhP"
      },
      "execution_count": null,
      "outputs": []
    },
    {
      "cell_type": "code",
      "source": [
        "#14 Use uma função lambda para concatenar uma lista de palavras em uma única string separada por espaços.\n"
      ],
      "metadata": {
        "id": "tTgxNQ_LFOnw"
      },
      "execution_count": null,
      "outputs": []
    },
    {
      "cell_type": "code",
      "source": [
        "#15 Use uma função lambda para somar os dígitos de uma lista de inteiros, onde cada número é tratado individualmente.\n"
      ],
      "metadata": {
        "id": "8kU-y53jFOt_"
      },
      "execution_count": null,
      "outputs": []
    },
    {
      "cell_type": "code",
      "source": [
        "#16 Use uma função lambda para dobrar os números de uma lista e retornar apenas os números que são maiores que 20.\n"
      ],
      "metadata": {
        "id": "y2rOTo1wFOz3"
      },
      "execution_count": null,
      "outputs": []
    },
    {
      "cell_type": "code",
      "source": [
        "#17 Dada uma lista de palavras, use uma função lambda para encontrar todas as palavras que contêm a letra \"e\" e conte quantas são.\n"
      ],
      "metadata": {
        "id": "w0laMfXJFO6v"
      },
      "execution_count": null,
      "outputs": []
    },
    {
      "cell_type": "code",
      "source": [
        "#18 Converta uma lista de temperaturas de Fahrenheit para Celsius usando uma função lambda e, em seguida, retorne apenas as temperaturas abaixo de 20°C.\n"
      ],
      "metadata": {
        "id": "I_LsAl_9FPBY"
      },
      "execution_count": null,
      "outputs": []
    },
    {
      "cell_type": "code",
      "source": [
        "#19 Use uma função lambda para selecionar apenas os números pares de uma lista e, em seguida, somar esses números.\n"
      ],
      "metadata": {
        "id": "5CYGUyNmFPII"
      },
      "execution_count": null,
      "outputs": []
    },
    {
      "cell_type": "code",
      "source": [
        "#20 Use uma função lambda para substituir números negativos de uma lista por 0 e manter os positivos.\n"
      ],
      "metadata": {
        "id": "Wcu1rEizFPO_"
      },
      "execution_count": null,
      "outputs": []
    },
    {
      "cell_type": "code",
      "source": [
        "#21 Use uma função lambda para retornar a lista de cubos de cada elemento em uma lista de números.\n"
      ],
      "metadata": {
        "id": "wURcxNIFFQMY"
      },
      "execution_count": null,
      "outputs": []
    },
    {
      "cell_type": "code",
      "source": [
        "#22 Use uma função lambda para verificar se um número dado é primo (retornando True ou False).\n"
      ],
      "metadata": {
        "id": "_VzcDI0nFQS_"
      },
      "execution_count": null,
      "outputs": []
    },
    {
      "cell_type": "code",
      "source": [
        "#23 Use uma função lambda para dividir cada elemento de uma lista por 5 e retornar a nova lista.\n"
      ],
      "metadata": {
        "id": "qHizQNRWFQZ_"
      },
      "execution_count": null,
      "outputs": []
    },
    {
      "cell_type": "code",
      "source": [
        "#24 Use uma função lambda para remover todas as vogais de uma string dada.\n"
      ],
      "metadata": {
        "id": "IOhvRChyFQg_"
      },
      "execution_count": null,
      "outputs": []
    },
    {
      "cell_type": "code",
      "source": [
        "#25 Use uma função lambda para converter todas as palavras em uma lista para letras maiúsculas.\n"
      ],
      "metadata": {
        "id": "x92-wpgTFQoI"
      },
      "execution_count": null,
      "outputs": []
    },
    {
      "cell_type": "code",
      "source": [
        "#26 Use uma função lambda para retornar apenas os números negativos de uma lista de inteiros.\n"
      ],
      "metadata": {
        "id": "iN-xdG1WFQvH"
      },
      "execution_count": null,
      "outputs": []
    },
    {
      "cell_type": "code",
      "source": [
        "#27 Use uma função lambda para converter todos os números de uma lista para seus valores absolutos.\n"
      ],
      "metadata": {
        "id": "jnx09veYFQ2Q"
      },
      "execution_count": null,
      "outputs": []
    },
    {
      "cell_type": "code",
      "source": [
        "#28 Use uma função lambda para retornar uma lista com o resto da divisão de cada elemento por 3.\n"
      ],
      "metadata": {
        "id": "Exe-Mt1HFQ84"
      },
      "execution_count": null,
      "outputs": []
    },
    {
      "cell_type": "code",
      "source": [
        "#29 Dada uma lista de números, use uma função lambda para multiplicar cada elemento pelo seu índice.\n"
      ],
      "metadata": {
        "id": "o_3VaTIJFRDA"
      },
      "execution_count": null,
      "outputs": []
    },
    {
      "cell_type": "code",
      "source": [
        "#30 Use uma função lambda para verificar se uma palavra dada é um palíndromo (retornando True ou False).\n"
      ],
      "metadata": {
        "id": "0e0gWpp9FRJo"
      },
      "execution_count": null,
      "outputs": []
    }
  ]
}