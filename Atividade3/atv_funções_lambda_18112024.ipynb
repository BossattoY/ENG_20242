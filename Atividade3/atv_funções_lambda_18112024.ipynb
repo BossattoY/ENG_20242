{
  "nbformat": 4,
  "nbformat_minor": 0,
  "metadata": {
    "colab": {
      "provenance": [],
      "authorship_tag": "ABX9TyMUIswEFU933T7jM6rVkzAv",
      "include_colab_link": true
    },
    "kernelspec": {
      "name": "python3",
      "display_name": "Python 3"
    },
    "language_info": {
      "name": "python"
    }
  },
  "cells": [
    {
      "cell_type": "markdown",
      "metadata": {
        "id": "view-in-github",
        "colab_type": "text"
      },
      "source": [
        "<a href=\"https://colab.research.google.com/github/BossattoY/ENG_20242/blob/main/Atividade3/atv_fun%C3%A7%C3%B5es_lambda_18112024.ipynb\" target=\"_parent\"><img src=\"https://colab.research.google.com/assets/colab-badge.svg\" alt=\"Open In Colab\"/></a>"
      ]
    },
    {
      "cell_type": "code",
      "execution_count": 23,
      "metadata": {
        "id": "AYuPFxNhBapY"
      },
      "outputs": [],
      "source": [
        "# Lista Geral int\n",
        "geral_int = lambda : [-5, -4, -3, -2, -1, 1, 2, 3, 4, 5]\n",
        "\n",
        "# Lista Geral str\n",
        "geral_str = lambda : [\"barbara\", \"airton\", \"osvaldo\", \"dante\", \"paula\", \"fabio\", \"matheus\", \"ana\", \"isis\"]\n",
        "\n",
        "# Lista Geral idades\n",
        "geral_idade = lambda : [43, 16, 4, 83, 103, 14, 27, 9, 75]\n",
        "\n",
        "#1\n",
        "quadrado = list(map(lambda x1 : x1 ** 2, lista1))\n",
        "\n",
        "#2\n",
        "fahrenheit = lambda celsius: (celsius * 9/5) + 32\n",
        "\n",
        "#3\n",
        "tamanho_str = list(map(lambda x3 : len(x3), lista3))\n",
        "\n",
        "#4\n",
        "dobra = list(map(lambda x4 : x4 * 2, lista4))\n",
        "\n",
        "#5\n",
        "prefixo = list(map(lambda x5 : 'Sr/Sra ' + x5, lista5))\n",
        "\n",
        "#6\n",
        "pares = list(filter(lambda x6 : x6 % 2 == 0, lista6))\n",
        "\n",
        "#7\n",
        "menor_5 = list(filter(lambda x7 : len(x7) < 5, lista7))\n",
        "\n",
        "#8\n",
        "maior_18 = list(filter(lambda x8 : x8 > 18, lista8))\n",
        "\n",
        "#9\n",
        "inicio_a = list(filter(lambda x9 : x9[0] == 'a', lista9))\n",
        "\n",
        "#10\n",
        "positivos = list(filter(lambda x10 : x10 > 0, lista10))\n",
        "\n",
        "#11\n",
        "from functools import reduce\n",
        "soma = reduce(lambda x11, y11 : x11 + y11, lista11)\n",
        "\n",
        "#12\n",
        "from functools import reduce\n",
        "multiplica = reduce(lambda x12, y12 : x12 * y12, lista12)\n",
        "\n",
        "#13\n",
        "from functools import reduce\n",
        "maximo = reduce(lambda x13, y13 : x13 if x13 > y13 else y13, lista13)\n",
        "\n",
        "#14\n",
        "from functools import reduce\n",
        "unica_palavra = reduce(lambda x14, y14 : x14 + ' ' + y14, lista14)\n",
        "\n",
        "#15\n",
        "soma_digito = list(map(lambda x15: sum(int(x15) for x15 in str(x15)), lista15))\n",
        "\n",
        "#16\n",
        "dobro_maior_20 = list(map(lambda x16: x16 * 2, filter(lambda x16: x16 * 2 > 20, lista16)))\n",
        "\n",
        "#17\n",
        "contem_e = list(filter(lambda x17 : 'e' in x17, lista17))\n",
        "\n",
        "#18\n",
        "converte_celsius = list(filter(lambda x18 : (x18 - 32) * 5/9 > 20, lista18))\n",
        "celsius_maior_20 = list(map(lambda x18 : (x18 - 32) * 5/9, converte_celsius))\n",
        "\n",
        "#19\n",
        "from functools import reduce\n",
        "soma_par = reduce(lambda x19, y19 : x19 + y19, filter(lambda x19 : x19 % 2 == 0, lista19))\n",
        "\n",
        "#20\n",
        "troca_negativo = list(map(lambda x20 : 0 if x20 < 0 else x20, lista20))\n",
        "\n",
        "#21\n",
        "cubo = list(map(lambda x21 : x21**3, lista21))\n",
        "\n",
        "#22\n",
        "\n",
        "\n",
        "#23\n",
        "\n",
        "\n",
        "#24\n",
        "\n",
        "\n",
        "#25\n",
        "\n",
        "\n",
        "#26\n",
        "\n",
        "\n",
        "#27\n",
        "\n",
        "\n",
        "#28\n",
        "\n",
        "\n",
        "#29\n",
        "\n",
        "\n",
        "#30\n",
        "\n"
      ]
    },
    {
      "cell_type": "code",
      "source": [
        "#1 Dada uma lista de números inteiros, use uma função lambda para retornar uma lista com o quadrado de cada número.\n",
        "lista1 = geral_int()\n",
        "print(quadrado)"
      ],
      "metadata": {
        "colab": {
          "base_uri": "https://localhost:8080/"
        },
        "id": "CShnMmb5CSo3",
        "outputId": "37e4ae46-0e50-46a0-dac1-67c8313ad7bd"
      },
      "execution_count": 24,
      "outputs": [
        {
          "output_type": "stream",
          "name": "stdout",
          "text": [
            "[25, 16, 9, 4, 1, 1, 4, 9, 16, 25]\n"
          ]
        }
      ]
    },
    {
      "cell_type": "code",
      "source": [
        "#2 Dada uma lista de temperaturas em Celsius, use uma função lambda para convertê-las em Fahrenheit.\n",
        "celsius = input(\"Informe a Temperatura em Celsius para ser convertido em Fahrenheit: \")\n",
        "fahrenheit(float(celsius))"
      ],
      "metadata": {
        "colab": {
          "base_uri": "https://localhost:8080/"
        },
        "id": "kgXkGWSCFNT3",
        "outputId": "28ebfc02-ce79-4bea-b84e-325074e2eb81"
      },
      "execution_count": 25,
      "outputs": [
        {
          "name": "stdout",
          "output_type": "stream",
          "text": [
            "Informe a Temperatura em Celsius para ser convertido em Fahrenheit: 0\n"
          ]
        },
        {
          "output_type": "execute_result",
          "data": {
            "text/plain": [
              "32.0"
            ]
          },
          "metadata": {},
          "execution_count": 25
        }
      ]
    },
    {
      "cell_type": "code",
      "source": [
        "#3 Dada uma lista de palavras, use uma função lambda para retornar uma lista com o comprimento de cada palavra.\n",
        "lista3 = geral_str()\n",
        "print(tamanho_str)"
      ],
      "metadata": {
        "colab": {
          "base_uri": "https://localhost:8080/"
        },
        "id": "L8XLaKESFNb3",
        "outputId": "5d76e47d-d483-4432-e772-1128081c2c70"
      },
      "execution_count": 26,
      "outputs": [
        {
          "output_type": "stream",
          "name": "stdout",
          "text": [
            "[7, 6, 7, 5, 5, 5, 7, 3, 4]\n"
          ]
        }
      ]
    },
    {
      "cell_type": "code",
      "source": [
        "#4 Use uma função lambda para dobrar os valores de uma lista de inteiros.\n",
        "lista4 = geral_int()\n",
        "print(dobra)"
      ],
      "metadata": {
        "colab": {
          "base_uri": "https://localhost:8080/"
        },
        "id": "03_-eMh4FNjP",
        "outputId": "b492eb85-5ad5-40e3-b80a-1f291d3006db"
      },
      "execution_count": 27,
      "outputs": [
        {
          "output_type": "stream",
          "name": "stdout",
          "text": [
            "[-10, -8, -6, -4, -2, 2, 4, 6, 8, 10]\n"
          ]
        }
      ]
    },
    {
      "cell_type": "code",
      "source": [
        "#5 Dada uma lista de nomes, use uma função lambda para adicionar o prefixo \"Sr./Sra.\" antes de cada nome.\n",
        "lista5 = geral_str()\n",
        "print(prefixo)"
      ],
      "metadata": {
        "colab": {
          "base_uri": "https://localhost:8080/"
        },
        "id": "a4ngz9KDFNqn",
        "outputId": "7c51144d-6dfe-4a45-8f69-ec068bd8a3f8"
      },
      "execution_count": 28,
      "outputs": [
        {
          "output_type": "stream",
          "name": "stdout",
          "text": [
            "['Sr/Sra barbara', 'Sr/Sra airton', 'Sr/Sra osvaldo', 'Sr/Sra dante', 'Sr/Sra paula', 'Sr/Sra fabio', 'Sr/Sra matheus', 'Sr/Sra ana', 'Sr/Sra isis']\n"
          ]
        }
      ]
    },
    {
      "cell_type": "code",
      "source": [
        "#6 Dada uma lista de números, use uma função lambda para retornar apenas os números pares.\n",
        "lista6 = geral_int()\n",
        "print(pares)"
      ],
      "metadata": {
        "colab": {
          "base_uri": "https://localhost:8080/"
        },
        "id": "vlQQYALNFNx3",
        "outputId": "9835c92d-5570-4be7-818b-fe4ef7c5f56f"
      },
      "execution_count": 29,
      "outputs": [
        {
          "output_type": "stream",
          "name": "stdout",
          "text": [
            "[-4, -2, 2, 4]\n"
          ]
        }
      ]
    },
    {
      "cell_type": "code",
      "source": [
        "#7 Dada uma lista de palavras, use uma função lambda para retornar apenas as palavras com menos de 5 caracteres.\n",
        "lista7 = geral_str()\n",
        "print(menor_5)"
      ],
      "metadata": {
        "colab": {
          "base_uri": "https://localhost:8080/"
        },
        "id": "TFsQ961_FN4n",
        "outputId": "d9e0c6ad-fbeb-4a46-d43b-659e840a7c62"
      },
      "execution_count": 30,
      "outputs": [
        {
          "output_type": "stream",
          "name": "stdout",
          "text": [
            "['ana', 'isis']\n"
          ]
        }
      ]
    },
    {
      "cell_type": "code",
      "source": [
        "#8 Dada uma lista de idades, use uma função lambda para retornar apenas as idades maiores que 18.\n",
        "lista8 = geral_idade()\n",
        "print(maior_18)"
      ],
      "metadata": {
        "colab": {
          "base_uri": "https://localhost:8080/"
        },
        "id": "GjAonp_MFOAP",
        "outputId": "747431a7-19e2-4af0-c7a9-a071b9b740d6"
      },
      "execution_count": 31,
      "outputs": [
        {
          "output_type": "stream",
          "name": "stdout",
          "text": [
            "[43, 83, 103, 27, 75]\n"
          ]
        }
      ]
    },
    {
      "cell_type": "code",
      "source": [
        "#9 Dada uma lista de strings, use uma função lambda para retornar as strings que começam com a letra \"a\".\n",
        "lista9 = geral_str()\n",
        "print(inicio_a)"
      ],
      "metadata": {
        "colab": {
          "base_uri": "https://localhost:8080/"
        },
        "id": "j8rnvIRwFOHP",
        "outputId": "2df85206-9815-4d93-9838-c7ede8554759"
      },
      "execution_count": 32,
      "outputs": [
        {
          "output_type": "stream",
          "name": "stdout",
          "text": [
            "['airton', 'ana']\n"
          ]
        }
      ]
    },
    {
      "cell_type": "code",
      "source": [
        "#10 Dada uma lista de números inteiros, use uma função lambda para retornar apenas os números positivos.\n",
        "lista10 = geral_int()\n",
        "print(positivos)"
      ],
      "metadata": {
        "colab": {
          "base_uri": "https://localhost:8080/"
        },
        "id": "-rOlYfZhFON_",
        "outputId": "d2912af4-07a7-4f6c-cb64-0def39ee957e"
      },
      "execution_count": 33,
      "outputs": [
        {
          "output_type": "stream",
          "name": "stdout",
          "text": [
            "[1, 2, 3, 4, 5]\n"
          ]
        }
      ]
    },
    {
      "cell_type": "code",
      "source": [
        "#11 Use uma função lambda para calcular a soma de uma lista de números.\n",
        "lista11 = geral_int()\n",
        "print(soma)"
      ],
      "metadata": {
        "colab": {
          "base_uri": "https://localhost:8080/"
        },
        "id": "YNi5eIv3FOUP",
        "outputId": "f677b969-dbb5-46e0-ebcd-1e53d9eda2ba"
      },
      "execution_count": 34,
      "outputs": [
        {
          "output_type": "stream",
          "name": "stdout",
          "text": [
            "0\n"
          ]
        }
      ]
    },
    {
      "cell_type": "code",
      "source": [
        "#12 Use uma função lambda para multiplicar todos os elementos de uma lista.\n",
        "lista12 = geral_int()\n",
        "print(multiplica)"
      ],
      "metadata": {
        "colab": {
          "base_uri": "https://localhost:8080/"
        },
        "id": "aSpUKGmBFOa_",
        "outputId": "a6fec57f-f3f3-4277-d871-d26c4fc81c52"
      },
      "execution_count": 35,
      "outputs": [
        {
          "output_type": "stream",
          "name": "stdout",
          "text": [
            "-14400\n"
          ]
        }
      ]
    },
    {
      "cell_type": "code",
      "source": [
        "#13 Use uma função lambda para encontrar o maior número em uma lista.\n",
        "lista13 = geral_int()\n",
        "print(maximo)"
      ],
      "metadata": {
        "colab": {
          "base_uri": "https://localhost:8080/"
        },
        "id": "O0UOReI4FOhP",
        "outputId": "b4c95f85-8ce0-4d02-bf80-ce3b4451d5ae"
      },
      "execution_count": 36,
      "outputs": [
        {
          "output_type": "stream",
          "name": "stdout",
          "text": [
            "5\n"
          ]
        }
      ]
    },
    {
      "cell_type": "code",
      "source": [
        "#14 Use uma função lambda para concatenar uma lista de palavras em uma única string separada por espaços.\n",
        "lista14 = geral_str()\n",
        "print(unica_palavra)"
      ],
      "metadata": {
        "colab": {
          "base_uri": "https://localhost:8080/"
        },
        "id": "tTgxNQ_LFOnw",
        "outputId": "3093aaca-5033-4ace-e05c-6f1a301e77e9"
      },
      "execution_count": 37,
      "outputs": [
        {
          "output_type": "stream",
          "name": "stdout",
          "text": [
            "barbara airton osvaldo dante paula fabio matheus ana isis\n"
          ]
        }
      ]
    },
    {
      "cell_type": "code",
      "source": [
        "#15 Use uma função lambda para somar os dígitos de uma lista de inteiros, onde cada número é tratado individualmente.\n",
        "lista15 = geral_idade()\n",
        "print(soma_digito)"
      ],
      "metadata": {
        "colab": {
          "base_uri": "https://localhost:8080/"
        },
        "id": "8kU-y53jFOt_",
        "outputId": "2cf0dc28-be4a-4d8d-c720-40ecfd93038b"
      },
      "execution_count": 38,
      "outputs": [
        {
          "output_type": "stream",
          "name": "stdout",
          "text": [
            "[7, 7, 4, 11, 4, 5, 9, 9, 12]\n"
          ]
        }
      ]
    },
    {
      "cell_type": "code",
      "source": [
        "#16 Use uma função lambda para dobrar os números de uma lista e retornar apenas os números que são maiores que 20.\n",
        "lista16 = geral_idade()\n",
        "print(dobro_maior_20)"
      ],
      "metadata": {
        "colab": {
          "base_uri": "https://localhost:8080/"
        },
        "id": "y2rOTo1wFOz3",
        "outputId": "e98cf6c6-ff9d-4a66-b318-c7525da93d9c"
      },
      "execution_count": 39,
      "outputs": [
        {
          "output_type": "stream",
          "name": "stdout",
          "text": [
            "[86, 32, 166, 206, 28, 54, 150]\n"
          ]
        }
      ]
    },
    {
      "cell_type": "code",
      "source": [
        "#17 Dada uma lista de palavras, use uma função lambda para encontrar todas as palavras que contêm a letra \"e\" e conte quantas são.\n",
        "lista17 = geral_str()\n",
        "print(f\"A letra 'e' aparece em {len(contem_e)} palavra da string: {contem_e}\")"
      ],
      "metadata": {
        "id": "w0laMfXJFO6v",
        "colab": {
          "base_uri": "https://localhost:8080/"
        },
        "outputId": "6682f68f-810f-4422-fcdd-c8b0fe53c94b"
      },
      "execution_count": 40,
      "outputs": [
        {
          "output_type": "stream",
          "name": "stdout",
          "text": [
            "A letra 'e' aparece em 2 palavra da string: ['dante', 'matheus']\n"
          ]
        }
      ]
    },
    {
      "cell_type": "code",
      "source": [
        "#18 Converta uma lista de temperaturas de Fahrenheit para Celsius usando uma função lambda e, em seguida, retorne apenas as temperaturas abaixo de 20°C.\n",
        "lista18 = [220, 0, 130, 42, 12, 90, 60, 154, 205]\n",
        "print(celsius_maior_20)"
      ],
      "metadata": {
        "id": "I_LsAl_9FPBY",
        "colab": {
          "base_uri": "https://localhost:8080/"
        },
        "outputId": "e9674600-86ff-4ec5-b154-6d4544dc35d3"
      },
      "execution_count": 41,
      "outputs": [
        {
          "output_type": "stream",
          "name": "stdout",
          "text": [
            "[104.44444444444444, 54.44444444444444, 32.22222222222222, 67.77777777777777, 96.11111111111111]\n"
          ]
        }
      ]
    },
    {
      "cell_type": "code",
      "source": [
        "#19 Use uma função lambda para selecionar apenas os números pares de uma lista e, em seguida, somar esses números.\n",
        "lista19 = geral_idade()\n",
        "print(soma_par)"
      ],
      "metadata": {
        "id": "5CYGUyNmFPII",
        "colab": {
          "base_uri": "https://localhost:8080/"
        },
        "outputId": "9fad2499-dc13-48c9-f178-9497f85ff9ee"
      },
      "execution_count": 42,
      "outputs": [
        {
          "output_type": "stream",
          "name": "stdout",
          "text": [
            "34\n"
          ]
        }
      ]
    },
    {
      "cell_type": "code",
      "source": [
        "#20 Use uma função lambda para substituir números negativos de uma lista por 0 e manter os positivos.\n",
        "lista20 = geral_int()\n",
        "print(troca_negativo)"
      ],
      "metadata": {
        "id": "Wcu1rEizFPO_",
        "colab": {
          "base_uri": "https://localhost:8080/"
        },
        "outputId": "bd6b3930-309c-486a-e2d2-3a00e6fae535"
      },
      "execution_count": 43,
      "outputs": [
        {
          "output_type": "stream",
          "name": "stdout",
          "text": [
            "[0, 0, 0, 0, 0, 1, 2, 3, 4, 5]\n"
          ]
        }
      ]
    },
    {
      "cell_type": "code",
      "source": [
        "#21 Use uma função lambda para retornar a lista de cubos de cada elemento em uma lista de números.\n",
        "lista21 = geral_int()\n",
        "print(cubo)"
      ],
      "metadata": {
        "id": "wURcxNIFFQMY",
        "colab": {
          "base_uri": "https://localhost:8080/"
        },
        "outputId": "1236a6d2-dba8-423c-c13b-ca627d90e5e6"
      },
      "execution_count": 44,
      "outputs": [
        {
          "output_type": "stream",
          "name": "stdout",
          "text": [
            "[-125, -64, -27, -8, -1, 1, 8, 27, 64, 125]\n"
          ]
        }
      ]
    },
    {
      "cell_type": "code",
      "source": [
        "#22 Use uma função lambda para verificar se um número dado é primo (retornando True ou False).\n"
      ],
      "metadata": {
        "id": "_VzcDI0nFQS_"
      },
      "execution_count": null,
      "outputs": []
    },
    {
      "cell_type": "code",
      "source": [
        "#23 Use uma função lambda para dividir cada elemento de uma lista por 5 e retornar a nova lista.\n"
      ],
      "metadata": {
        "id": "qHizQNRWFQZ_"
      },
      "execution_count": null,
      "outputs": []
    },
    {
      "cell_type": "code",
      "source": [
        "#24 Use uma função lambda para remover todas as vogais de uma string dada.\n"
      ],
      "metadata": {
        "id": "IOhvRChyFQg_"
      },
      "execution_count": null,
      "outputs": []
    },
    {
      "cell_type": "code",
      "source": [
        "#25 Use uma função lambda para converter todas as palavras em uma lista para letras maiúsculas.\n"
      ],
      "metadata": {
        "id": "x92-wpgTFQoI"
      },
      "execution_count": null,
      "outputs": []
    },
    {
      "cell_type": "code",
      "source": [
        "#26 Use uma função lambda para retornar apenas os números negativos de uma lista de inteiros.\n"
      ],
      "metadata": {
        "id": "iN-xdG1WFQvH"
      },
      "execution_count": null,
      "outputs": []
    },
    {
      "cell_type": "code",
      "source": [
        "#27 Use uma função lambda para converter todos os números de uma lista para seus valores absolutos.\n"
      ],
      "metadata": {
        "id": "jnx09veYFQ2Q"
      },
      "execution_count": null,
      "outputs": []
    },
    {
      "cell_type": "code",
      "source": [
        "#28 Use uma função lambda para retornar uma lista com o resto da divisão de cada elemento por 3.\n"
      ],
      "metadata": {
        "id": "Exe-Mt1HFQ84"
      },
      "execution_count": null,
      "outputs": []
    },
    {
      "cell_type": "code",
      "source": [
        "#29 Dada uma lista de números, use uma função lambda para multiplicar cada elemento pelo seu índice.\n"
      ],
      "metadata": {
        "id": "o_3VaTIJFRDA"
      },
      "execution_count": null,
      "outputs": []
    },
    {
      "cell_type": "code",
      "source": [
        "#30 Use uma função lambda para verificar se uma palavra dada é um palíndromo (retornando True ou False).\n"
      ],
      "metadata": {
        "id": "0e0gWpp9FRJo"
      },
      "execution_count": null,
      "outputs": []
    }
  ]
}