{
  "nbformat": 4,
  "nbformat_minor": 0,
  "metadata": {
    "colab": {
      "provenance": [],
      "authorship_tag": "ABX9TyP5p5jPgMnd6dKb1rSBiO53",
      "include_colab_link": true
    },
    "kernelspec": {
      "name": "python3",
      "display_name": "Python 3"
    },
    "language_info": {
      "name": "python"
    }
  },
  "cells": [
    {
      "cell_type": "markdown",
      "metadata": {
        "id": "view-in-github",
        "colab_type": "text"
      },
      "source": [
        "<a href=\"https://colab.research.google.com/github/BossattoY/ENG_20242/blob/main/Atividade3/atv_fun%C3%A7%C3%B5es_lambda_18112024.ipynb\" target=\"_parent\"><img src=\"https://colab.research.google.com/assets/colab-badge.svg\" alt=\"Open In Colab\"/></a>"
      ]
    },
    {
      "cell_type": "code",
      "execution_count": 141,
      "metadata": {
        "id": "AYuPFxNhBapY"
      },
      "outputs": [],
      "source": [
        "# Lista Geral int\n",
        "geral_int = lambda : [-5, -4, -3, -2, -1, 1, 2, 3, 4, 5]\n",
        "\n",
        "# Lista Geral str\n",
        "geral_str = lambda : [\"barbara\", \"airton\", \"osvaldo\", \"dante\", \"paula\", \"fabio\", \"matheus\", \"ana\", \"isis\"]\n",
        "\n",
        "# Lista Geral idades\n",
        "geral_idade = lambda : [43, 16, 4, 83, 103, 14, 27, 9, 75]\n",
        "\n",
        "#1\n",
        "quadrado = list(map(lambda x1 : x1 ** 2, lista1))\n",
        "\n",
        "#2\n",
        "fahrenheit = lambda celsius: (celsius * 9/5) + 32\n",
        "\n",
        "#3\n",
        "tamanho_str = list(map(lambda x3 : len(x3), lista3))\n",
        "\n",
        "#4\n",
        "dobra = list(map(lambda x4 : x4 * 2, lista4))\n",
        "\n",
        "#5\n",
        "prefixo = list(map(lambda x5 : 'Sr/Sra ' + x5, lista5))\n",
        "\n",
        "#6\n",
        "pares = list(filter(lambda x6 : x6 % 2 == 0, lista6))\n",
        "\n",
        "#7\n",
        "menor_5 = list(filter(lambda x7 : len(x7) < 5, lista7))\n",
        "\n",
        "#8\n",
        "maior_18 = list(filter(lambda x8 : x8 > 18, lista8))\n",
        "\n",
        "#9\n",
        "inicio_a = list(filter(lambda x9 : x9[0] == 'a', lista9))\n",
        "\n",
        "#10\n",
        "positivos = list(filter(lambda x10 : x10 > 0, lista10))\n",
        "\n",
        "#11\n",
        "from functools import reduce\n",
        "soma = reduce(lambda x11, y11 : x11 + y11, lista11)\n",
        "\n",
        "#12\n",
        "from functools import reduce\n",
        "multiplica = reduce(lambda x12, y12 : x12 * y12, lista12)\n",
        "\n",
        "#13\n",
        "from functools import reduce\n",
        "maximo = reduce(lambda x13, y13 : x13 if x13 > y13 else y13, lista13)\n",
        "\n",
        "#14\n",
        "from functools import reduce\n",
        "unica_palavra = reduce(lambda x14, y14 : x14 + ' ' + y14, lista14)\n",
        "\n",
        "#15\n",
        "soma_digito = list(map(lambda x15: sum(int(x15) for x15 in str(x15)), lista15))\n",
        "\n",
        "#16\n",
        "dobro_maior_20 = list(map(lambda x16: x16 * 2, filter(lambda x16: x16 * 2 > 20, lista16)))\n",
        "\n",
        "#17\n",
        "contem_e = list(filter(lambda x17 : 'e' in x17, lista17))\n",
        "\n",
        "#18\n",
        "converte_celsius = list(filter(lambda x18 : (x18 - 32) * 5/9 > 20, lista18))\n",
        "celsius_maior_20 = list(map(lambda x18 : (x18 - 32) * 5/9, converte_celsius))\n",
        "\n",
        "#19\n",
        "from functools import reduce\n",
        "soma_par = reduce(lambda x19, y19 : x19 + y19, filter(lambda x19 : x19 % 2 == 0, lista19))\n",
        "\n",
        "#20\n",
        "troca_negativo = list(map(lambda x20 : 0 if x20 < 0 else x20, lista20))\n",
        "\n",
        "#21\n",
        "cubo = list(map(lambda x21 : x21**3, lista21))\n",
        "\n",
        "#22\n",
        "primo = lambda x22: x22 > 1 and all(x22 % i != 0 for i in range(2, int(x22**0.5) + 1))\n",
        "\n",
        "#23\n",
        "divide_por_5 = list(map(lambda x23 : (x23 / 5), lista23))\n",
        "\n",
        "#24\n",
        "str_sem_vogal = list(map(lambda x24 : ' '.join(x24 for x24 in x24 if x24 not in 'aeiouAEIOU'), str24))\n",
        "\n",
        "#25\n",
        "lista_maiuscula = list(map(lambda x25 : x25.upper(), lista25))\n",
        "\n",
        "#26\n",
        "int_negativos = list(filter(lambda x26 : x26 < 0, lista26))\n",
        "\n",
        "#27\n",
        "int_absolutos = list(map(lambda x27 : abs(x27), lista27))\n",
        "\n",
        "#28\n",
        "resto_divisao_3 = list(map(lambda x28 : x28%3, lista28))\n",
        "\n",
        "#29\n",
        "multiplica_indice = list(map(lambda x29 : x29[1]*x29[0], enumerate(lista29)))\n",
        "\n",
        "#30\n",
        "palindromo = lambda x30 : x30 == x30[::-1]\n"
      ]
    },
    {
      "cell_type": "code",
      "source": [
        "#1 Dada uma lista de números inteiros, use uma função lambda para retornar uma lista com o quadrado de cada número.\n",
        "lista1 = geral_int()\n",
        "print(quadrado)"
      ],
      "metadata": {
        "colab": {
          "base_uri": "https://localhost:8080/"
        },
        "id": "CShnMmb5CSo3",
        "outputId": "ea292d72-3caf-4d2d-a9c7-2f78a305b212"
      },
      "execution_count": 68,
      "outputs": [
        {
          "output_type": "stream",
          "name": "stdout",
          "text": [
            "[25, 16, 9, 4, 1, 1, 4, 9, 16, 25]\n"
          ]
        }
      ]
    },
    {
      "cell_type": "code",
      "source": [
        "#2 Dada uma lista de temperaturas em Celsius, use uma função lambda para convertê-las em Fahrenheit.\n",
        "celsius = input(\"Informe a Temperatura em Celsius para ser convertido em Fahrenheit: \")\n",
        "fahrenheit(float(celsius))"
      ],
      "metadata": {
        "colab": {
          "base_uri": "https://localhost:8080/"
        },
        "id": "kgXkGWSCFNT3",
        "outputId": "7a83d5cc-687a-4967-e37f-a4ea90904b8e"
      },
      "execution_count": 67,
      "outputs": [
        {
          "name": "stdout",
          "output_type": "stream",
          "text": [
            "Informe a Temperatura em Celsius para ser convertido em Fahrenheit: 0\n"
          ]
        },
        {
          "output_type": "execute_result",
          "data": {
            "text/plain": [
              "32.0"
            ]
          },
          "metadata": {},
          "execution_count": 67
        }
      ]
    },
    {
      "cell_type": "code",
      "source": [
        "#3 Dada uma lista de palavras, use uma função lambda para retornar uma lista com o comprimento de cada palavra.\n",
        "lista3 = geral_str()\n",
        "print(tamanho_str)"
      ],
      "metadata": {
        "colab": {
          "base_uri": "https://localhost:8080/"
        },
        "id": "L8XLaKESFNb3",
        "outputId": "82b0f691-8318-4350-9b07-b00d0533ee2e"
      },
      "execution_count": 66,
      "outputs": [
        {
          "output_type": "stream",
          "name": "stdout",
          "text": [
            "[7, 6, 7, 5, 5, 5, 7, 3, 4]\n"
          ]
        }
      ]
    },
    {
      "cell_type": "code",
      "source": [
        "#4 Use uma função lambda para dobrar os valores de uma lista de inteiros.\n",
        "lista4 = geral_int()\n",
        "print(dobra)"
      ],
      "metadata": {
        "colab": {
          "base_uri": "https://localhost:8080/"
        },
        "id": "03_-eMh4FNjP",
        "outputId": "cfa9e5a8-cac7-42ff-81e2-6d3e5cc2faf4"
      },
      "execution_count": 65,
      "outputs": [
        {
          "output_type": "stream",
          "name": "stdout",
          "text": [
            "[-10, -8, -6, -4, -2, 2, 4, 6, 8, 10]\n"
          ]
        }
      ]
    },
    {
      "cell_type": "code",
      "source": [
        "#5 Dada uma lista de nomes, use uma função lambda para adicionar o prefixo \"Sr./Sra.\" antes de cada nome.\n",
        "lista5 = geral_str()\n",
        "print(prefixo)"
      ],
      "metadata": {
        "colab": {
          "base_uri": "https://localhost:8080/"
        },
        "id": "a4ngz9KDFNqn",
        "outputId": "d487919d-7e1f-4f15-ea05-2435bf3f2a8b"
      },
      "execution_count": 64,
      "outputs": [
        {
          "output_type": "stream",
          "name": "stdout",
          "text": [
            "['Sr/Sra barbara', 'Sr/Sra airton', 'Sr/Sra osvaldo', 'Sr/Sra dante', 'Sr/Sra paula', 'Sr/Sra fabio', 'Sr/Sra matheus', 'Sr/Sra ana', 'Sr/Sra isis']\n"
          ]
        }
      ]
    },
    {
      "cell_type": "code",
      "source": [
        "#6 Dada uma lista de números, use uma função lambda para retornar apenas os números pares.\n",
        "lista6 = geral_int()\n",
        "print(pares)"
      ],
      "metadata": {
        "colab": {
          "base_uri": "https://localhost:8080/"
        },
        "id": "vlQQYALNFNx3",
        "outputId": "33a7757d-1ced-4ec6-a6c1-3cc6e48ea5ca"
      },
      "execution_count": 63,
      "outputs": [
        {
          "output_type": "stream",
          "name": "stdout",
          "text": [
            "[-4, -2, 2, 4]\n"
          ]
        }
      ]
    },
    {
      "cell_type": "code",
      "source": [
        "#7 Dada uma lista de palavras, use uma função lambda para retornar apenas as palavras com menos de 5 caracteres.\n",
        "lista7 = geral_str()\n",
        "print(menor_5)"
      ],
      "metadata": {
        "colab": {
          "base_uri": "https://localhost:8080/"
        },
        "id": "TFsQ961_FN4n",
        "outputId": "260e9fb4-6962-48cd-ca4c-a547b723e21d"
      },
      "execution_count": 62,
      "outputs": [
        {
          "output_type": "stream",
          "name": "stdout",
          "text": [
            "['ana', 'isis']\n"
          ]
        }
      ]
    },
    {
      "cell_type": "code",
      "source": [
        "#8 Dada uma lista de idades, use uma função lambda para retornar apenas as idades maiores que 18.\n",
        "lista8 = geral_idade()\n",
        "print(maior_18)"
      ],
      "metadata": {
        "colab": {
          "base_uri": "https://localhost:8080/"
        },
        "id": "GjAonp_MFOAP",
        "outputId": "f2380fa8-5684-470e-b569-b1790859ac07"
      },
      "execution_count": 61,
      "outputs": [
        {
          "output_type": "stream",
          "name": "stdout",
          "text": [
            "[43, 83, 103, 27, 75]\n"
          ]
        }
      ]
    },
    {
      "cell_type": "code",
      "source": [
        "#9 Dada uma lista de strings, use uma função lambda para retornar as strings que começam com a letra \"a\".\n",
        "lista9 = geral_str()\n",
        "print(inicio_a)"
      ],
      "metadata": {
        "colab": {
          "base_uri": "https://localhost:8080/"
        },
        "id": "j8rnvIRwFOHP",
        "outputId": "82bea907-5666-40ea-9126-0069f9d9543b"
      },
      "execution_count": 60,
      "outputs": [
        {
          "output_type": "stream",
          "name": "stdout",
          "text": [
            "['airton', 'ana']\n"
          ]
        }
      ]
    },
    {
      "cell_type": "code",
      "source": [
        "#10 Dada uma lista de números inteiros, use uma função lambda para retornar apenas os números positivos.\n",
        "lista10 = geral_int()\n",
        "print(positivos)"
      ],
      "metadata": {
        "colab": {
          "base_uri": "https://localhost:8080/"
        },
        "id": "-rOlYfZhFON_",
        "outputId": "7a2285ea-46ea-4633-96fd-8bee590b4aeb"
      },
      "execution_count": 59,
      "outputs": [
        {
          "output_type": "stream",
          "name": "stdout",
          "text": [
            "[1, 2, 3, 4, 5]\n"
          ]
        }
      ]
    },
    {
      "cell_type": "code",
      "source": [
        "#11 Use uma função lambda para calcular a soma de uma lista de números.\n",
        "lista11 = geral_int()\n",
        "print(soma)"
      ],
      "metadata": {
        "colab": {
          "base_uri": "https://localhost:8080/"
        },
        "id": "YNi5eIv3FOUP",
        "outputId": "81955cbc-7e3e-41a1-dccb-f86d704963c3"
      },
      "execution_count": 58,
      "outputs": [
        {
          "output_type": "stream",
          "name": "stdout",
          "text": [
            "0\n"
          ]
        }
      ]
    },
    {
      "cell_type": "code",
      "source": [
        "#12 Use uma função lambda para multiplicar todos os elementos de uma lista.\n",
        "lista12 = geral_int()\n",
        "print(multiplica)"
      ],
      "metadata": {
        "colab": {
          "base_uri": "https://localhost:8080/"
        },
        "id": "aSpUKGmBFOa_",
        "outputId": "a656a243-e527-48fd-c762-d4a540111f81"
      },
      "execution_count": 57,
      "outputs": [
        {
          "output_type": "stream",
          "name": "stdout",
          "text": [
            "-14400\n"
          ]
        }
      ]
    },
    {
      "cell_type": "code",
      "source": [
        "#13 Use uma função lambda para encontrar o maior número em uma lista.\n",
        "lista13 = geral_int()\n",
        "print(maximo)"
      ],
      "metadata": {
        "colab": {
          "base_uri": "https://localhost:8080/"
        },
        "id": "O0UOReI4FOhP",
        "outputId": "02784ede-73d0-4c3a-c350-79fa7478014b"
      },
      "execution_count": 56,
      "outputs": [
        {
          "output_type": "stream",
          "name": "stdout",
          "text": [
            "5\n"
          ]
        }
      ]
    },
    {
      "cell_type": "code",
      "source": [
        "#14 Use uma função lambda para concatenar uma lista de palavras em uma única string separada por espaços.\n",
        "lista14 = geral_str()\n",
        "print(unica_palavra)"
      ],
      "metadata": {
        "colab": {
          "base_uri": "https://localhost:8080/"
        },
        "id": "tTgxNQ_LFOnw",
        "outputId": "57b9a3b3-4a50-4a89-c8d6-0a9e357616b9"
      },
      "execution_count": 55,
      "outputs": [
        {
          "output_type": "stream",
          "name": "stdout",
          "text": [
            "barbara airton osvaldo dante paula fabio matheus ana isis\n"
          ]
        }
      ]
    },
    {
      "cell_type": "code",
      "source": [
        "#15 Use uma função lambda para somar os dígitos de uma lista de inteiros, onde cada número é tratado individualmente.\n",
        "lista15 = geral_idade()\n",
        "print(soma_digito)"
      ],
      "metadata": {
        "colab": {
          "base_uri": "https://localhost:8080/"
        },
        "id": "8kU-y53jFOt_",
        "outputId": "f7e0e489-90ca-4b94-dea7-ac91617bc6cb"
      },
      "execution_count": 54,
      "outputs": [
        {
          "output_type": "stream",
          "name": "stdout",
          "text": [
            "[7, 7, 4, 11, 4, 5, 9, 9, 12]\n"
          ]
        }
      ]
    },
    {
      "cell_type": "code",
      "source": [
        "#16 Use uma função lambda para dobrar os números de uma lista e retornar apenas os números que são maiores que 20.\n",
        "lista16 = geral_idade()\n",
        "print(dobro_maior_20)"
      ],
      "metadata": {
        "colab": {
          "base_uri": "https://localhost:8080/"
        },
        "id": "y2rOTo1wFOz3",
        "outputId": "a93ed5e5-5ccb-401f-a366-d5bfd385084e"
      },
      "execution_count": 53,
      "outputs": [
        {
          "output_type": "stream",
          "name": "stdout",
          "text": [
            "[86, 32, 166, 206, 28, 54, 150]\n"
          ]
        }
      ]
    },
    {
      "cell_type": "code",
      "source": [
        "#17 Dada uma lista de palavras, use uma função lambda para encontrar todas as palavras que contêm a letra \"e\" e conte quantas são.\n",
        "lista17 = geral_str()\n",
        "print(f\"A letra 'e' aparece em {len(contem_e)} palavra da string: {contem_e}\")"
      ],
      "metadata": {
        "id": "w0laMfXJFO6v",
        "colab": {
          "base_uri": "https://localhost:8080/"
        },
        "outputId": "ca68d12c-58da-461b-c121-391e22ce511b"
      },
      "execution_count": 52,
      "outputs": [
        {
          "output_type": "stream",
          "name": "stdout",
          "text": [
            "A letra 'e' aparece em 2 palavra da string: ['dante', 'matheus']\n"
          ]
        }
      ]
    },
    {
      "cell_type": "code",
      "source": [
        "#18 Converta uma lista de temperaturas de Fahrenheit para Celsius usando uma função lambda e, em seguida, retorne apenas as temperaturas abaixo de 20°C.\n",
        "lista18 = [220, 0, 130, 42, 12, 90, 60, 154, 205]\n",
        "print(celsius_maior_20)"
      ],
      "metadata": {
        "id": "I_LsAl_9FPBY",
        "colab": {
          "base_uri": "https://localhost:8080/"
        },
        "outputId": "b2dc75fc-bd4e-4eb1-9cd2-b7d2d856920b"
      },
      "execution_count": 51,
      "outputs": [
        {
          "output_type": "stream",
          "name": "stdout",
          "text": [
            "[104.44444444444444, 54.44444444444444, 32.22222222222222, 67.77777777777777, 96.11111111111111]\n"
          ]
        }
      ]
    },
    {
      "cell_type": "code",
      "source": [
        "#19 Use uma função lambda para selecionar apenas os números pares de uma lista e, em seguida, somar esses números.\n",
        "lista19 = geral_idade()\n",
        "print(soma_par)"
      ],
      "metadata": {
        "id": "5CYGUyNmFPII",
        "colab": {
          "base_uri": "https://localhost:8080/"
        },
        "outputId": "aa4bc830-220c-40cb-e469-1cd106266ca7"
      },
      "execution_count": 50,
      "outputs": [
        {
          "output_type": "stream",
          "name": "stdout",
          "text": [
            "34\n"
          ]
        }
      ]
    },
    {
      "cell_type": "code",
      "source": [
        "#20 Use uma função lambda para substituir números negativos de uma lista por 0 e manter os positivos.\n",
        "lista20 = geral_int()\n",
        "print(troca_negativo)"
      ],
      "metadata": {
        "id": "Wcu1rEizFPO_",
        "colab": {
          "base_uri": "https://localhost:8080/"
        },
        "outputId": "2403fc76-a174-4c65-91a6-913b6d367d74"
      },
      "execution_count": 49,
      "outputs": [
        {
          "output_type": "stream",
          "name": "stdout",
          "text": [
            "[0, 0, 0, 0, 0, 1, 2, 3, 4, 5]\n"
          ]
        }
      ]
    },
    {
      "cell_type": "code",
      "source": [
        "#21 Use uma função lambda para retornar a lista de cubos de cada elemento em uma lista de números.\n",
        "lista21 = geral_int()\n",
        "print(cubo)"
      ],
      "metadata": {
        "id": "wURcxNIFFQMY",
        "colab": {
          "base_uri": "https://localhost:8080/"
        },
        "outputId": "22720bd8-9048-46a6-c57d-42972d82be8c"
      },
      "execution_count": 48,
      "outputs": [
        {
          "output_type": "stream",
          "name": "stdout",
          "text": [
            "[-125, -64, -27, -8, -1, 1, 8, 27, 64, 125]\n"
          ]
        }
      ]
    },
    {
      "cell_type": "code",
      "source": [
        "#22 Use uma função lambda para verificar se um número dado é primo (retornando True ou False).\n",
        "x22 = int(input(\"Digite um número para verificar se é primo: \"))\n",
        "primo(x22)"
      ],
      "metadata": {
        "id": "_VzcDI0nFQS_",
        "colab": {
          "base_uri": "https://localhost:8080/"
        },
        "outputId": "300bc7a6-98da-44b7-b382-989dc68931d3"
      },
      "execution_count": 76,
      "outputs": [
        {
          "name": "stdout",
          "output_type": "stream",
          "text": [
            "Digite um número para verificar se é primo: 2\n"
          ]
        },
        {
          "output_type": "execute_result",
          "data": {
            "text/plain": [
              "True"
            ]
          },
          "metadata": {},
          "execution_count": 76
        }
      ]
    },
    {
      "cell_type": "code",
      "source": [
        "#23 Use uma função lambda para dividir cada elemento de uma lista por 5 e retornar a nova lista.\n",
        "lista23 = geral_int()\n",
        "print(divide_por_5)"
      ],
      "metadata": {
        "id": "qHizQNRWFQZ_",
        "colab": {
          "base_uri": "https://localhost:8080/"
        },
        "outputId": "c0a17f2a-dab8-4830-f69f-534a3ec42a48"
      },
      "execution_count": 81,
      "outputs": [
        {
          "output_type": "stream",
          "name": "stdout",
          "text": [
            "[-1.0, -0.8, -0.6, -0.4, -0.2, 0.2, 0.4, 0.6, 0.8, 1.0]\n"
          ]
        }
      ]
    },
    {
      "cell_type": "code",
      "source": [
        "#24 Use uma função lambda para remover todas as vogais de uma string dada.\n",
        "str24 = input(\"Digite uma palavra para remover suas vogais: \")\n",
        "print(str_sem_vogal)"
      ],
      "metadata": {
        "id": "IOhvRChyFQg_",
        "colab": {
          "base_uri": "https://localhost:8080/"
        },
        "outputId": "b5c4a818-c03b-46ba-b3c0-f7d28f97555e"
      },
      "execution_count": 92,
      "outputs": [
        {
          "output_type": "stream",
          "name": "stdout",
          "text": [
            "Digite uma palavra para remover suas vogais: CasA\n",
            "['c', '', 's', '']\n"
          ]
        }
      ]
    },
    {
      "cell_type": "code",
      "source": [
        "#25 Use uma função lambda para converter todas as palavras em uma lista para letras maiúsculas.\n",
        "lista25 = geral_str()\n",
        "print(lista_maiuscula)"
      ],
      "metadata": {
        "id": "x92-wpgTFQoI",
        "colab": {
          "base_uri": "https://localhost:8080/"
        },
        "outputId": "743fc44f-2ca1-4e76-d4eb-af66edb4f6da"
      },
      "execution_count": 99,
      "outputs": [
        {
          "output_type": "stream",
          "name": "stdout",
          "text": [
            "['BARBARA', 'AIRTON', 'OSVALDO', 'DANTE', 'PAULA', 'FABIO', 'MATHEUS', 'ANA', 'ISIS']\n"
          ]
        }
      ]
    },
    {
      "cell_type": "code",
      "source": [
        "#26 Use uma função lambda para retornar apenas os números negativos de uma lista de inteiros.\n",
        "lista26 = geral_int()\n",
        "print(int_negativos)"
      ],
      "metadata": {
        "id": "iN-xdG1WFQvH",
        "colab": {
          "base_uri": "https://localhost:8080/"
        },
        "outputId": "c0870c1f-9917-4fe0-be05-b052a808c256"
      },
      "execution_count": 102,
      "outputs": [
        {
          "output_type": "stream",
          "name": "stdout",
          "text": [
            "[-5, -4, -3, -2, -1]\n"
          ]
        }
      ]
    },
    {
      "cell_type": "code",
      "source": [
        "#27 Use uma função lambda para converter todos os números de uma lista para seus valores absolutos.\n",
        "lista27 = geral_int()\n",
        "print(int_absolutos)"
      ],
      "metadata": {
        "id": "jnx09veYFQ2Q",
        "colab": {
          "base_uri": "https://localhost:8080/"
        },
        "outputId": "e9d902e7-ea62-4bfa-9ddc-b117e35ea279"
      },
      "execution_count": 115,
      "outputs": [
        {
          "output_type": "stream",
          "name": "stdout",
          "text": [
            "[5, 4, 3, 2, 1, 1, 2, 3, 4, 5]\n"
          ]
        }
      ]
    },
    {
      "cell_type": "code",
      "source": [
        "#28 Use uma função lambda para retornar uma lista com o resto da divisão de cada elemento por 3.\n",
        "lista28 = geral_int()\n",
        "print(resto_divisao_3)"
      ],
      "metadata": {
        "id": "Exe-Mt1HFQ84",
        "colab": {
          "base_uri": "https://localhost:8080/"
        },
        "outputId": "7b304cc2-a85a-4de1-e2bc-57713be8667b"
      },
      "execution_count": 118,
      "outputs": [
        {
          "output_type": "stream",
          "name": "stdout",
          "text": [
            "[1, 2, 0, 1, 2, 1, 2, 0, 1, 2]\n"
          ]
        }
      ]
    },
    {
      "cell_type": "code",
      "source": [
        "#29 Dada uma lista de números, use uma função lambda para multiplicar cada elemento pelo seu índice.\n",
        "lista29 = geral_int()\n",
        "print(multiplica_indice)"
      ],
      "metadata": {
        "id": "o_3VaTIJFRDA",
        "colab": {
          "base_uri": "https://localhost:8080/"
        },
        "outputId": "93af9536-84be-40a7-ad99-0a4602da3775"
      },
      "execution_count": 124,
      "outputs": [
        {
          "output_type": "stream",
          "name": "stdout",
          "text": [
            "[0, -4, -6, -6, -4, 5, 12, 21, 32, 45]\n"
          ]
        }
      ]
    },
    {
      "cell_type": "code",
      "source": [
        "#30 Use uma função lambda para verificar se uma palavra dada é um palíndromo (retornando True ou False).\n",
        "x30 = input(\"Digite uma palavra para verificar se é um palíndromo: \")\n",
        "palindromo(x30)\n"
      ],
      "metadata": {
        "id": "0e0gWpp9FRJo",
        "colab": {
          "base_uri": "https://localhost:8080/"
        },
        "outputId": "188d820d-9fb2-4ce0-9e5c-6d57d3207d9f"
      },
      "execution_count": 144,
      "outputs": [
        {
          "name": "stdout",
          "output_type": "stream",
          "text": [
            "Digite uma palavra para verificar se é um palíndromo: maria\n"
          ]
        },
        {
          "output_type": "execute_result",
          "data": {
            "text/plain": [
              "False"
            ]
          },
          "metadata": {},
          "execution_count": 144
        }
      ]
    }
  ]
}