{
  "nbformat": 4,
  "nbformat_minor": 0,
  "metadata": {
    "colab": {
      "provenance": [],
      "authorship_tag": "ABX9TyPbDP8y3xlyLkmJ3sE8kvP9",
      "include_colab_link": true
    },
    "kernelspec": {
      "name": "python3",
      "display_name": "Python 3"
    },
    "language_info": {
      "name": "python"
    }
  },
  "cells": [
    {
      "cell_type": "markdown",
      "metadata": {
        "id": "view-in-github",
        "colab_type": "text"
      },
      "source": [
        "<a href=\"https://colab.research.google.com/github/BossattoY/ENG_20242/blob/main/Atividade3/atv_fun%C3%A7%C3%B5es_lambda_18112024.ipynb\" target=\"_parent\"><img src=\"https://colab.research.google.com/assets/colab-badge.svg\" alt=\"Open In Colab\"/></a>"
      ]
    },
    {
      "cell_type": "code",
      "execution_count": 323,
      "metadata": {
        "id": "AYuPFxNhBapY"
      },
      "outputs": [],
      "source": [
        "# Lista Geral int\n",
        "geral_int = lambda : [-5, -4, -3, -2, -1, 1, 2, 3, 4, 5]\n",
        "\n",
        "# Lista Geral str\n",
        "geral_str = lambda : [\"barbara\", \"airton\", \"osvaldo\", \"dante\", \"paula\", \"fabio\", \"matheus\", \"ana\", \"isis\"]\n",
        "\n",
        "# Lista Geral idades\n",
        "geral_idade = lambda : [43, 16, 4, 83, 103, 14, 27, 9, 75]\n",
        "\n",
        "#1\n",
        "quadrado = list(map(lambda x1 : x1 ** 2, lista1))\n",
        "\n",
        "#2\n",
        "fahrenheit = lambda celsius: (celsius * 9/5) + 32\n",
        "\n",
        "#3\n",
        "tamanho_str = list(map(lambda x3 : len(x3), lista3))\n",
        "\n",
        "#4\n",
        "dobra = list(map(lambda x4 : x4 * 2, lista4))\n",
        "\n",
        "#5\n",
        "prefixo = list(map(lambda x5 : 'Sr/Sra ' + x5, lista5))\n",
        "\n",
        "#6\n",
        "pares = list(filter(lambda x6 : x6 % 2 == 0, lista6))\n",
        "\n",
        "#7\n",
        "menor_5 = list(filter(lambda x7 : len(x7) < 5, lista7))\n",
        "\n",
        "#8\n",
        "maior_18 = list(filter(lambda x8 : x8 > 18, lista8))\n",
        "\n",
        "#9\n",
        "inicio_a = list(filter(lambda x9 : x9[0] == 'a', lista9))\n",
        "\n",
        "#10\n",
        "positivos = list(filter(lambda x10 : x10 > 0, lista10))\n",
        "\n",
        "#11\n",
        "from functools import reduce\n",
        "soma = reduce(lambda x11, y11 : x11 + y11, lista11)\n",
        "\n",
        "#12\n",
        "from functools import reduce\n",
        "multiplica = reduce(lambda x12, y12 : x12 * y12, lista12)\n",
        "\n",
        "#13\n",
        "from functools import reduce\n",
        "maximo = reduce(lambda x13, y13 : x13 if x13 > y13 else y13, lista13)\n",
        "\n",
        "#14\n",
        "from functools import reduce\n",
        "unica_palavra = reduce(lambda x14, y14 : x14 + ' ' + y14, lista14)\n",
        "\n",
        "#15\n",
        "soma_digito = list(map(lambda x15: sum(int(x15) for x15 in str(x15)), lista15))\n",
        "\n",
        "#16\n",
        "dobro_maior_20 = list(map(lambda x16: x16 * 2, filter(lambda x16: x16 * 2 > 20, lista16)))\n",
        "\n",
        "#17\n",
        "\n",
        "\n",
        "#18\n",
        "\n",
        "\n",
        "#19\n",
        "\n",
        "\n",
        "#20\n",
        "\n",
        "\n",
        "#21\n",
        "\n",
        "\n",
        "#22\n",
        "\n",
        "\n",
        "#23\n",
        "\n",
        "\n",
        "#24\n",
        "\n",
        "\n",
        "#25\n",
        "\n",
        "\n",
        "#26\n",
        "\n",
        "\n",
        "#27\n",
        "\n",
        "\n",
        "#28\n",
        "\n",
        "\n",
        "#29\n",
        "\n",
        "\n",
        "#30\n",
        "\n"
      ]
    },
    {
      "cell_type": "code",
      "source": [
        "#1 Dada uma lista de números inteiros, use uma função lambda para retornar uma lista com o quadrado de cada número.\n",
        "lista1 = geral_int()\n",
        "print(quadrado)"
      ],
      "metadata": {
        "colab": {
          "base_uri": "https://localhost:8080/"
        },
        "id": "CShnMmb5CSo3",
        "outputId": "a59c6c78-2291-42d1-89a5-00a5432c40ea"
      },
      "execution_count": 287,
      "outputs": [
        {
          "output_type": "stream",
          "name": "stdout",
          "text": [
            "[25, 16, 9, 4, 1, 1, 4, 9, 16, 25]\n"
          ]
        }
      ]
    },
    {
      "cell_type": "code",
      "source": [
        "#2 Dada uma lista de temperaturas em Celsius, use uma função lambda para convertê-las em Fahrenheit.\n",
        "celsius = input(\"Informe a Temperatura em Celsius para ser convertido em Fahrenheit: \")\n",
        "fahrenheit(float(celsius))"
      ],
      "metadata": {
        "colab": {
          "base_uri": "https://localhost:8080/"
        },
        "id": "kgXkGWSCFNT3",
        "outputId": "1bca494b-e64c-443e-aa7d-569362dbdb1e"
      },
      "execution_count": 288,
      "outputs": [
        {
          "name": "stdout",
          "output_type": "stream",
          "text": [
            "Informe a Temperatura em Celsius para ser convertido em Fahrenheit: 50\n"
          ]
        },
        {
          "output_type": "execute_result",
          "data": {
            "text/plain": [
              "122.0"
            ]
          },
          "metadata": {},
          "execution_count": 288
        }
      ]
    },
    {
      "cell_type": "code",
      "source": [
        "#3 Dada uma lista de palavras, use uma função lambda para retornar uma lista com o comprimento de cada palavra.\n",
        "lista3 = geral_str()\n",
        "print(tamanho_str)"
      ],
      "metadata": {
        "colab": {
          "base_uri": "https://localhost:8080/"
        },
        "id": "L8XLaKESFNb3",
        "outputId": "76bf3c83-aa10-4e64-9322-9efbe46c8a02"
      },
      "execution_count": 289,
      "outputs": [
        {
          "output_type": "stream",
          "name": "stdout",
          "text": [
            "[7, 6, 7, 5, 5, 5, 7, 3, 4]\n"
          ]
        }
      ]
    },
    {
      "cell_type": "code",
      "source": [
        "#4 Use uma função lambda para dobrar os valores de uma lista de inteiros.\n",
        "lista4 = geral_int()\n",
        "print(dobra)"
      ],
      "metadata": {
        "colab": {
          "base_uri": "https://localhost:8080/"
        },
        "id": "03_-eMh4FNjP",
        "outputId": "688691c8-39de-4e6a-b92c-9ea301aec2b6"
      },
      "execution_count": 290,
      "outputs": [
        {
          "output_type": "stream",
          "name": "stdout",
          "text": [
            "[-10, -8, -6, -4, -2, 2, 4, 6, 8, 10]\n"
          ]
        }
      ]
    },
    {
      "cell_type": "code",
      "source": [
        "#5 Dada uma lista de nomes, use uma função lambda para adicionar o prefixo \"Sr./Sra.\" antes de cada nome.\n",
        "lista5 = geral_str()\n",
        "print(prefixo)"
      ],
      "metadata": {
        "colab": {
          "base_uri": "https://localhost:8080/"
        },
        "id": "a4ngz9KDFNqn",
        "outputId": "6d165547-06b6-4f33-bdd5-31583a0cdf16"
      },
      "execution_count": 291,
      "outputs": [
        {
          "output_type": "stream",
          "name": "stdout",
          "text": [
            "['Sr/Sra barbara', 'Sr/Sra airton', 'Sr/Sra osvaldo', 'Sr/Sra dante', 'Sr/Sra paula', 'Sr/Sra fabio', 'Sr/Sra matheus', 'Sr/Sra ana', 'Sr/Sra isis']\n"
          ]
        }
      ]
    },
    {
      "cell_type": "code",
      "source": [
        "#6 Dada uma lista de números, use uma função lambda para retornar apenas os números pares.\n",
        "lista6 = geral_int()\n",
        "print(pares)"
      ],
      "metadata": {
        "colab": {
          "base_uri": "https://localhost:8080/"
        },
        "id": "vlQQYALNFNx3",
        "outputId": "26844bf7-4d7e-412c-88d3-a821ae9a3c22"
      },
      "execution_count": 292,
      "outputs": [
        {
          "output_type": "stream",
          "name": "stdout",
          "text": [
            "[-4, -2, 2, 4]\n"
          ]
        }
      ]
    },
    {
      "cell_type": "code",
      "source": [
        "#7 Dada uma lista de palavras, use uma função lambda para retornar apenas as palavras com menos de 5 caracteres.\n",
        "lista7 = geral_str()\n",
        "print(menor_5)"
      ],
      "metadata": {
        "colab": {
          "base_uri": "https://localhost:8080/"
        },
        "id": "TFsQ961_FN4n",
        "outputId": "221dcb30-1b23-4bb3-cfff-4a4cd04daea8"
      },
      "execution_count": 293,
      "outputs": [
        {
          "output_type": "stream",
          "name": "stdout",
          "text": [
            "['ana', 'isis']\n"
          ]
        }
      ]
    },
    {
      "cell_type": "code",
      "source": [
        "#8 Dada uma lista de idades, use uma função lambda para retornar apenas as idades maiores que 18.\n",
        "lista8 = geral_idade()\n",
        "print(maior_18)"
      ],
      "metadata": {
        "colab": {
          "base_uri": "https://localhost:8080/"
        },
        "id": "GjAonp_MFOAP",
        "outputId": "563243c6-5e7f-46b8-c186-86f7be79fc0e"
      },
      "execution_count": 294,
      "outputs": [
        {
          "output_type": "stream",
          "name": "stdout",
          "text": [
            "[43, 83, 103, 27, 75]\n"
          ]
        }
      ]
    },
    {
      "cell_type": "code",
      "source": [
        "#9 Dada uma lista de strings, use uma função lambda para retornar as strings que começam com a letra \"a\".\n",
        "lista9 = geral_str()\n",
        "print(inicio_a)"
      ],
      "metadata": {
        "colab": {
          "base_uri": "https://localhost:8080/"
        },
        "id": "j8rnvIRwFOHP",
        "outputId": "c4ab5be4-deee-45b5-8bc4-12ec898cfec3"
      },
      "execution_count": 295,
      "outputs": [
        {
          "output_type": "stream",
          "name": "stdout",
          "text": [
            "['airton', 'ana']\n"
          ]
        }
      ]
    },
    {
      "cell_type": "code",
      "source": [
        "#10 Dada uma lista de números inteiros, use uma função lambda para retornar apenas os números positivos.\n",
        "lista10 = geral_int()\n",
        "print(positivos)"
      ],
      "metadata": {
        "colab": {
          "base_uri": "https://localhost:8080/"
        },
        "id": "-rOlYfZhFON_",
        "outputId": "f13148c0-c6a2-4cf2-e38b-016ed6389f50"
      },
      "execution_count": 296,
      "outputs": [
        {
          "output_type": "stream",
          "name": "stdout",
          "text": [
            "[1, 2, 3, 4, 5]\n"
          ]
        }
      ]
    },
    {
      "cell_type": "code",
      "source": [
        "#11 Use uma função lambda para calcular a soma de uma lista de números.\n",
        "lista11 = geral_int()\n",
        "print(soma)"
      ],
      "metadata": {
        "colab": {
          "base_uri": "https://localhost:8080/"
        },
        "id": "YNi5eIv3FOUP",
        "outputId": "2ab80547-9222-4cc6-d8bf-5065ae2c2ae9"
      },
      "execution_count": 297,
      "outputs": [
        {
          "output_type": "stream",
          "name": "stdout",
          "text": [
            "0\n"
          ]
        }
      ]
    },
    {
      "cell_type": "code",
      "source": [
        "#12 Use uma função lambda para multiplicar todos os elementos de uma lista.\n",
        "lista12 = geral_int()\n",
        "print(multiplica)"
      ],
      "metadata": {
        "colab": {
          "base_uri": "https://localhost:8080/"
        },
        "id": "aSpUKGmBFOa_",
        "outputId": "4119260f-989f-46ef-c58a-32537aac1de2"
      },
      "execution_count": 298,
      "outputs": [
        {
          "output_type": "stream",
          "name": "stdout",
          "text": [
            "-14400\n"
          ]
        }
      ]
    },
    {
      "cell_type": "code",
      "source": [
        "#13 Use uma função lambda para encontrar o maior número em uma lista.\n",
        "lista13 = geral_int()\n",
        "print(maximo)"
      ],
      "metadata": {
        "colab": {
          "base_uri": "https://localhost:8080/"
        },
        "id": "O0UOReI4FOhP",
        "outputId": "2624564c-202a-4bff-a104-2f52e85738d1"
      },
      "execution_count": 299,
      "outputs": [
        {
          "output_type": "stream",
          "name": "stdout",
          "text": [
            "5\n"
          ]
        }
      ]
    },
    {
      "cell_type": "code",
      "source": [
        "#14 Use uma função lambda para concatenar uma lista de palavras em uma única string separada por espaços.\n",
        "lista14 = geral_str()\n",
        "print(unica_palavra)"
      ],
      "metadata": {
        "colab": {
          "base_uri": "https://localhost:8080/"
        },
        "id": "tTgxNQ_LFOnw",
        "outputId": "40cb990b-9942-4c07-da28-be30c7424cab"
      },
      "execution_count": 300,
      "outputs": [
        {
          "output_type": "stream",
          "name": "stdout",
          "text": [
            "barbara airton osvaldo dante paula fabio matheus ana isis\n"
          ]
        }
      ]
    },
    {
      "cell_type": "code",
      "source": [
        "#15 Use uma função lambda para somar os dígitos de uma lista de inteiros, onde cada número é tratado individualmente.\n",
        "lista15 = geral_idade()\n",
        "print(soma_digito)"
      ],
      "metadata": {
        "colab": {
          "base_uri": "https://localhost:8080/"
        },
        "id": "8kU-y53jFOt_",
        "outputId": "51c962fd-3d68-4e87-8461-33d3e693c7e9"
      },
      "execution_count": 301,
      "outputs": [
        {
          "output_type": "stream",
          "name": "stdout",
          "text": [
            "[7, 7, 4, 11, 4, 5, 9, 9, 12]\n"
          ]
        }
      ]
    },
    {
      "cell_type": "code",
      "source": [
        "#16 Use uma função lambda para dobrar os números de uma lista e retornar apenas os números que são maiores que 20.\n",
        "lista16 = geral_idade()\n",
        "print(dobro_maior_20)"
      ],
      "metadata": {
        "colab": {
          "base_uri": "https://localhost:8080/"
        },
        "id": "y2rOTo1wFOz3",
        "outputId": "e57b5dcb-b63f-405d-8bf0-96b8257667c3"
      },
      "execution_count": 324,
      "outputs": [
        {
          "output_type": "stream",
          "name": "stdout",
          "text": [
            "[86, 32, 166, 206, 28, 54, 150]\n"
          ]
        }
      ]
    },
    {
      "cell_type": "code",
      "source": [
        "#17 Dada uma lista de palavras, use uma função lambda para encontrar todas as palavras que contêm a letra \"e\" e conte quantas são.\n"
      ],
      "metadata": {
        "id": "w0laMfXJFO6v"
      },
      "execution_count": null,
      "outputs": []
    },
    {
      "cell_type": "code",
      "source": [
        "#18 Converta uma lista de temperaturas de Fahrenheit para Celsius usando uma função lambda e, em seguida, retorne apenas as temperaturas abaixo de 20°C.\n"
      ],
      "metadata": {
        "id": "I_LsAl_9FPBY"
      },
      "execution_count": null,
      "outputs": []
    },
    {
      "cell_type": "code",
      "source": [
        "#19 Use uma função lambda para selecionar apenas os números pares de uma lista e, em seguida, somar esses números.\n"
      ],
      "metadata": {
        "id": "5CYGUyNmFPII"
      },
      "execution_count": null,
      "outputs": []
    },
    {
      "cell_type": "code",
      "source": [
        "#20 Use uma função lambda para substituir números negativos de uma lista por 0 e manter os positivos.\n"
      ],
      "metadata": {
        "id": "Wcu1rEizFPO_"
      },
      "execution_count": null,
      "outputs": []
    },
    {
      "cell_type": "code",
      "source": [
        "#21 Use uma função lambda para retornar a lista de cubos de cada elemento em uma lista de números.\n"
      ],
      "metadata": {
        "id": "wURcxNIFFQMY"
      },
      "execution_count": null,
      "outputs": []
    },
    {
      "cell_type": "code",
      "source": [
        "#22 Use uma função lambda para verificar se um número dado é primo (retornando True ou False).\n"
      ],
      "metadata": {
        "id": "_VzcDI0nFQS_"
      },
      "execution_count": null,
      "outputs": []
    },
    {
      "cell_type": "code",
      "source": [
        "#23 Use uma função lambda para dividir cada elemento de uma lista por 5 e retornar a nova lista.\n"
      ],
      "metadata": {
        "id": "qHizQNRWFQZ_"
      },
      "execution_count": null,
      "outputs": []
    },
    {
      "cell_type": "code",
      "source": [
        "#24 Use uma função lambda para remover todas as vogais de uma string dada.\n"
      ],
      "metadata": {
        "id": "IOhvRChyFQg_"
      },
      "execution_count": null,
      "outputs": []
    },
    {
      "cell_type": "code",
      "source": [
        "#25 Use uma função lambda para converter todas as palavras em uma lista para letras maiúsculas.\n"
      ],
      "metadata": {
        "id": "x92-wpgTFQoI"
      },
      "execution_count": null,
      "outputs": []
    },
    {
      "cell_type": "code",
      "source": [
        "#26 Use uma função lambda para retornar apenas os números negativos de uma lista de inteiros.\n"
      ],
      "metadata": {
        "id": "iN-xdG1WFQvH"
      },
      "execution_count": null,
      "outputs": []
    },
    {
      "cell_type": "code",
      "source": [
        "#27 Use uma função lambda para converter todos os números de uma lista para seus valores absolutos.\n"
      ],
      "metadata": {
        "id": "jnx09veYFQ2Q"
      },
      "execution_count": null,
      "outputs": []
    },
    {
      "cell_type": "code",
      "source": [
        "#28 Use uma função lambda para retornar uma lista com o resto da divisão de cada elemento por 3.\n"
      ],
      "metadata": {
        "id": "Exe-Mt1HFQ84"
      },
      "execution_count": null,
      "outputs": []
    },
    {
      "cell_type": "code",
      "source": [
        "#29 Dada uma lista de números, use uma função lambda para multiplicar cada elemento pelo seu índice.\n"
      ],
      "metadata": {
        "id": "o_3VaTIJFRDA"
      },
      "execution_count": null,
      "outputs": []
    },
    {
      "cell_type": "code",
      "source": [
        "#30 Use uma função lambda para verificar se uma palavra dada é um palíndromo (retornando True ou False).\n"
      ],
      "metadata": {
        "id": "0e0gWpp9FRJo"
      },
      "execution_count": null,
      "outputs": []
    }
  ]
}