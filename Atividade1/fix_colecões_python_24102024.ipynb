{
  "nbformat": 4,
  "nbformat_minor": 0,
  "metadata": {
    "colab": {
      "provenance": [],
      "authorship_tag": "ABX9TyMbvIUHiupDH4+ewl0Ds4hF",
      "include_colab_link": true
    },
    "kernelspec": {
      "name": "python3",
      "display_name": "Python 3"
    },
    "language_info": {
      "name": "python"
    }
  },
  "cells": [
    {
      "cell_type": "markdown",
      "metadata": {
        "id": "view-in-github",
        "colab_type": "text"
      },
      "source": [
        "<a href=\"https://colab.research.google.com/github/BossattoY/ENG_20242/blob/main/Atividade1/fix_colec%C3%B5es_python_24102024.ipynb\" target=\"_parent\"><img src=\"https://colab.research.google.com/assets/colab-badge.svg\" alt=\"Open In Colab\"/></a>"
      ]
    },
    {
      "cell_type": "code",
      "execution_count": 22,
      "metadata": {
        "id": "K0dyDPl6KZWX",
        "colab": {
          "base_uri": "https://localhost:8080/"
        },
        "outputId": "fd5481b7-5dce-4f13-8148-a6548db53964"
      },
      "outputs": [
        {
          "output_type": "stream",
          "name": "stdout",
          "text": [
            "2\n",
            "4\n",
            "6\n",
            "8\n",
            "10\n"
          ]
        }
      ],
      "source": [
        "#1. Crie uma lista contendo cinco números inteiros de sua escolha. Em seguida,\n",
        "# percorra essa lista e imprima o valor de cada elemento multiplicado por 2.\n",
        "# O resultado deve mostrar o novo valor de cada elemento, um por vez.\n",
        "\n",
        "numeros = [1, 2, 3, 4, 5]\n",
        "\n",
        "for i in range(len(numeros)):\n",
        "\n",
        "  numeros[i] = numeros[i]*2\n",
        "\n",
        "  print(numeros[i])"
      ]
    },
    {
      "cell_type": "code",
      "source": [
        "#2. Dada a lista [\"maçã\", \"banana\", \"laranja\", \"uva\"], remova o item \"banana\" da lista\n",
        "# e adicione a fruta \"melancia\" no lugar. Depois, mostre a nova lista atualizada com as alterações feitas.\n",
        "\n",
        "frutas = [\"maçã\", \"banana\", \"laranja\", \"uva\"]\n",
        "\n",
        "frutas.remove(\"banana\")\n",
        "frutas.insert(1, \"melancia\")\n",
        "\n",
        "print(frutas)"
      ],
      "metadata": {
        "id": "khJst6x9K7h8",
        "colab": {
          "base_uri": "https://localhost:8080/"
        },
        "outputId": "a8617bf7-4846-44ef-9cbb-96b3b2ea03b6"
      },
      "execution_count": 2,
      "outputs": [
        {
          "output_type": "stream",
          "name": "stdout",
          "text": [
            "['maçã', 'melancia', 'laranja', 'uva']\n"
          ]
        }
      ]
    },
    {
      "cell_type": "code",
      "source": [
        "#3. Escreva um programa que receba uma lista de números inteiros e exiba qual é\n",
        "# o maior número e qual é o menor número presente na lista. Certifique-se de mostrar ambos os valores ao final.\n",
        "\n",
        "numeros = [1, 4, 7, 34, 2, 75, -15]\n",
        "\n",
        "maior = max(numeros)\n",
        "menor = min(numeros)\n",
        "\n",
        "print(f\"O menor valor da lista é {menor} e o maior é {maior}\")"
      ],
      "metadata": {
        "id": "3e2ex_uRK7pd",
        "colab": {
          "base_uri": "https://localhost:8080/"
        },
        "outputId": "4f37f671-14a8-4806-b6d4-099e60cd01dc"
      },
      "execution_count": 3,
      "outputs": [
        {
          "output_type": "stream",
          "name": "stdout",
          "text": [
            "O menor valor da lista é -15 e o maior é 75\n"
          ]
        }
      ]
    },
    {
      "cell_type": "code",
      "source": [
        "#4. Crie uma função que receba uma lista contendo várias palavras (strings).\n",
        "# A função deve devolver uma nova lista que contenha a quantidade de letras de cada palavra da lista original.\n",
        "# Exiba essa nova lista com o número de letras correspondente a cada palavra.\n",
        "\n",
        "palavras = [\"carro\", \"moto\", \"avião\", \"bicicleta\", \"navio\"]\n",
        "tamanho = []\n",
        "\n",
        "for i in range(len(palavras)):\n",
        "  tamanho.insert(i, len(palavras[i]))\n",
        "\n",
        "print(tamanho)"
      ],
      "metadata": {
        "id": "xyPL7IjYK7vk",
        "colab": {
          "base_uri": "https://localhost:8080/"
        },
        "outputId": "a841088e-3476-4a4c-8a93-a751ec32bd0b"
      },
      "execution_count": 4,
      "outputs": [
        {
          "output_type": "stream",
          "name": "stdout",
          "text": [
            "[5, 4, 5, 9, 5]\n"
          ]
        }
      ]
    },
    {
      "cell_type": "code",
      "source": [
        "#5. Dada uma lista de números inteiros que você vai definir,\n",
        "# ordene essa lista em ordem crescente e depois exiba o resultado da lista ordenada.\n",
        "\n",
        "numeros = [1, 4, 7, 34, 2, 75, -15]\n",
        "\n",
        "numeros.sort()\n",
        "\n",
        "print(numeros)"
      ],
      "metadata": {
        "id": "VUu0cjwIK7z8",
        "colab": {
          "base_uri": "https://localhost:8080/"
        },
        "outputId": "4f5360dc-83f1-4b89-cc30-232718eada2e"
      },
      "execution_count": 5,
      "outputs": [
        {
          "output_type": "stream",
          "name": "stdout",
          "text": [
            "[-15, 1, 2, 4, 7, 34, 75]\n"
          ]
        }
      ]
    },
    {
      "cell_type": "code",
      "source": [
        "#6. Crie uma tupla que contenha os números de 1 a 5. Tente alterar o valor\n",
        "# do segundo elemento dessa tupla e observe o que acontece. No final,\n",
        "# explique por que você conseguiu ou não modificar o valor.\n",
        "\n",
        "numeros = (1, 2, 3, 4, 5)\n",
        "\n",
        "#numeros[1] = 0\n",
        "# Caso retiremos a linha acima como comentário, ocorre um erro, pois não pode ser atribuido valor a uma tupla\n",
        "\n",
        "print(numeros)"
      ],
      "metadata": {
        "id": "-Vg2ygmDK73V",
        "colab": {
          "base_uri": "https://localhost:8080/"
        },
        "outputId": "a0f6e358-fd42-446c-ea5a-13345d1fe548"
      },
      "execution_count": 6,
      "outputs": [
        {
          "output_type": "stream",
          "name": "stdout",
          "text": [
            "(1, 2, 3, 4, 5)\n"
          ]
        }
      ]
    },
    {
      "cell_type": "code",
      "source": [
        "#7. Escreva um programa que receba uma tupla contendo diversos números inteiros. O programa deve calcular e exibir a soma de todos os números presentes na tupla.\n",
        "\n",
        "numeros = (3, 5, 6, 2, 7, 1)\n",
        "soma = 0\n",
        "\n",
        "for i in range(len(numeros)):\n",
        "  soma += numeros[i]\n",
        "\n",
        "print(f\"A somas dos numeros da tupla é de {soma}\")"
      ],
      "metadata": {
        "id": "ql5YS9o1K77D",
        "colab": {
          "base_uri": "https://localhost:8080/"
        },
        "outputId": "8db648da-ad8b-4381-a34a-687c4ebaf399"
      },
      "execution_count": 7,
      "outputs": [
        {
          "output_type": "stream",
          "name": "stdout",
          "text": [
            "A somas dos numeros da tupla é de 24\n"
          ]
        }
      ]
    },
    {
      "cell_type": "code",
      "source": [
        "#8. Dada uma tupla que contém cinco números, crie uma função que retorne\n",
        "# o primeiro e o último número dessa tupla. O programa deve imprimir ambos os valores corretamente.\n",
        "\n",
        "valores = (4, 6, 2, 9, 3)\n",
        "\n",
        "primeiro = valores[0]\n",
        "ultimo = valores[-1]\n",
        "\n",
        "print(f\"O primeiro número da tupla é {primeiro} e o ultimo {ultimo}\")"
      ],
      "metadata": {
        "id": "j_6INtKNK7_E",
        "colab": {
          "base_uri": "https://localhost:8080/"
        },
        "outputId": "3eb321a8-ab06-44e7-d7e7-a7b73bfe88f3"
      },
      "execution_count": 21,
      "outputs": [
        {
          "output_type": "stream",
          "name": "stdout",
          "text": [
            "O primeiro número da tupla é 4 e o ultimo 3\n"
          ]
        }
      ]
    },
    {
      "cell_type": "code",
      "source": [
        "#9. Converta a lista [\"a\", \"b\", \"c\", \"d\"] em uma tupla e, em seguida,\n",
        "# exiba o tipo do novo objeto que foi criado. O programa deve deixar claro que o tipo mudou de lista para tupla.\n",
        "\n",
        "lista = [\"a\", \"b\", \"c\", \"d\"]\n",
        "\n",
        "tupla = tuple(lista)\n",
        "\n",
        "print(f\"O novo objeto criado é {tupla}, que era anteriormente {type(lista)} e agora é {type(tupla)}\")"
      ],
      "metadata": {
        "id": "iuH5IwOHK8Cl",
        "colab": {
          "base_uri": "https://localhost:8080/"
        },
        "outputId": "325f59bc-de69-4bd3-c122-7e850c0db50c"
      },
      "execution_count": 20,
      "outputs": [
        {
          "output_type": "stream",
          "name": "stdout",
          "text": [
            "O novo objeto criado é ('a', 'b', 'c', 'd'), que era anteriormente <class 'list'> e agora é <class 'tuple'>\n"
          ]
        }
      ]
    },
    {
      "cell_type": "code",
      "source": [
        "#10. Crie uma tupla com três números inteiros e uma string. Depois, verifique\n",
        "# se o número 3 está presente nessa tupla e mostre uma mensagem dizendo se o número foi encontrado ou não.\n",
        "\n",
        "tupla = (1, 2, 3, \"quatro\")\n",
        "\n",
        "if 3 in tupla:\n",
        "  print(\"O número 3 foi encontrado na tupla\")\n",
        "else:\n",
        "  print(\"O número 3 não foi encontrado na tupla\")"
      ],
      "metadata": {
        "id": "bR6LZwlxK8Gt",
        "colab": {
          "base_uri": "https://localhost:8080/"
        },
        "outputId": "5060143e-2fb2-4a7e-9139-761c4d5feb33"
      },
      "execution_count": 19,
      "outputs": [
        {
          "output_type": "stream",
          "name": "stdout",
          "text": [
            "O número 3 foi encontrado na tupla\n"
          ]
        }
      ]
    },
    {
      "cell_type": "code",
      "source": [
        "#11. Crie dois sets: set1 = {1, 2, 3, 4} e set2 = {3, 4, 5, 6}. Exiba a união\n",
        "# dos dois sets (todos os elementos sem repetição), a interseção (elementos que aparecem nos dois sets) e\n",
        "# a diferença (elementos presentes no primeiro set, mas não no segundo). Mostre os resultados de cada operação.\n",
        "\n",
        "set1 = {1, 2, 3, 4}\n",
        "set2 = {3, 4, 5, 6}\n",
        "\n",
        "união = set1.union(set2)\n",
        "interseção = set1.intersection(set2)\n",
        "diferença = set1.difference(set2)\n",
        "\n",
        "print(\"União dos conjuntos: \", união)\n",
        "print(\"Interseção dos conjuntos: \", interseção)\n",
        "print(\"Diferença entre o primeiro e segundo conjunto: \", diferença)"
      ],
      "metadata": {
        "id": "tSNeCUMSK8Os",
        "colab": {
          "base_uri": "https://localhost:8080/"
        },
        "outputId": "d86080d7-7ed4-4ead-a81a-48a45a52f503"
      },
      "execution_count": 18,
      "outputs": [
        {
          "output_type": "stream",
          "name": "stdout",
          "text": [
            "União dos conjuntos:  {1, 2, 3, 4, 5, 6}\n",
            "Interseção dos conjuntos:  {3, 4}\n",
            "Diferença entre o primeiro e segundo conjunto:  {1, 2}\n"
          ]
        }
      ]
    },
    {
      "cell_type": "code",
      "source": [
        "#12. Dada a lista [1, 2, 2, 3, 4, 4, 5], remova os elementos duplicados transformando a lista em um set.\n",
        "# Ao final, exiba o set resultante, que deve conter apenas valores únicos.\n",
        "\n",
        "lista = [1, 2, 2, 3, 4, 4, 5]\n",
        "\n",
        "sem_repetição = set(lista)\n",
        "\n",
        "print(sem_repetição)"
      ],
      "metadata": {
        "id": "V1tPrxKGK8VL",
        "colab": {
          "base_uri": "https://localhost:8080/"
        },
        "outputId": "b0fb9615-9356-4065-bfcd-d9093b2a0fdd"
      },
      "execution_count": 17,
      "outputs": [
        {
          "output_type": "stream",
          "name": "stdout",
          "text": [
            "{1, 2, 3, 4, 5}\n"
          ]
        }
      ]
    },
    {
      "cell_type": "code",
      "source": [
        "#13. Crie um set contendo os valores {5, 10, 15, 20}. Adicione o número 25 a\n",
        "# esse set e depois remova o valor 15. Mostre o set após cada alteração.\n",
        "\n",
        "set1 = {5, 10, 15, 20}\n",
        "\n",
        "set1.add(25)\n",
        "set1.discard(15)\n",
        "\n",
        "print(set1)"
      ],
      "metadata": {
        "id": "3vdseI5lK8a8",
        "colab": {
          "base_uri": "https://localhost:8080/"
        },
        "outputId": "42abe08f-b9f3-493c-fb59-a5ff977d89bf"
      },
      "execution_count": 16,
      "outputs": [
        {
          "output_type": "stream",
          "name": "stdout",
          "text": [
            "{5, 10, 20, 25}\n"
          ]
        }
      ]
    },
    {
      "cell_type": "code",
      "source": [
        "#14. Verifique se o número 7 está presente no set {1, 2, 3, 4, 5}.\n",
        "# O programa deve exibir uma mensagem informando se o número foi encontrado ou não no set.\n",
        "\n",
        "set1 = {1, 2, 3, 4, 5}\n",
        "\n",
        "if 7 in set1:\n",
        "  print(\"O número 7 está contido no set1\")\n",
        "\n",
        "else:\n",
        "  print(\"O número 7 não está contido no set1\")"
      ],
      "metadata": {
        "id": "-xsEdFCPK8gW",
        "colab": {
          "base_uri": "https://localhost:8080/"
        },
        "outputId": "b03bc992-eb42-4679-c2d2-9893c0c6ccea"
      },
      "execution_count": 15,
      "outputs": [
        {
          "output_type": "stream",
          "name": "stdout",
          "text": [
            "O número 7 não está contido no set1\n"
          ]
        }
      ]
    },
    {
      "cell_type": "code",
      "source": [
        "#15. Crie um set vazio e adicione vários valores a ele usando um laço de repetição\n",
        "# (por exemplo, um for ou while). No final, mostre todos os valores armazenados no set.\n",
        "\n",
        "vazio = set()\n",
        "print(\"Informe valores para preencher seu conjunto ou digite 'parar' para encerrar\")\n",
        "i = 1\n",
        "while i > 0:\n",
        "  valor = input()\n",
        "  if valor == 'parar':\n",
        "    break\n",
        "  vazio.add(valor)\n",
        "\n",
        "print(vazio)"
      ],
      "metadata": {
        "id": "ycLzxvguK8lM",
        "colab": {
          "base_uri": "https://localhost:8080/"
        },
        "outputId": "26f383b7-2db1-4241-9063-25013cc1fa2a"
      },
      "execution_count": 14,
      "outputs": [
        {
          "output_type": "stream",
          "name": "stdout",
          "text": [
            "Informe valores para preencher seu conjunto ou digite 'parar' para encerrar\n",
            "3\n",
            "7\n",
            "2\n",
            "9\n",
            "3\n",
            "7\n",
            "parar\n",
            "{'3', '2', '9', '7'}\n"
          ]
        }
      ]
    },
    {
      "cell_type": "code",
      "source": [
        "#16. Crie um dicionário com os pares chave-valor 'nome': 'Ana', 'idade': 22, 'curso': 'Engenharia'.\n",
        "# Adicione uma nova chave 'universidade': 'USP' ao dicionário. Em seguida, exiba o dicionário completo com todas as informações.\n",
        "\n",
        "dicionário = {'nome': 'Ana', 'idade': 22, 'curso': 'Engenharia'}\n",
        "\n",
        "dicionário['universidade'] = 'USP'\n",
        "\n",
        "print(dicionário)"
      ],
      "metadata": {
        "id": "y6aEZbeuK8qj",
        "colab": {
          "base_uri": "https://localhost:8080/"
        },
        "outputId": "a39c9f94-71f5-41da-8007-2769239c6fb8"
      },
      "execution_count": 13,
      "outputs": [
        {
          "output_type": "stream",
          "name": "stdout",
          "text": [
            "{'nome': 'Ana', 'idade': 22, 'curso': 'Engenharia', 'universidade': 'USP'}\n"
          ]
        }
      ]
    },
    {
      "cell_type": "code",
      "source": [
        "#17. Escreva um programa que percorra um dicionário com várias chaves e valores.\n",
        "# Para cada par, imprima a chave e o valor no formato: Chave: X, Valor: Y.\n",
        "# O dicionário pode conter qualquer informação que você preferir.\n",
        "\n",
        "universidade = {'nome':'UVV', 'cursos':32, 'docentes':74, 'dicentes':3137}\n",
        "\n",
        "for i in universidade:\n",
        "  print(f\"{i} : {universidade[i]}\")"
      ],
      "metadata": {
        "id": "SS9pAn2jK8vd",
        "colab": {
          "base_uri": "https://localhost:8080/"
        },
        "outputId": "f7db8977-b82d-4db8-8efb-5d5b1e99e6f3"
      },
      "execution_count": 12,
      "outputs": [
        {
          "output_type": "stream",
          "name": "stdout",
          "text": [
            "nome : UVV\n",
            "cursos : 32\n",
            "docentes : 74\n",
            "dicentes : 3137\n"
          ]
        }
      ]
    },
    {
      "cell_type": "code",
      "source": [
        "#18. Crie um dicionário que relacione nomes de alunos às suas notas.\n",
        "# Depois, crie uma função que calcule e exiba a média das notas desses alunos com base nas informações do dicionário.\n",
        "\n",
        "notas = {'marco':10, 'erika':7, 'iago':8, 'luana':9, 'osvaldo':4}\n",
        "soma = 0\n",
        "\n",
        "for i in notas:\n",
        "  soma += notas[i]\n",
        "\n",
        "print(f\"A média das notas é {soma/len(notas)}\")"
      ],
      "metadata": {
        "id": "aCbFiqZtK80e",
        "colab": {
          "base_uri": "https://localhost:8080/"
        },
        "outputId": "70324358-2e85-4ac2-9b81-55d40382c9fa"
      },
      "execution_count": 11,
      "outputs": [
        {
          "output_type": "stream",
          "name": "stdout",
          "text": [
            "A média das notas é 7.6\n"
          ]
        }
      ]
    },
    {
      "cell_type": "code",
      "source": [
        "#19. Escreva um programa que permita ao usuário buscar o valor de uma chave específica em um dicionário.\n",
        "#Caso a chave não exista, o programa deve exibir uma mensagem dizendo que a chave não foi encontrada. Teste o programa com diferentes chaves.\n",
        "\n",
        "universidade = {'nome':'UVV', 'cursos':32, 'docentes':74, 'dicentes':3137}\n",
        "\n",
        "chave = input(\"Informe a chave específica que deseja buscar\\n\")\n",
        "\n",
        "if chave in universidade:\n",
        "  print(universidade[chave])\n",
        "else:\n",
        "  print(\"A chave não está contida no dicionário\")"
      ],
      "metadata": {
        "id": "5sjj4rh4K850",
        "colab": {
          "base_uri": "https://localhost:8080/"
        },
        "outputId": "54db494a-6e88-4828-b809-11f00b7cc8de"
      },
      "execution_count": 10,
      "outputs": [
        {
          "output_type": "stream",
          "name": "stdout",
          "text": [
            "Informe a chave específica que deseja buscar\n",
            "cursos\n",
            "32\n"
          ]
        }
      ]
    },
    {
      "cell_type": "code",
      "source": [
        "#20. Dado um dicionário que contém produtos e seus respectivos preços, como {'pão': 2.50, 'leite': 3.00, 'café': 4.50},\n",
        "# permita que o usuário altere o preço de um dos produtos e exiba o dicionário atualizado com o novo valor.\n",
        "\n",
        "preços = {'pão': 2.50, 'leite': 3.00, 'café': 4.50}\n",
        "\n",
        "print(f\"Valores atuais dos produtos: {preços}\")\n",
        "chave = input(\"Informe o produto no qual deseja alterar seu preço:\\n\")\n",
        "\n",
        "if chave in preços:\n",
        "  valor = float(input(f\"Informe novo valor do produto '{chave}':\\n\"))\n",
        "  preços[chave] = valor\n",
        "  print(f\"Novos valores: {preços}\")\n",
        "\n",
        "else:\n",
        "  print(\"A chave não está contida no dicionário, valores permanecem inalterados\")"
      ],
      "metadata": {
        "id": "XYVcIwP-K8_u",
        "colab": {
          "base_uri": "https://localhost:8080/"
        },
        "outputId": "3b8ae05f-c472-4b5c-abdb-a9d33bde67d3"
      },
      "execution_count": 9,
      "outputs": [
        {
          "output_type": "stream",
          "name": "stdout",
          "text": [
            "Valores atuais dos produtos: {'pão': 2.5, 'leite': 3.0, 'café': 4.5}\n",
            "Informe o produto no qual deseja alterar seu preço:\n",
            "pão\n",
            "Informe novo valor do produto 'pão':\n",
            "5\n",
            "Novos valores: {'pão': 5.0, 'leite': 3.0, 'café': 4.5}\n"
          ]
        }
      ]
    }
  ]
}