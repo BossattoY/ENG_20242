{
  "nbformat": 4,
  "nbformat_minor": 0,
  "metadata": {
    "colab": {
      "provenance": [],
      "authorship_tag": "ABX9TyP5UN+3y9tG0X9wY+Ge+XQH",
      "include_colab_link": true
    },
    "kernelspec": {
      "name": "python3",
      "display_name": "Python 3"
    },
    "language_info": {
      "name": "python"
    }
  },
  "cells": [
    {
      "cell_type": "markdown",
      "metadata": {
        "id": "view-in-github",
        "colab_type": "text"
      },
      "source": [
        "<a href=\"https://colab.research.google.com/github/BossattoY/ENG_20242/blob/main/Atividade1/fix_colec%C3%B5es_python_24102024.ipynb\" target=\"_parent\"><img src=\"https://colab.research.google.com/assets/colab-badge.svg\" alt=\"Open In Colab\"/></a>"
      ]
    },
    {
      "cell_type": "code",
      "execution_count": null,
      "metadata": {
        "id": "K0dyDPl6KZWX"
      },
      "outputs": [],
      "source": [
        "#1. Crie uma lista contendo cinco números inteiros de sua escolha. Em seguida,\n",
        "# percorra essa lista e imprima o valor de cada elemento multiplicado por 2.\n",
        "# O resultado deve mostrar o novo valor de cada elemento, um por vez.\n",
        "\n",
        "numeros = [1, 2, 3, 4, 5]\n",
        "\n",
        "for i in range(len(numeros)):\n",
        "\n",
        "  numeros[i] = numeros[i]*2\n",
        "\n",
        "  print(numeros[i])\n",
        "\n",
        "print(numeros)"
      ]
    },
    {
      "cell_type": "code",
      "source": [
        "#2. Dada a lista [\"maçã\", \"banana\", \"laranja\", \"uva\"], remova o item \"banana\" da lista\n",
        "# e adicione a fruta \"melancia\" no lugar. Depois, mostre a nova lista atualizada com as alterações feitas.\n",
        "\n",
        "frutas = [\"maçã\", \"banana\", \"laranja\", \"uva\"]\n",
        "\n",
        "frutas.remove(\"banana\")\n",
        "frutas.insert(1, \"melancia\")\n",
        "\n",
        "print(frutas)"
      ],
      "metadata": {
        "id": "khJst6x9K7h8"
      },
      "execution_count": null,
      "outputs": []
    },
    {
      "cell_type": "code",
      "source": [
        "#3. Escreva um programa que receba uma lista de números inteiros e exiba qual é\n",
        "# o maior número e qual é o menor número presente na lista. Certifique-se de mostrar ambos os valores ao final.\n",
        "\n",
        "numeros = [1, 4, 7, 34, 2, 75, -15]\n",
        "\n",
        "maior = max(numeros)\n",
        "menor = min(numeros)\n",
        "\n",
        "print(f\"O menor valor da lista é {menor} e o maior é {maior}\")"
      ],
      "metadata": {
        "id": "3e2ex_uRK7pd"
      },
      "execution_count": null,
      "outputs": []
    },
    {
      "cell_type": "code",
      "source": [
        "#4. Crie uma função que receba uma lista contendo várias palavras (strings).\n",
        "# A função deve devolver uma nova lista que contenha a quantidade de letras de cada palavra da lista original.\n",
        "# Exiba essa nova lista com o número de letras correspondente a cada palavra.\n",
        "\n",
        "palavras = [\"carro\", \"moto\", \"avião\", \"bicicleta\", \"navio\"]\n",
        "tamanho = []\n",
        "\n",
        "for i in range(len(palavras)):\n",
        "  tamanho.insert(i, len(palavras[i]))\n",
        "\n",
        "print(tamanho)"
      ],
      "metadata": {
        "id": "xyPL7IjYK7vk"
      },
      "execution_count": null,
      "outputs": []
    },
    {
      "cell_type": "code",
      "source": [
        "#5. Dada uma lista de números inteiros que você vai definir,\n",
        "# ordene essa lista em ordem crescente e depois exiba o resultado da lista ordenada.\n",
        "\n",
        "numeros = [1, 4, 7, 34, 2, 75, -15]\n",
        "\n",
        "numeros.sort()\n",
        "\n",
        "print(numeros)"
      ],
      "metadata": {
        "id": "VUu0cjwIK7z8"
      },
      "execution_count": null,
      "outputs": []
    },
    {
      "cell_type": "code",
      "source": [
        "#6. Crie uma tupla que contenha os números de 1 a 5. Tente alterar o valor\n",
        "# do segundo elemento dessa tupla e observe o que acontece. No final,\n",
        "# explique por que você conseguiu ou não modificar o valor.\n",
        "\n",
        "numeros = (1, 2, 3, 4, 5)\n",
        "\n",
        "#numeros[1] = 0\n",
        "# Caso retiremos a linha acima como comentário, ocorre um erro, pois não pode ser atribuido valor a uma tupla\n",
        "\n",
        "print(numeros)"
      ],
      "metadata": {
        "id": "-Vg2ygmDK73V"
      },
      "execution_count": null,
      "outputs": []
    },
    {
      "cell_type": "code",
      "source": [
        "#7. Escreva um programa que receba uma tupla contendo diversos números inteiros. O programa deve calcular e exibir a soma de todos os números presentes na tupla.\n",
        "\n",
        "numeros = (3, 5, 6, 2, 7, 1)\n",
        "soma = 0\n",
        "\n",
        "for i in range(len(numeros)):\n",
        "  soma += numeros[i]\n",
        "\n",
        "print(f\"A somas dos numeros da tupla é de {soma}\")"
      ],
      "metadata": {
        "id": "ql5YS9o1K77D"
      },
      "execution_count": null,
      "outputs": []
    },
    {
      "cell_type": "code",
      "source": [
        "#8. Dada uma tupla que contém cinco números, crie uma função que retorne\n",
        "# o primeiro e o último número dessa tupla. O programa deve imprimir ambos os valores corretamente.\n",
        "\n",
        "valores = (4, 6, 2, 9, 3)\n",
        "\n",
        "primeiro = valores[0]\n",
        "ultimo = valores[-1]\n",
        "\n",
        "print(f\"O primeiro número da tupla é {primeiro} e o ultimo {ultimo}\")"
      ],
      "metadata": {
        "id": "j_6INtKNK7_E"
      },
      "execution_count": null,
      "outputs": []
    },
    {
      "cell_type": "code",
      "source": [
        "#9. Converta a lista [\"a\", \"b\", \"c\", \"d\"] em uma tupla e, em seguida,\n",
        "# exiba o tipo do novo objeto que foi criado. O programa deve deixar claro que o tipo mudou de lista para tupla.\n",
        "\n",
        "lista = [\"a\", \"b\", \"c\", \"d\"]\n",
        "\n",
        "tupla = tuple(lista)\n",
        "\n",
        "print(f\"O novo objeto criado é {tupla}, que era anteriormente {type(lista)} e agora é {type(tupla)}\")"
      ],
      "metadata": {
        "id": "iuH5IwOHK8Cl"
      },
      "execution_count": null,
      "outputs": []
    },
    {
      "cell_type": "code",
      "source": [
        "#10. Crie uma tupla com três números inteiros e uma string. Depois, verifique\n",
        "# se o número 3 está presente nessa tupla e mostre uma mensagem dizendo se o número foi encontrado ou não.\n",
        "\n",
        "tupla = (1, 2, 3, \"quatro\")\n",
        "\n",
        "if 3 in tupla:\n",
        "  print(\"O número 3 foi encontrado na tupla\")\n",
        "else:\n",
        "  print(\"O número 3 não foi encontrado na tupla\")"
      ],
      "metadata": {
        "id": "bR6LZwlxK8Gt"
      },
      "execution_count": null,
      "outputs": []
    },
    {
      "cell_type": "code",
      "source": [
        "#11. Crie dois sets: set1 = {1, 2, 3, 4} e set2 = {3, 4, 5, 6}. Exiba a união\n",
        "# dos dois sets (todos os elementos sem repetição), a interseção (elementos que aparecem nos dois sets) e\n",
        "# a diferença (elementos presentes no primeiro set, mas não no segundo). Mostre os resultados de cada operação.\n",
        "\n",
        "set1 = {1, 2, 3, 4}\n",
        "set2 = {3, 4, 5, 6}\n",
        "\n",
        "união = set1.union(set2)\n",
        "interseção = set1.intersection(set2)\n",
        "diferença = set1.difference(set2)\n",
        "\n",
        "print(\"União dos conjuntos: \", união)\n",
        "print(\"Interseção dos conjuntos: \", interseção)\n",
        "print(\"Diferença entre o primeiro e segundo conjunto: \", diferença)"
      ],
      "metadata": {
        "id": "tSNeCUMSK8Os"
      },
      "execution_count": null,
      "outputs": []
    },
    {
      "cell_type": "code",
      "source": [
        "#12. Dada a lista [1, 2, 2, 3, 4, 4, 5], remova os elementos duplicados transformando a lista em um set.\n",
        "# Ao final, exiba o set resultante, que deve conter apenas valores únicos.\n",
        "\n",
        "lista = [1, 2, 2, 3, 4, 4, 5]\n",
        "\n",
        "sem_repetição = set(lista)\n",
        "\n",
        "print(sem_repetição)"
      ],
      "metadata": {
        "id": "V1tPrxKGK8VL"
      },
      "execution_count": null,
      "outputs": []
    },
    {
      "cell_type": "code",
      "source": [
        "#13. Crie um set contendo os valores {5, 10, 15, 20}. Adicione o número 25 a\n",
        "# esse set e depois remova o valor 15. Mostre o set após cada alteração.\n",
        "\n",
        "set1 = {5, 10, 15, 20}\n",
        "\n",
        "set1.add(25)\n",
        "set1.discard(15)\n",
        "\n",
        "print(set1)"
      ],
      "metadata": {
        "id": "3vdseI5lK8a8"
      },
      "execution_count": null,
      "outputs": []
    },
    {
      "cell_type": "code",
      "source": [
        "#14. Verifique se o número 7 está presente no set {1, 2, 3, 4, 5}.\n",
        "# O programa deve exibir uma mensagem informando se o número foi encontrado ou não no set.\n",
        "\n",
        "set1 = {1, 2, 3, 4, 5}\n",
        "\n",
        "if 7 in set1:\n",
        "  print(\"O número 7 está contido no set1\")\n",
        "\n",
        "else:\n",
        "  print(\"O número 7 não está contido no set1\")"
      ],
      "metadata": {
        "id": "-xsEdFCPK8gW"
      },
      "execution_count": null,
      "outputs": []
    },
    {
      "cell_type": "code",
      "source": [
        "#15. Crie um set vazio e adicione vários valores a ele usando um laço de repetição\n",
        "# (por exemplo, um for ou while). No final, mostre todos os valores armazenados no set.\n",
        "\n",
        "vazio = set()\n",
        "print(\"Informe valores para preencher seu conjunto ou digite 'parar' para encerrar\")\n",
        "i = 1\n",
        "while i > 0:\n",
        "  valor = input()\n",
        "  if valor == 'parar':\n",
        "    break\n",
        "  vazio.add(valor)\n",
        "\n",
        "print(vazio)"
      ],
      "metadata": {
        "id": "ycLzxvguK8lM"
      },
      "execution_count": null,
      "outputs": []
    },
    {
      "cell_type": "code",
      "source": [
        "#16. Crie um dicionário com os pares chave-valor 'nome': 'Ana', 'idade': 22, 'curso': 'Engenharia'.\n",
        "# Adicione uma nova chave 'universidade': 'USP' ao dicionário. Em seguida, exiba o dicionário completo com todas as informações.\n",
        "\n",
        "dicionário = {'nome': 'Ana', 'idade': 22, 'curso': 'Engenharia'}\n",
        "\n",
        "dicionário['universidade'] = 'USP'\n",
        "\n",
        "print(dicionário)"
      ],
      "metadata": {
        "id": "y6aEZbeuK8qj"
      },
      "execution_count": null,
      "outputs": []
    },
    {
      "cell_type": "code",
      "source": [
        "#17. Escreva um programa que percorra um dicionário com várias chaves e valores.\n",
        "# Para cada par, imprima a chave e o valor no formato: Chave: X, Valor: Y.\n",
        "# O dicionário pode conter qualquer informação que você preferir.\n",
        "\n",
        "universidade = {'nome':'UVV', 'cursos':32, 'docentes':74, 'dicentes':3137}\n",
        "\n",
        "for i in universidade:\n",
        "  print(f\"{i} : {universidade[i]}\")"
      ],
      "metadata": {
        "id": "SS9pAn2jK8vd"
      },
      "execution_count": null,
      "outputs": []
    },
    {
      "cell_type": "code",
      "source": [
        "#18. Crie um dicionário que relacione nomes de alunos às suas notas.\n",
        "# Depois, crie uma função que calcule e exiba a média das notas desses alunos com base nas informações do dicionário.\n",
        "\n",
        "notas = {'marco':10, 'erika':7, 'iago':8, 'luana':9, 'osvaldo':4}\n",
        "soma = 0\n",
        "\n",
        "for i in notas:\n",
        "  soma += notas[i]\n",
        "\n",
        "print(f\"A média das notas é {soma/len(notas)}\")"
      ],
      "metadata": {
        "id": "aCbFiqZtK80e"
      },
      "execution_count": null,
      "outputs": []
    },
    {
      "cell_type": "code",
      "source": [
        "#19. Escreva um programa que permita ao usuário buscar o valor de uma chave específica em um dicionário.\n",
        "#Caso a chave não exista, o programa deve exibir uma mensagem dizendo que a chave não foi encontrada. Teste o programa com diferentes chaves.\n",
        "\n",
        "universidade = {'nome':'UVV', 'cursos':32, 'docentes':74, 'dicentes':3137}\n",
        "\n",
        "chave = input(\"Informe a chave específica que deseja buscar\\n\")\n",
        "\n",
        "if chave in universidade:\n",
        "  print(universidade[chave])\n",
        "else:\n",
        "  print(\"A chave não está contida no dicionário\")"
      ],
      "metadata": {
        "id": "5sjj4rh4K850"
      },
      "execution_count": null,
      "outputs": []
    },
    {
      "cell_type": "code",
      "source": [
        "#20. Dado um dicionário que contém produtos e seus respectivos preços, como {'pão': 2.50, 'leite': 3.00, 'café': 4.50},\n",
        "# permita que o usuário altere o preço de um dos produtos e exiba o dicionário atualizado com o novo valor.\n",
        "\n",
        "preços = {'pão': 2.50, 'leite': 3.00, 'café': 4.50}\n",
        "\n",
        "print(f\"Valores atuais dos produtos: {preços}\")\n",
        "chave = input(\"Informe o produto no qual deseja alterar seu preço:\\n\")\n",
        "\n",
        "if chave in preços:\n",
        "  valor = float(input(f\"Informe novo valor do produto '{chave}':\\n\"))\n",
        "  preços[chave] = valor\n",
        "  print(f\"Novos valores: {preços}\")\n",
        "\n",
        "else:\n",
        "  print(\"A chave não está contida no dicionário, valores permanecem inalterados\")"
      ],
      "metadata": {
        "id": "XYVcIwP-K8_u"
      },
      "execution_count": null,
      "outputs": []
    }
  ]
}