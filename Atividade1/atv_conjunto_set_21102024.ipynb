{
  "nbformat": 4,
  "nbformat_minor": 0,
  "metadata": {
    "colab": {
      "provenance": [],
      "authorship_tag": "ABX9TyNpI0yLzRA02N9JqM/D04/v",
      "include_colab_link": true
    },
    "kernelspec": {
      "name": "python3",
      "display_name": "Python 3"
    },
    "language_info": {
      "name": "python"
    }
  },
  "cells": [
    {
      "cell_type": "markdown",
      "metadata": {
        "id": "view-in-github",
        "colab_type": "text"
      },
      "source": [
        "<a href=\"https://colab.research.google.com/github/BossattoY/ENG_20242/blob/main/Atividade1/atv_conjunto_set_21102024.ipynb\" target=\"_parent\"><img src=\"https://colab.research.google.com/assets/colab-badge.svg\" alt=\"Open In Colab\"/></a>"
      ]
    },
    {
      "cell_type": "code",
      "execution_count": null,
      "metadata": {
        "colab": {
          "base_uri": "https://localhost:8080/"
        },
        "id": "n1No96LCEX5S",
        "outputId": "2770a32d-902f-441d-aa20-67e415a3273d"
      },
      "outputs": [
        {
          "output_type": "stream",
          "name": "stdout",
          "text": [
            "{'maçã', 'uva', 'laranja', 'banana'}\n"
          ]
        }
      ],
      "source": [
        "#1 - Crie um conjunto chamado `frutas` que contenha os seguintes elementos:\n",
        "# \"maçã\", \"banana\", \"laranja\" e \"uva\". Depois de criar o conjunto,\n",
        "# exiba-o no console para confirmar os elementos adicionados.\n",
        "\n",
        "frutas = {\"maçã\", \"banana\", \"laranja\", \"uva\"}\n",
        "\n",
        "print(frutas)"
      ]
    },
    {
      "cell_type": "code",
      "source": [
        "#2 - Utilizando o conjunto `frutas` criado anteriormente, adicione a fruta \"morango\" ao conjunto.\n",
        "# Lembre-se que conjuntos não permitem duplicatas,\n",
        "# então adicione um elemento que já exista para verificar o comportamento.\n",
        "\n",
        "frutas = {\"maçã\", \"banana\", \"laranja\", \"uva\"}\n",
        "\n",
        "frutas.add(\"morango\")\n",
        "frutas.add(\"maçã\")\n",
        "#Como \"maçã\" já existe em 'frutas', esse elementão não é inserido novamente.\n",
        "\n",
        "print(frutas)"
      ],
      "metadata": {
        "colab": {
          "base_uri": "https://localhost:8080/"
        },
        "id": "D_yl3fAxF6jE",
        "outputId": "fef1297b-8d21-498f-9536-e949dad739c6"
      },
      "execution_count": null,
      "outputs": [
        {
          "output_type": "stream",
          "name": "stdout",
          "text": [
            "{'maçã', 'banana', 'uva', 'laranja', 'morango'}\n"
          ]
        }
      ]
    },
    {
      "cell_type": "code",
      "source": [
        "#3 - Remova a fruta \"banana\" do conjunto `frutas`.\n",
        "# Se \"banana\" não estiver presente, o código pode gerar um erro.\n",
        "# Verifique se a fruta existe antes de removê-la ou trate o erro adequadamente.\n",
        "\n",
        "frutas = {\"maçã\", \"banana\", \"laranja\", \"uva\"}\n",
        "\n",
        "frutas.discard(\"banana\")\n",
        "frutas.discard(\"morango\")\n",
        "#Quando tentei remover \"morango\", que não existe em 'frutas', se tivesse utilizado 'remove' ao invé de 'discard', ocorreria um erro.\n",
        "\n",
        "print(frutas)"
      ],
      "metadata": {
        "colab": {
          "base_uri": "https://localhost:8080/"
        },
        "id": "02ZwFjxxGC6b",
        "outputId": "01186ba8-0705-49de-90c3-f1e990747c80"
      },
      "execution_count": null,
      "outputs": [
        {
          "output_type": "stream",
          "name": "stdout",
          "text": [
            "{'maçã', 'uva', 'laranja'}\n"
          ]
        }
      ]
    },
    {
      "cell_type": "code",
      "source": [
        "#4 - Verifique se a fruta \"laranja\" está presente no conjunto `frutas` usando uma estrutura condicional.\n",
        "# Exiba uma mensagem no console indicando se \"laranja\" está ou não presente no conjunto.\n",
        "\n",
        "frutas = {\"maçã\", \"banana\", \"laranja\", \"uva\"}\n",
        "\n",
        "if \"laranja\" in frutas:\n",
        "  print(f\"O elemento 'laranja' aparece no conjunto\")\n",
        "else:\n",
        "  print(f\"O elemento 'laranja' não aparece no conjunto\")\n"
      ],
      "metadata": {
        "colab": {
          "base_uri": "https://localhost:8080/"
        },
        "id": "Y1lqkWZvGDHD",
        "outputId": "1c612b91-2f06-43a9-aaa0-1cf88b7f6861"
      },
      "execution_count": null,
      "outputs": [
        {
          "output_type": "stream",
          "name": "stdout",
          "text": [
            "O elemento 'laranja' aparece no conjunto\n"
          ]
        }
      ]
    },
    {
      "cell_type": "code",
      "source": [
        "#5 - Crie um segundo conjunto chamado `citrus`, contendo \"laranja\", \"limão\" e \"tangerina\".\n",
        "# Faça a união dos conjuntos `frutas` e `citrus`, criando um novo conjunto que contém todos\n",
        "# os elementos dos dois conjuntos. Exiba o resultado dessa união.\n",
        "\n",
        "frutas = {\"maçã\", \"banana\", \"laranja\", \"uva\"}\n",
        "\n",
        "citrus = {\"laranja\", \"limão\", \"tangerina\"}\n",
        "\n",
        "alimentos_frutosos = frutas.union(citrus)\n",
        "\n",
        "print(alimentos_frutosos)"
      ],
      "metadata": {
        "colab": {
          "base_uri": "https://localhost:8080/"
        },
        "id": "xAuY4S6DGDlS",
        "outputId": "d55bbcfd-e78f-4939-a03c-b90129497b4d"
      },
      "execution_count": null,
      "outputs": [
        {
          "output_type": "stream",
          "name": "stdout",
          "text": [
            "{'maçã', 'uva', 'laranja', 'tangerina', 'limão', 'banana'}\n"
          ]
        }
      ]
    },
    {
      "cell_type": "code",
      "source": [
        "#6 - Usando os conjuntos `frutas` e `citrus`, encontre a interseção entre eles, ou seja,\n",
        "# os elementos que estão presentes em ambos os conjuntos. Exiba os elementos comuns.\n",
        "\n",
        "frutas = {\"maçã\", \"banana\", \"laranja\", \"uva\"}\n",
        "\n",
        "citrus = {\"laranja\", \"limão\", \"tangerina\"}\n",
        "\n",
        "semelhanca = frutas.intersection(citrus)\n",
        "\n",
        "print(semelhanca)"
      ],
      "metadata": {
        "colab": {
          "base_uri": "https://localhost:8080/"
        },
        "id": "S6o2uaqSGDsi",
        "outputId": "1202f73d-781b-41c4-fbe7-f3dbe0c0508b"
      },
      "execution_count": null,
      "outputs": [
        {
          "output_type": "stream",
          "name": "stdout",
          "text": [
            "{'laranja'}\n"
          ]
        }
      ]
    },
    {
      "cell_type": "code",
      "source": [
        "#7 - Encontre a diferença entre os conjuntos `frutas` e `citrus`,\n",
        "# ou seja, os elementos que estão em `frutas` mas não estão em `citrus`.\n",
        "# Exiba o resultado dessa diferença.\n",
        "\n",
        "frutas = {\"maçã\", \"banana\", \"laranja\", \"uva\"}\n",
        "\n",
        "citrus = {\"laranja\", \"limão\", \"tangerina\"}\n",
        "\n",
        "diferenca = frutas.difference(citrus)\n",
        "\n",
        "print(diferenca)"
      ],
      "metadata": {
        "colab": {
          "base_uri": "https://localhost:8080/"
        },
        "id": "Etk19A_IGDzC",
        "outputId": "21cda7d5-3ab8-4407-cf12-6a1043d54af8"
      },
      "execution_count": null,
      "outputs": [
        {
          "output_type": "stream",
          "name": "stdout",
          "text": [
            "{'maçã', 'uva', 'banana'}\n"
          ]
        }
      ]
    },
    {
      "cell_type": "code",
      "source": [
        "#8 - Esvazie completamente o conjunto `citrus` usando um método específico\n",
        "# que remove todos os elementos de um conjunto. Verifique se o conjunto foi realmente\n",
        "# esvaziado ao exibi-lo no console após a operação.\n",
        "\n",
        "citrus = {\"laranja\", \"limão\", \"tangerina\"}\n",
        "\n",
        "citrus.clear()\n",
        "\n",
        "print(citrus)"
      ],
      "metadata": {
        "colab": {
          "base_uri": "https://localhost:8080/"
        },
        "id": "7PvDd0VnGD5C",
        "outputId": "91d8690b-87a0-4752-9722-f71c91b037ce"
      },
      "execution_count": null,
      "outputs": [
        {
          "output_type": "stream",
          "name": "stdout",
          "text": [
            "set()\n"
          ]
        }
      ]
    },
    {
      "cell_type": "code",
      "source": [
        "#9 - Converta o conjunto `frutas` em um conjunto imutável, ou seja,\n",
        "# um conjunto que não pode ser alterado após sua criação. Crie esse conjunto imutável e exiba-o no console.\n",
        "\n",
        "frutas = {\"maçã\", \"banana\", \"laranja\", \"uva\"}\n",
        "\n",
        "frutas = frozenset()\n",
        "#Não é possível fazer alteração no conjunto a partir do momento que 'frozenset' é utilizado, pois resultaria em erro.\n",
        "\n",
        "print(frutas)"
      ],
      "metadata": {
        "colab": {
          "base_uri": "https://localhost:8080/"
        },
        "id": "yN2wO90pGD_L",
        "outputId": "c0fa4f43-0081-405f-fc7e-052804c49201"
      },
      "execution_count": null,
      "outputs": [
        {
          "output_type": "stream",
          "name": "stdout",
          "text": [
            "frozenset()\n"
          ]
        }
      ]
    },
    {
      "cell_type": "code",
      "source": [
        "#10 - Conte quantos elementos únicos existem no conjunto `frutas` e exiba o número total de elementos no console.\n",
        "\n",
        "frutas = {\"maçã\", \"banana\", \"laranja\", \"uva\"}\n",
        "\n",
        "print(\"Elementos únicos em 'frutas':\", len(frutas))"
      ],
      "metadata": {
        "colab": {
          "base_uri": "https://localhost:8080/"
        },
        "id": "Ls_ZXyvTGEFC",
        "outputId": "3cd4db99-580e-4da2-8719-1671cc14dd62"
      },
      "execution_count": null,
      "outputs": [
        {
          "output_type": "stream",
          "name": "stdout",
          "text": [
            "Elementos únicos em 'frutas': 4\n"
          ]
        }
      ]
    },
    {
      "cell_type": "code",
      "source": [
        "#1. Crie uma lista contendo cinco números inteiros de sua escolha. Em seguida,\n",
        "# percorra essa lista e imprima o valor de cada elemento multiplicado por 2.\n",
        "# O resultado deve mostrar o novo valor de cada elemento, um por vez.\n",
        "\n",
        "numeros = [1, 2, 3, 4, 5]\n",
        "\n",
        "for i in range(len(numeros)):\n",
        "\n",
        "  numeros[i] = numeros[i]*2\n",
        "\n",
        "  print(numeros[i])\n",
        "\n",
        "print(numeros)"
      ],
      "metadata": {
        "colab": {
          "base_uri": "https://localhost:8080/"
        },
        "id": "MNFQNUuhQ3cF",
        "outputId": "b8b425a0-4ed9-4f94-aef6-38d756279bde"
      },
      "execution_count": null,
      "outputs": [
        {
          "output_type": "stream",
          "name": "stdout",
          "text": [
            "2\n",
            "4\n",
            "6\n",
            "8\n",
            "10\n",
            "[2, 4, 6, 8, 10]\n"
          ]
        }
      ]
    },
    {
      "cell_type": "code",
      "source": [
        "#2. Dada a lista [\"maçã\", \"banana\", \"laranja\", \"uva\"], remova o item \"banana\" da lista\n",
        "# e adicione a fruta \"melancia\" no lugar. Depois, mostre a nova lista atualizada com as alterações feitas.\n",
        "\n",
        "frutas = [\"maçã\", \"banana\", \"laranja\", \"uva\"]\n",
        "\n",
        "frutas.remove(\"banana\")\n",
        "frutas.insert(1, \"melancia\")\n",
        "\n",
        "print(frutas)"
      ],
      "metadata": {
        "id": "jXqOi5Y1Q3hd",
        "colab": {
          "base_uri": "https://localhost:8080/"
        },
        "outputId": "a1633c85-85e8-4be4-aeda-49511e0de346"
      },
      "execution_count": null,
      "outputs": [
        {
          "output_type": "stream",
          "name": "stdout",
          "text": [
            "['maçã', 'melancia', 'laranja', 'uva']\n"
          ]
        }
      ]
    },
    {
      "cell_type": "code",
      "source": [
        "#3. Escreva um programa que receba uma lista de números inteiros e exiba qual é\n",
        "# o maior número e qual é o menor número presente na lista. Certifique-se de mostrar ambos os valores ao final.\n",
        "\n",
        "numeros = [1, 4, 7, 34, 2, 75, -15]\n",
        "\n",
        "maior = max(numeros)\n",
        "menor = min(numeros)\n",
        "\n",
        "print(f\"O menor valor da lista é {menor} e o maior é {maior}\")"
      ],
      "metadata": {
        "id": "71Coieq-Q3l8",
        "colab": {
          "base_uri": "https://localhost:8080/"
        },
        "outputId": "16275274-21a2-49b6-a89c-ac634b4332a7"
      },
      "execution_count": null,
      "outputs": [
        {
          "output_type": "stream",
          "name": "stdout",
          "text": [
            "O menor valor da lista é -15 e o maior é 75\n"
          ]
        }
      ]
    },
    {
      "cell_type": "code",
      "source": [
        "#4. Crie uma função que receba uma lista contendo várias palavras (strings).\n",
        "# A função deve devolver uma nova lista que contenha a quantidade de letras de cada palavra da lista original.\n",
        "# Exiba essa nova lista com o número de letras correspondente a cada palavra.\n",
        "\n",
        "palavras = [\"carro\", \"moto\", \"avião\", \"bicicleta\", \"navio\"]\n",
        "tamanho = []\n",
        "\n",
        "for i in range(len(palavras)):\n",
        "  tamanho.insert(i, len(palavras[i]))\n",
        "\n",
        "print(tamanho)"
      ],
      "metadata": {
        "id": "hqXVNFkyQ3p9",
        "colab": {
          "base_uri": "https://localhost:8080/"
        },
        "outputId": "966881f1-9a4b-4fcb-94a9-fc101664e8ee"
      },
      "execution_count": null,
      "outputs": [
        {
          "output_type": "stream",
          "name": "stdout",
          "text": [
            "[5, 4, 5, 9, 5]\n"
          ]
        }
      ]
    },
    {
      "cell_type": "code",
      "source": [
        "#5. Dada uma lista de números inteiros que você vai definir,\n",
        "# ordene essa lista em ordem crescente e depois exiba o resultado da lista ordenada.\n",
        "\n",
        "numeros = [1, 4, 7, 34, 2, 75, -15]\n",
        "\n",
        "numeros.sort()\n",
        "\n",
        "print(numeros)"
      ],
      "metadata": {
        "id": "673ujBqkQ3t1",
        "colab": {
          "base_uri": "https://localhost:8080/"
        },
        "outputId": "a2edc41d-87bf-4fff-ab8c-0459f85db16b"
      },
      "execution_count": null,
      "outputs": [
        {
          "output_type": "stream",
          "name": "stdout",
          "text": [
            "[-15, 1, 2, 4, 7, 34, 75]\n"
          ]
        }
      ]
    },
    {
      "cell_type": "code",
      "source": [
        "#6. Crie uma tupla que contenha os números de 1 a 5. Tente alterar o valor\n",
        "# do segundo elemento dessa tupla e observe o que acontece. No final,\n",
        "# explique por que você conseguiu ou não modificar o valor.\n",
        "\n",
        "numeros = (1, 2, 3, 4, 5)\n",
        "\n",
        "#numeros[1] = 0\n",
        "# Caso retiremos a linha acima como comentário, ocorre um erro, pois não pode ser atribuido valor a uma tupla\n",
        "\n",
        "print(numeros)"
      ],
      "metadata": {
        "id": "290zwAP8Q3x1",
        "colab": {
          "base_uri": "https://localhost:8080/"
        },
        "outputId": "edd4adf4-835c-44a6-a04f-b8f62ac136f1"
      },
      "execution_count": null,
      "outputs": [
        {
          "output_type": "stream",
          "name": "stdout",
          "text": [
            "(1, 2, 3, 4, 5)\n"
          ]
        }
      ]
    },
    {
      "cell_type": "code",
      "source": [
        "#7. Escreva um programa que receba uma tupla contendo diversos números inteiros. O programa deve calcular e exibir a soma de todos os números presentes na tupla.\n",
        "\n",
        "numeros = (3, 5, 6, 2, 7, 1)\n",
        "soma = 0\n",
        "\n",
        "for i in range(len(numeros)):\n",
        "  soma += numeros[i]\n",
        "\n",
        "print(f\"A somas dos numeros da tupla é de {soma}\")"
      ],
      "metadata": {
        "id": "-VWVXosrQ32N",
        "colab": {
          "base_uri": "https://localhost:8080/"
        },
        "outputId": "6dab71c0-7755-434e-e830-7618828d813e"
      },
      "execution_count": null,
      "outputs": [
        {
          "output_type": "stream",
          "name": "stdout",
          "text": [
            "A somas dos numeros da tupla é de 24\n"
          ]
        }
      ]
    },
    {
      "cell_type": "code",
      "source": [
        "#8. Dada uma tupla que contém cinco números, crie uma função que retorne\n",
        "# o primeiro e o último número dessa tupla. O programa deve imprimir ambos os valores corretamente.\n",
        "\n",
        "valores = (4, 6, 2, 9, 3)\n",
        "\n",
        "primeiro = valores[0]\n",
        "ultimo = valores[-1]\n",
        "\n",
        "print(f\"O primeiro número da tupla é {primeiro} e o ultimo {ultimo}\")"
      ],
      "metadata": {
        "id": "ESHOIJHMQ36N",
        "colab": {
          "base_uri": "https://localhost:8080/"
        },
        "outputId": "ee36b003-e5c7-428c-fd97-0777e8b47b64"
      },
      "execution_count": null,
      "outputs": [
        {
          "output_type": "stream",
          "name": "stdout",
          "text": [
            "O primeiro número da tupla é 4 e o ultimo 3\n"
          ]
        }
      ]
    },
    {
      "cell_type": "code",
      "source": [
        "#9. Converta a lista [\"a\", \"b\", \"c\", \"d\"] em uma tupla e, em seguida,\n",
        "# exiba o tipo do novo objeto que foi criado. O programa deve deixar claro que o tipo mudou de lista para tupla.\n",
        "\n",
        "lista = [\"a\", \"b\", \"c\", \"d\"]\n",
        "\n",
        "tupla = tuple(lista)\n",
        "\n",
        "print(f\"O novo objeto criado é {tupla}, que era anteriormente {type(lista)} e agora é {type(tupla)}\")"
      ],
      "metadata": {
        "id": "yPzYAkeXQ3-g",
        "colab": {
          "base_uri": "https://localhost:8080/"
        },
        "outputId": "3c421e2a-669b-4f74-9676-f976cc625731"
      },
      "execution_count": null,
      "outputs": [
        {
          "output_type": "stream",
          "name": "stdout",
          "text": [
            "O novo objeto criado é ('a', 'b', 'c', 'd'), que era anteriormente <class 'list'> e agora é <class 'tuple'>\n"
          ]
        }
      ]
    },
    {
      "cell_type": "code",
      "source": [
        "#10. Crie uma tupla com três números inteiros e uma string. Depois, verifique\n",
        "# se o número 3 está presente nessa tupla e mostre uma mensagem dizendo se o número foi encontrado ou não.\n",
        "\n",
        "tupla = (1, 2, 3, \"quatro\")\n",
        "\n",
        "if 3 in tupla:\n",
        "  print(\"O número 3 foi encontrado na tupla\")\n",
        "else:\n",
        "  print(\"O número 3 não foi encontrado na tupla\")\n"
      ],
      "metadata": {
        "id": "ZcS00nl8Q4Cl",
        "colab": {
          "base_uri": "https://localhost:8080/"
        },
        "outputId": "f6ec5f01-d21c-4a9a-a1f6-0b4e69c5dcef"
      },
      "execution_count": null,
      "outputs": [
        {
          "output_type": "stream",
          "name": "stdout",
          "text": [
            "O número 3 foi encontrado na tupla\n"
          ]
        }
      ]
    },
    {
      "cell_type": "code",
      "source": [
        "#11. Crie dois sets: set1 = {1, 2, 3, 4} e set2 = {3, 4, 5, 6}. Exiba a união\n",
        "# dos dois sets (todos os elementos sem repetição), a interseção (elementos que aparecem nos dois sets) e\n",
        "# a diferença (elementos presentes no primeiro set, mas não no segundo). Mostre os resultados de cada operação.\n",
        "\n",
        "set1 = {1, 2, 3, 4}\n",
        "set2 = {3, 4, 5, 6}\n",
        "\n",
        "união = set1.union(set2)\n",
        "interseção = set1.intersection(set2)\n",
        "diferença = set1.difference(set2)\n",
        "\n",
        "print(\"União dos conjuntos: \", união)\n",
        "print(\"Interseção dos conjuntos: \", interseção)\n",
        "print(\"Diferença entre o primeiro e segundo conjunto: \", diferença)"
      ],
      "metadata": {
        "id": "s7wfSlqmQ4G9",
        "colab": {
          "base_uri": "https://localhost:8080/"
        },
        "outputId": "bb074ddb-e6ad-4237-975f-edae39abfe1b"
      },
      "execution_count": null,
      "outputs": [
        {
          "output_type": "stream",
          "name": "stdout",
          "text": [
            "União dos conjuntos:  {1, 2, 3, 4, 5, 6}\n",
            "Interseção dos conjuntos:  {3, 4}\n",
            "Diferença entre o primeiro e segundo conjunto:  {1, 2}\n"
          ]
        }
      ]
    },
    {
      "cell_type": "code",
      "source": [
        "#12. Dada a lista [1, 2, 2, 3, 4, 4, 5], remova os elementos duplicados transformando a lista em um set.\n",
        "# Ao final, exiba o set resultante, que deve conter apenas valores únicos.\n",
        "\n",
        "lista = [1, 2, 2, 3, 4, 4, 5]\n",
        "\n",
        "sem_repetição = set(lista)\n",
        "\n",
        "print(sem_repetição)"
      ],
      "metadata": {
        "id": "j1VwyX1_Q4Ld",
        "colab": {
          "base_uri": "https://localhost:8080/"
        },
        "outputId": "93c91ca6-2b1f-40a3-d209-c6f8218761f1"
      },
      "execution_count": null,
      "outputs": [
        {
          "output_type": "stream",
          "name": "stdout",
          "text": [
            "{1, 2, 3, 4, 5}\n"
          ]
        }
      ]
    },
    {
      "cell_type": "code",
      "source": [
        "#13. Crie um set contendo os valores {5, 10, 15, 20}. Adicione o número 25 a\n",
        "# esse set e depois remova o valor 15. Mostre o set após cada alteração.\n",
        "\n",
        "set1 = {5, 10, 15, 20}\n",
        "\n",
        "set1.add(25)\n",
        "set1.discard(15)\n",
        "\n",
        "print(set1)\n"
      ],
      "metadata": {
        "id": "uxh9XZr6Q4QF",
        "colab": {
          "base_uri": "https://localhost:8080/"
        },
        "outputId": "45f80beb-1101-4deb-9696-96cb56207b1d"
      },
      "execution_count": null,
      "outputs": [
        {
          "output_type": "stream",
          "name": "stdout",
          "text": [
            "{5, 10, 20, 25}\n"
          ]
        }
      ]
    },
    {
      "cell_type": "code",
      "source": [
        "#14. Verifique se o número 7 está presente no set {1, 2, 3, 4, 5}.\n",
        "# O programa deve exibir uma mensagem informando se o número foi encontrado ou não no set.\n",
        "\n",
        "set1 = {1, 2, 3, 4, 5}\n",
        "\n",
        "if 7 in set1:\n",
        "  print(\"O número 7 está contido no set1\")\n",
        "\n",
        "else:\n",
        "  print(\"O número 7 não está contido no set1\")\n"
      ],
      "metadata": {
        "id": "06K_cxa7Q4Ul",
        "colab": {
          "base_uri": "https://localhost:8080/"
        },
        "outputId": "6b9287da-2441-4f39-95d7-3925b6fed11a"
      },
      "execution_count": null,
      "outputs": [
        {
          "output_type": "stream",
          "name": "stdout",
          "text": [
            "O número 7 não está contido no set1\n"
          ]
        }
      ]
    },
    {
      "cell_type": "code",
      "source": [
        "#15. Crie um set vazio e adicione vários valores a ele usando um laço de repetição\n",
        "# (por exemplo, um for ou while). No final, mostre todos os valores armazenados no set.\n",
        "\n",
        "vazio = set()\n",
        "print(\"Informe valores para preencher seu conjunto ou digite 'parar' para encerrar\")\n",
        "i = 1\n",
        "while i > 0:\n",
        "  valor = input()\n",
        "  if valor == 'parar':\n",
        "    break\n",
        "  vazio.add(valor)\n",
        "\n",
        "print(vazio)"
      ],
      "metadata": {
        "id": "76E2fkOWQ4ZV",
        "colab": {
          "base_uri": "https://localhost:8080/"
        },
        "outputId": "a0ae79c3-9882-476b-c804-6bd1155bd056"
      },
      "execution_count": null,
      "outputs": [
        {
          "output_type": "stream",
          "name": "stdout",
          "text": [
            "Informe valores para preencher seu conjunto ou digite 'parar' para encerrar\n",
            "1\n",
            "2\n",
            "3\n",
            "4\n",
            "5\n",
            "parar\n",
            "{'5', '1', '2', '4', '3'}\n"
          ]
        }
      ]
    },
    {
      "cell_type": "code",
      "source": [
        "#16. Crie um dicionário com os pares chave-valor 'nome': 'Ana', 'idade': 22, 'curso': 'Engenharia'.\n",
        "# Adicione uma nova chave 'universidade': 'USP' ao dicionário. Em seguida, exiba o dicionário completo com todas as informações.\n",
        "\n",
        "dicionário = {'nome': 'Ana', 'idade': 22, 'curso': 'Engenharia'}\n",
        "\n",
        "dicionário['universidade'] = 'USP'\n",
        "\n",
        "print(dicionário)"
      ],
      "metadata": {
        "id": "6octOhkhQ4dt",
        "colab": {
          "base_uri": "https://localhost:8080/"
        },
        "outputId": "6897a178-881f-435e-f486-69e8ac13f79a"
      },
      "execution_count": null,
      "outputs": [
        {
          "output_type": "stream",
          "name": "stdout",
          "text": [
            "{'nome': 'Ana', 'idade': 22, 'curso': 'Engenharia', 'universidade': 'USP'}\n"
          ]
        }
      ]
    },
    {
      "cell_type": "code",
      "source": [
        "#17. Escreva um programa que percorra um dicionário com várias chaves e valores.\n",
        "# Para cada par, imprima a chave e o valor no formato: Chave: X, Valor: Y.\n",
        "# O dicionário pode conter qualquer informação que você preferir.\n",
        "\n",
        "universidade = {'nome':'UVV', 'cursos':32, 'docentes':74, 'dicentes':3137}\n",
        "\n",
        "for i in universidade:\n",
        "  print(f\"{i} : {universidade[i]}\")"
      ],
      "metadata": {
        "id": "sVZ5w9HyQ4hl",
        "colab": {
          "base_uri": "https://localhost:8080/"
        },
        "outputId": "ca54576e-3967-41be-a6f9-bb9ef39135d0"
      },
      "execution_count": null,
      "outputs": [
        {
          "output_type": "stream",
          "name": "stdout",
          "text": [
            "nome : UVV\n",
            "cursos : 32\n",
            "docentes : 74\n",
            "dicentes : 3137\n"
          ]
        }
      ]
    },
    {
      "cell_type": "code",
      "source": [
        "#18. Crie um dicionário que relacione nomes de alunos às suas notas.\n",
        "# Depois, crie uma função que calcule e exiba a média das notas desses alunos com base nas informações do dicionário.\n",
        "\n",
        "notas = {'marco':10, 'erika':7, 'iago':8, 'luana':9, 'osvaldo':4}\n",
        "soma = 0\n",
        "\n",
        "for i in notas:\n",
        "  soma += notas[i]\n",
        "\n",
        "print(f\"A média das notas é {soma/len(notas)}\")"
      ],
      "metadata": {
        "id": "bH4-fG1HQ4lm",
        "colab": {
          "base_uri": "https://localhost:8080/"
        },
        "outputId": "20250bb0-750f-4b8a-9982-d8e558b82561"
      },
      "execution_count": null,
      "outputs": [
        {
          "output_type": "stream",
          "name": "stdout",
          "text": [
            "A média das notas é 7.6\n"
          ]
        }
      ]
    },
    {
      "cell_type": "code",
      "source": [
        "#19. Escreva um programa que permita ao usuário buscar o valor de uma chave específica em um dicionário.\n",
        "#Caso a chave não exista, o programa deve exibir uma mensagem dizendo que a chave não foi encontrada. Teste o programa com diferentes chaves.\n",
        "\n",
        "universidade = {'nome':'UVV', 'cursos':32, 'docentes':74, 'dicentes':3137}\n",
        "\n",
        "chave = input(\"Informe a chave específica que deseja buscar\\n\")\n",
        "\n",
        "if chave in universidade:\n",
        "  print(universidade[chave])\n",
        "else:\n",
        "  print(\"A chave não está contida no dicionário\")"
      ],
      "metadata": {
        "id": "ZGfZLbicRa-s",
        "colab": {
          "base_uri": "https://localhost:8080/"
        },
        "outputId": "e62f2fd9-93b7-46fe-a35f-b17f94a2990c"
      },
      "execution_count": null,
      "outputs": [
        {
          "output_type": "stream",
          "name": "stdout",
          "text": [
            "Informe a chave específica que deseja buscar\n",
            "nome\n",
            "UVV\n"
          ]
        }
      ]
    },
    {
      "cell_type": "code",
      "source": [
        "#20. Dado um dicionário que contém produtos e seus respectivos preços, como {'pão': 2.50, 'leite': 3.00, 'café': 4.50},\n",
        "# permita que o usuário altere o preço de um dos produtos e exiba o dicionário atualizado com o novo valor.\n",
        "\n",
        "preços = {'pão': 2.50, 'leite': 3.00, 'café': 4.50}\n",
        "\n",
        "print(f\"Valores atuais dos produtos: {preços}\")\n",
        "chave = input(\"Informe o produto no qual deseja alterar seu preço:\\n\")\n",
        "\n",
        "if chave in preços:\n",
        "  valor = float(input(f\"Informe novo valor do produto '{chave}':\\n\"))\n",
        "  preços[chave] = valor\n",
        "  print(f\"Novos valores: {preços}\")\n",
        "\n",
        "else:\n",
        "  print(\"A chave não está contida no dicionário, valores permanecem inalterados\")"
      ],
      "metadata": {
        "id": "D3EdUJe7RbHU",
        "colab": {
          "base_uri": "https://localhost:8080/"
        },
        "outputId": "ef342496-5816-48e5-b93d-51679b2d77f2"
      },
      "execution_count": null,
      "outputs": [
        {
          "output_type": "stream",
          "name": "stdout",
          "text": [
            "Valores atuais dos produtos: {'pão': 2.5, 'leite': 3.0, 'café': 4.5}\n",
            "Informe o produto no qual deseja alterar seu preço:\n",
            "café\n",
            "Informe novo valor do produto 'café':\n",
            "7\n",
            "Novos valores: {'pão': 2.5, 'leite': 3.0, 'café': 7.0}\n"
          ]
        }
      ]
    }
  ]
}