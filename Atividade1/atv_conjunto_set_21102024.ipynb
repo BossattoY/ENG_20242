{
  "nbformat": 4,
  "nbformat_minor": 0,
  "metadata": {
    "colab": {
      "provenance": [],
      "authorship_tag": "ABX9TyNYr0uFh1RtN/cmjTWOWp0H",
      "include_colab_link": true
    },
    "kernelspec": {
      "name": "python3",
      "display_name": "Python 3"
    },
    "language_info": {
      "name": "python"
    }
  },
  "cells": [
    {
      "cell_type": "markdown",
      "metadata": {
        "id": "view-in-github",
        "colab_type": "text"
      },
      "source": [
        "<a href=\"https://colab.research.google.com/github/BossattoY/ENG_20242/blob/main/Atividade1/atv_conjunto_set_21102024.ipynb\" target=\"_parent\"><img src=\"https://colab.research.google.com/assets/colab-badge.svg\" alt=\"Open In Colab\"/></a>"
      ]
    },
    {
      "cell_type": "code",
      "execution_count": null,
      "metadata": {
        "colab": {
          "base_uri": "https://localhost:8080/"
        },
        "id": "n1No96LCEX5S",
        "outputId": "2770a32d-902f-441d-aa20-67e415a3273d"
      },
      "outputs": [
        {
          "output_type": "stream",
          "name": "stdout",
          "text": [
            "{'maçã', 'uva', 'laranja', 'banana'}\n"
          ]
        }
      ],
      "source": [
        "#1 - Crie um conjunto chamado `frutas` que contenha os seguintes elementos:\n",
        "# \"maçã\", \"banana\", \"laranja\" e \"uva\". Depois de criar o conjunto,\n",
        "# exiba-o no console para confirmar os elementos adicionados.\n",
        "\n",
        "frutas = {\"maçã\", \"banana\", \"laranja\", \"uva\"}\n",
        "\n",
        "print(frutas)"
      ]
    },
    {
      "cell_type": "code",
      "source": [
        "#2 - Utilizando o conjunto `frutas` criado anteriormente, adicione a fruta \"morango\" ao conjunto.\n",
        "# Lembre-se que conjuntos não permitem duplicatas,\n",
        "# então adicione um elemento que já exista para verificar o comportamento.\n",
        "\n",
        "frutas = {\"maçã\", \"banana\", \"laranja\", \"uva\"}\n",
        "\n",
        "frutas.add(\"morango\")\n",
        "frutas.add(\"maçã\")\n",
        "#Como \"maçã\" já existe em 'frutas', esse elementão não é inserido novamente.\n",
        "\n",
        "print(frutas)"
      ],
      "metadata": {
        "colab": {
          "base_uri": "https://localhost:8080/"
        },
        "id": "D_yl3fAxF6jE",
        "outputId": "fef1297b-8d21-498f-9536-e949dad739c6"
      },
      "execution_count": null,
      "outputs": [
        {
          "output_type": "stream",
          "name": "stdout",
          "text": [
            "{'maçã', 'banana', 'uva', 'laranja', 'morango'}\n"
          ]
        }
      ]
    },
    {
      "cell_type": "code",
      "source": [
        "#3 - Remova a fruta \"banana\" do conjunto `frutas`.\n",
        "# Se \"banana\" não estiver presente, o código pode gerar um erro.\n",
        "# Verifique se a fruta existe antes de removê-la ou trate o erro adequadamente.\n",
        "\n",
        "frutas = {\"maçã\", \"banana\", \"laranja\", \"uva\"}\n",
        "\n",
        "frutas.discard(\"banana\")\n",
        "frutas.discard(\"morango\")\n",
        "#Quando tentei remover \"morango\", que não existe em 'frutas', se tivesse utilizado 'remove' ao invé de 'discard', ocorreria um erro.\n",
        "\n",
        "print(frutas)"
      ],
      "metadata": {
        "colab": {
          "base_uri": "https://localhost:8080/"
        },
        "id": "02ZwFjxxGC6b",
        "outputId": "01186ba8-0705-49de-90c3-f1e990747c80"
      },
      "execution_count": null,
      "outputs": [
        {
          "output_type": "stream",
          "name": "stdout",
          "text": [
            "{'maçã', 'uva', 'laranja'}\n"
          ]
        }
      ]
    },
    {
      "cell_type": "code",
      "source": [
        "#4 - Verifique se a fruta \"laranja\" está presente no conjunto `frutas` usando uma estrutura condicional.\n",
        "# Exiba uma mensagem no console indicando se \"laranja\" está ou não presente no conjunto.\n",
        "\n",
        "frutas = {\"maçã\", \"banana\", \"laranja\", \"uva\"}\n",
        "\n",
        "if \"laranja\" in frutas:\n",
        "  print(f\"O elemento 'laranja' aparece no conjunto\")\n",
        "else:\n",
        "  print(f\"O elemento 'laranja' não aparece no conjunto\")\n"
      ],
      "metadata": {
        "colab": {
          "base_uri": "https://localhost:8080/"
        },
        "id": "Y1lqkWZvGDHD",
        "outputId": "1c612b91-2f06-43a9-aaa0-1cf88b7f6861"
      },
      "execution_count": null,
      "outputs": [
        {
          "output_type": "stream",
          "name": "stdout",
          "text": [
            "O elemento 'laranja' aparece no conjunto\n"
          ]
        }
      ]
    },
    {
      "cell_type": "code",
      "source": [
        "#5 - Crie um segundo conjunto chamado `citrus`, contendo \"laranja\", \"limão\" e \"tangerina\".\n",
        "# Faça a união dos conjuntos `frutas` e `citrus`, criando um novo conjunto que contém todos\n",
        "# os elementos dos dois conjuntos. Exiba o resultado dessa união.\n",
        "\n",
        "frutas = {\"maçã\", \"banana\", \"laranja\", \"uva\"}\n",
        "\n",
        "citrus = {\"laranja\", \"limão\", \"tangerina\"}\n",
        "\n",
        "alimentos_frutosos = frutas.union(citrus)\n",
        "\n",
        "print(alimentos_frutosos)"
      ],
      "metadata": {
        "colab": {
          "base_uri": "https://localhost:8080/"
        },
        "id": "xAuY4S6DGDlS",
        "outputId": "d55bbcfd-e78f-4939-a03c-b90129497b4d"
      },
      "execution_count": null,
      "outputs": [
        {
          "output_type": "stream",
          "name": "stdout",
          "text": [
            "{'maçã', 'uva', 'laranja', 'tangerina', 'limão', 'banana'}\n"
          ]
        }
      ]
    },
    {
      "cell_type": "code",
      "source": [
        "#6 - Usando os conjuntos `frutas` e `citrus`, encontre a interseção entre eles, ou seja,\n",
        "# os elementos que estão presentes em ambos os conjuntos. Exiba os elementos comuns.\n",
        "\n",
        "frutas = {\"maçã\", \"banana\", \"laranja\", \"uva\"}\n",
        "\n",
        "citrus = {\"laranja\", \"limão\", \"tangerina\"}\n",
        "\n",
        "semelhanca = frutas.intersection(citrus)\n",
        "\n",
        "print(semelhanca)"
      ],
      "metadata": {
        "colab": {
          "base_uri": "https://localhost:8080/"
        },
        "id": "S6o2uaqSGDsi",
        "outputId": "1202f73d-781b-41c4-fbe7-f3dbe0c0508b"
      },
      "execution_count": null,
      "outputs": [
        {
          "output_type": "stream",
          "name": "stdout",
          "text": [
            "{'laranja'}\n"
          ]
        }
      ]
    },
    {
      "cell_type": "code",
      "source": [
        "#7 - Encontre a diferença entre os conjuntos `frutas` e `citrus`,\n",
        "# ou seja, os elementos que estão em `frutas` mas não estão em `citrus`.\n",
        "# Exiba o resultado dessa diferença.\n",
        "\n",
        "frutas = {\"maçã\", \"banana\", \"laranja\", \"uva\"}\n",
        "\n",
        "citrus = {\"laranja\", \"limão\", \"tangerina\"}\n",
        "\n",
        "diferenca = frutas.difference(citrus)\n",
        "\n",
        "print(diferenca)"
      ],
      "metadata": {
        "colab": {
          "base_uri": "https://localhost:8080/"
        },
        "id": "Etk19A_IGDzC",
        "outputId": "21cda7d5-3ab8-4407-cf12-6a1043d54af8"
      },
      "execution_count": null,
      "outputs": [
        {
          "output_type": "stream",
          "name": "stdout",
          "text": [
            "{'maçã', 'uva', 'banana'}\n"
          ]
        }
      ]
    },
    {
      "cell_type": "code",
      "source": [
        "#8 - Esvazie completamente o conjunto `citrus` usando um método específico\n",
        "# que remove todos os elementos de um conjunto. Verifique se o conjunto foi realmente\n",
        "# esvaziado ao exibi-lo no console após a operação.\n",
        "\n",
        "citrus = {\"laranja\", \"limão\", \"tangerina\"}\n",
        "\n",
        "citrus.clear()\n",
        "\n",
        "print(citrus)"
      ],
      "metadata": {
        "colab": {
          "base_uri": "https://localhost:8080/"
        },
        "id": "7PvDd0VnGD5C",
        "outputId": "91d8690b-87a0-4752-9722-f71c91b037ce"
      },
      "execution_count": null,
      "outputs": [
        {
          "output_type": "stream",
          "name": "stdout",
          "text": [
            "set()\n"
          ]
        }
      ]
    },
    {
      "cell_type": "code",
      "source": [
        "#9 - Converta o conjunto `frutas` em um conjunto imutável, ou seja,\n",
        "# um conjunto que não pode ser alterado após sua criação. Crie esse conjunto imutável e exiba-o no console.\n",
        "\n",
        "frutas = {\"maçã\", \"banana\", \"laranja\", \"uva\"}\n",
        "\n",
        "frutas = frozenset()\n",
        "#Não é possível fazer alteração no conjunto a partir do momento que 'frozenset' é utilizado, pois resultaria em erro.\n",
        "\n",
        "print(frutas)"
      ],
      "metadata": {
        "colab": {
          "base_uri": "https://localhost:8080/"
        },
        "id": "yN2wO90pGD_L",
        "outputId": "c0fa4f43-0081-405f-fc7e-052804c49201"
      },
      "execution_count": null,
      "outputs": [
        {
          "output_type": "stream",
          "name": "stdout",
          "text": [
            "frozenset()\n"
          ]
        }
      ]
    },
    {
      "cell_type": "code",
      "source": [
        "#10 - Conte quantos elementos únicos existem no conjunto `frutas` e exiba o número total de elementos no console.\n",
        "\n",
        "frutas = {\"maçã\", \"banana\", \"laranja\", \"uva\"}\n",
        "\n",
        "print(\"Elementos únicos em 'frutas':\", len(frutas))"
      ],
      "metadata": {
        "colab": {
          "base_uri": "https://localhost:8080/"
        },
        "id": "Ls_ZXyvTGEFC",
        "outputId": "3cd4db99-580e-4da2-8719-1671cc14dd62"
      },
      "execution_count": null,
      "outputs": [
        {
          "output_type": "stream",
          "name": "stdout",
          "text": [
            "Elementos únicos em 'frutas': 4\n"
          ]
        }
      ]
    }
  ]
}