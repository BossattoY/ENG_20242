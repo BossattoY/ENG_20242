{
  "nbformat": 4,
  "nbformat_minor": 0,
  "metadata": {
    "colab": {
      "provenance": [],
      "authorship_tag": "ABX9TyPVg+sQ4PGZENEz7ST2Szzt",
      "include_colab_link": true
    },
    "kernelspec": {
      "name": "python3",
      "display_name": "Python 3"
    },
    "language_info": {
      "name": "python"
    }
  },
  "cells": [
    {
      "cell_type": "markdown",
      "metadata": {
        "id": "view-in-github",
        "colab_type": "text"
      },
      "source": [
        "<a href=\"https://colab.research.google.com/github/BossattoY/ENG_20242/blob/main/Atividade1/atv_dicionario_tupla_10102024.ipynb\" target=\"_parent\"><img src=\"https://colab.research.google.com/assets/colab-badge.svg\" alt=\"Open In Colab\"/></a>"
      ]
    },
    {
      "cell_type": "code",
      "execution_count": 3,
      "metadata": {
        "colab": {
          "base_uri": "https://localhost:8080/"
        },
        "id": "_F6c9ZFS8dgW",
        "outputId": "c9ca9a8f-4ae8-49cc-80c0-50b29f90fe9e"
      },
      "outputs": [
        {
          "output_type": "stream",
          "name": "stdout",
          "text": [
            "A terceira cidade é Cachoeiro\n"
          ]
        }
      ],
      "source": [
        "#1 Crie uma tupla chamada cidades que contenha os nomes de cinco cidades. Imprima a terceira cidade.\n",
        "\n",
        "cidades=('Vila velha', 'Vitória', 'Cachoeiro', 'Serra', 'Cariacica')\n",
        "\n",
        "print(f\"A terceira cidade é {cidades[2]}\")"
      ]
    },
    {
      "cell_type": "code",
      "source": [
        "#2 Crie uma tupla chamada numeros com os seguintes valores: (1, 2, 3, 1, 4, 1). Utilize o método count() para contar quantas vezes o número 1 aparece na tupla.\n",
        "\n",
        "numeros=(1, 2, 3, 1, 4, 1)\n",
        "\n",
        "repete=numeros.count(1)\n",
        "print(f\"O numero 1 se repete {repete} vezes\")"
      ],
      "metadata": {
        "colab": {
          "base_uri": "https://localhost:8080/"
        },
        "id": "nren3loJ8t7B",
        "outputId": "ba8508bb-ed73-4bb6-fcf9-0048591b63ce"
      },
      "execution_count": 2,
      "outputs": [
        {
          "output_type": "stream",
          "name": "stdout",
          "text": [
            "O numero 1 se repete 3 vezes\n"
          ]
        }
      ]
    },
    {
      "cell_type": "code",
      "source": [
        "#3 Crie uma tupla chamada animais com os seguintes valores: ('cachorro', 'gato', 'pássaro'). Verifique se 'gato' está na tupla e imprima uma mensagem informando o resultado.\n",
        "\n",
        "animais=('cachorro', 'gato', 'pássaro')\n",
        "\n",
        "repete=animais.count('gato')\n",
        "if repete>=1:\n",
        "  print(f\"A palavra 'gato' aparece na tupla\")\n",
        "else:\n",
        "  print(f\"A palavra 'gato' não aparece na tupla\")"
      ],
      "metadata": {
        "colab": {
          "base_uri": "https://localhost:8080/"
        },
        "id": "OSaPvxop8uBw",
        "outputId": "d47201ca-9afe-4095-b351-b26d35e3fb9d"
      },
      "execution_count": 4,
      "outputs": [
        {
          "output_type": "stream",
          "name": "stdout",
          "text": [
            "A palavra 'gato' aparece na tupla\n"
          ]
        }
      ]
    },
    {
      "cell_type": "code",
      "source": [
        "#4 Dada a tupla meses = ('janeiro', 'fevereiro', 'março', 'abril', 'maio'), encontre e imprima o índice do mês 'abril'.\n",
        "\n",
        "meses = ('janeiro', 'fevereiro', 'março', 'abril', 'maio')\n",
        "\n",
        "for i in range(len(meses)):\n",
        "  if meses[i]=='maio':\n",
        "    print(f\"maio está na posição {i}\")"
      ],
      "metadata": {
        "colab": {
          "base_uri": "https://localhost:8080/"
        },
        "id": "E8mQlFkh8uGw",
        "outputId": "50884837-8fbc-4ae8-b1c1-e7cc946e3c89"
      },
      "execution_count": 7,
      "outputs": [
        {
          "output_type": "stream",
          "name": "stdout",
          "text": [
            "maio está na posição 4\n"
          ]
        }
      ]
    },
    {
      "cell_type": "code",
      "source": [
        "#5 Crie uma tupla chamada coordenadas que armazene a latitude e longitude de um local (ex: (-23.5505, -46.6333)). Imprima a latitude e a longitude separadamente.\n",
        "\n",
        "coordenadas=(-23.5505, -46.6333)\n",
        "print(f\"Latitude: {coordenadas[0]}\")\n",
        "print(f\"Longitude: {coordenadas[1]}\")"
      ],
      "metadata": {
        "colab": {
          "base_uri": "https://localhost:8080/"
        },
        "id": "XQlbNfFv8uMg",
        "outputId": "8dfccbdd-9297-45a9-ba1f-48ba8a548572"
      },
      "execution_count": 9,
      "outputs": [
        {
          "output_type": "stream",
          "name": "stdout",
          "text": [
            "Latitude: -23.5505\n",
            "Longitude: -46.6333\n"
          ]
        }
      ]
    },
    {
      "cell_type": "code",
      "source": [
        "#6 Crie um dicionário chamado carro com as chaves marca, modelo e ano. Atribua valores de sua escolha e imprima o modelo do carro.\n",
        "\n",
        "carro={'marca':'chevrolet', 'modelo':'camaro ss', 'ano':'72'}\n",
        "\n",
        "print(carro['modelo'])"
      ],
      "metadata": {
        "colab": {
          "base_uri": "https://localhost:8080/"
        },
        "id": "doOBPvo38uRw",
        "outputId": "25b58cda-3455-469b-ba67-0990cbba49c9"
      },
      "execution_count": 10,
      "outputs": [
        {
          "output_type": "stream",
          "name": "stdout",
          "text": [
            "camaro ss\n"
          ]
        }
      ]
    },
    {
      "cell_type": "code",
      "source": [
        "#7 Use o dicionário carro que você criou no exercício anterior. Adicione uma nova chave chamada cor e atribua uma cor ao carro. Em seguida, imprima o dicionário completo.\n",
        "\n",
        "carro={'marca':'chevrolet', 'modelo':'camaro ss', 'ano':'72'}\n",
        "\n",
        "carro['cor'] = 'chumbo'\n",
        "\n",
        "print(carro)"
      ],
      "metadata": {
        "colab": {
          "base_uri": "https://localhost:8080/"
        },
        "id": "QJozbmGv8uXY",
        "outputId": "83398faf-9034-4cdd-a906-ea8d228a0d25"
      },
      "execution_count": 13,
      "outputs": [
        {
          "output_type": "stream",
          "name": "stdout",
          "text": [
            "{'marca': 'chevrolet', 'modelo': 'camaro ss', 'ano': '72', 'cor': 'chumbo'}\n"
          ]
        }
      ]
    },
    {
      "cell_type": "code",
      "source": [
        "#8 Dado o dicionário pessoa = {'nome': 'João', 'idade': 30, 'cidade': 'São Paulo'}, remova a chave idade e imprima o dicionário resultante.\n",
        "\n",
        "pessoa = {'nome': 'João', 'idade': 30, 'cidade': 'São Paulo'}\n",
        "\n",
        "pessoa.pop('idade')\n",
        "print(pessoa)"
      ],
      "metadata": {
        "colab": {
          "base_uri": "https://localhost:8080/"
        },
        "id": "d3Ajs_rb8uch",
        "outputId": "72b4c5a5-cb7a-418b-c437-998cb5efd9de"
      },
      "execution_count": 14,
      "outputs": [
        {
          "output_type": "stream",
          "name": "stdout",
          "text": [
            "{'nome': 'João', 'cidade': 'São Paulo'}\n"
          ]
        }
      ]
    },
    {
      "cell_type": "code",
      "source": [
        "#9 Crie um dicionário chamado produto que contenha nome, preco e quantidade. Use um loop for para imprimir todos os pares chave/valor.\n",
        "\n",
        "produto={'nome':'amaciante', 'preço':14.99, 'quantidade':45}\n",
        "\n",
        "for i in produto:\n",
        "  print(f\"{i} : {produto[i]}\")"
      ],
      "metadata": {
        "colab": {
          "base_uri": "https://localhost:8080/"
        },
        "id": "gOdOGmOP8uiQ",
        "outputId": "0c0caf90-bb16-4aed-f60a-7c8bd18e1709"
      },
      "execution_count": 15,
      "outputs": [
        {
          "output_type": "stream",
          "name": "stdout",
          "text": [
            "nome : amaciante\n",
            "preço : 14.99\n",
            "quantidade : 45\n"
          ]
        }
      ]
    },
    {
      "cell_type": "code",
      "source": [
        "#10 Dado o dicionário estudante = {'nome': 'Maria', 'curso': 'Biologia', 'ano': 2}, verifique se a chave curso existe. Se existir, imprima \"A estudante está no curso de Biologia.\"\n",
        "\n",
        "estudante = {'nome': 'Maria', 'curso': 'Biologia', 'ano': 2}\n",
        "\n",
        "if 'curso' in estudante:\n",
        "  print(f\"A estudante está no curso de biologia\")"
      ],
      "metadata": {
        "colab": {
          "base_uri": "https://localhost:8080/"
        },
        "id": "JJ5tle0T8unx",
        "outputId": "225b71d0-6d95-43e6-d6a0-57363753ebee"
      },
      "execution_count": 16,
      "outputs": [
        {
          "output_type": "stream",
          "name": "stdout",
          "text": [
            "A estudante está no curso de biologia\n"
          ]
        }
      ]
    }
  ]
}