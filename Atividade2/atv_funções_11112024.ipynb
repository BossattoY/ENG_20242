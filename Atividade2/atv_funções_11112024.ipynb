{
  "cells": [
    {
      "cell_type": "markdown",
      "metadata": {
        "id": "view-in-github",
        "colab_type": "text"
      },
      "source": [
        "<a href=\"https://colab.research.google.com/github/BossattoY/ENG_20242/blob/main/Atividade2/atv_fun%C3%A7%C3%B5es_11112024.ipynb\" target=\"_parent\"><img src=\"https://colab.research.google.com/assets/colab-badge.svg\" alt=\"Open In Colab\"/></a>"
      ]
    },
    {
      "cell_type": "code",
      "execution_count": 41,
      "metadata": {
        "id": "GSUkgj8WPKPV"
      },
      "outputs": [],
      "source": [
        "#Funções\n",
        "\n",
        "#Lista Geral int\n",
        "def geral_int():\n",
        "  lista_geral = [1, 2, 3, 3, 4, 5, 6, 6, 7, 8, 9]\n",
        "  return lista_geral\n",
        "\n",
        "#Lista Geral int 2\n",
        "def geral_int2():\n",
        "  lista_geral2 = [1, 2, 3, 5, 7, 11, 13]\n",
        "  return lista_geral2\n",
        "\n",
        "#Lista Geral str\n",
        "def geral_str():\n",
        "  lista_geral = [\"casa\", \"Cobra\", \"Arca\", \"dinosauro\", \"zebra\", \"Foca\"]\n",
        "  return lista_geral\n",
        "\n",
        "#1\n",
        "def impar(impares):\n",
        "  for i in range(len(retorna_impar)):\n",
        "    if retorna_impar[i] % 2 != 0:\n",
        "      impares.append(retorna_impar[i])\n",
        "  print(impares)\n",
        "\n",
        "#2\n",
        "def dobro():\n",
        "  retorna_dobro = [i*2 for i in geral_int()]\n",
        "  print(retorna_dobro)\n",
        "\n",
        "#3\n",
        "def sem_dupli(dupli):\n",
        "  dupli = list(set(dupli))\n",
        "  print(dupli)\n",
        "\n",
        "#4\n",
        "def divide(div_zero):\n",
        "  divisor = int(input(\"Informe o valor do divisor: \"))\n",
        "  for i in range(len(geral_int())):\n",
        "    if geral_int()[i] % divisor == 0:\n",
        "      div_zero.append(geral_int()[i])\n",
        "  print(div_zero)\n",
        "\n",
        "#5\n",
        "def semelhança(valores_iguais):\n",
        "  for i in range(len(geral_int())):\n",
        "    for j in range(len(geral_int2())):\n",
        "      if geral_int()[i] == geral_int2()[j]:\n",
        "        valores_iguais.append(geral_int()[i])\n",
        "  valores_iguais = list(set(valores_iguais))\n",
        "  print(valores_iguais)\n",
        "\n",
        "#6\n",
        "def lista_invertida(inverter):\n",
        "  inverter.reverse()\n",
        "  print(inverter)\n",
        "\n",
        "#7\n",
        "def quadrado(xx2):\n",
        "  for i in range(len(geral_int())):\n",
        "    xx2.append(geral_int()[i]**2)\n",
        "  print(xx2)\n",
        "\n",
        "#8\n",
        "def valor_maior(maiores):\n",
        "  compara_termo = int(input(\"Informe um valor para comparar aos da lista e retornar apenas os valores maiores que o fornecido: \"))\n",
        "  for i in range(len(geral_int())):\n",
        "    if compara_termo < geral_int()[i]:\n",
        "      maiores.append(geral_int()[i])\n",
        "  print(maiores)\n",
        "\n",
        "#9\n",
        "def diferença(diferente):\n",
        "  for i in range(len(geral_int())):\n",
        "    for j in range(len(geral_int2())):\n",
        "      if geral_int()[i]!=geral_int2()[j]:\n",
        "        diferente.append(geral_int()[i])\n",
        "        diferente = list(set(diferente))\n",
        "        for i in range(len(geral_int2())):\n",
        "          if geral_int2()[i] in diferente:\n",
        "            diferente.remove(geral_int2()[i])\n",
        "  diferente.sort()\n",
        "  print(diferente)\n",
        "\n",
        "#10\n",
        "def unico(nao_repete):\n",
        "  for i in range(len(geral_int())):\n",
        "    if geral_int().count(geral_int()[i])>1:\n",
        "      nao_repete.remove(geral_int()[i])\n",
        "  print(nao_repete)\n",
        "\n",
        "#11\n",
        "def unico_duplo(soma_unico):\n",
        "  geral1 = geral_int()\n",
        "  geral2 = geral_int2()\n",
        "  iguais = []\n",
        "  set_geral1 = set(geral1)\n",
        "  set_geral2 = set(geral2)\n",
        "  soma_unico = set_geral1.intersection(set_geral2)\n",
        "  for i in range(len(geral_int())):\n",
        "    if geral_int().count(geral_int()[i])>1:\n",
        "      iguais.append(geral_int()[i])\n",
        "  iguais = list(set(iguais))\n",
        "  for i in range(len(iguais)):\n",
        "    if iguais[i] in soma_unico:\n",
        "      soma_unico.remove(iguais[i])\n",
        "  soma_unico = list(set(soma_unico))\n",
        "  return print(list(soma_unico))\n",
        "\n",
        "#12\n",
        "def repete(repetidos):\n",
        "  for i in range(len(geral_int())):\n",
        "    if geral_int().count(geral_int()[i])>1:\n",
        "      repetidos.append(geral_int()[i])\n",
        "  repetidos = list(set(repetidos))\n",
        "  print(repetidos)\n",
        "\n",
        "#13\n",
        "def pares(par):\n",
        "  for i in range(len(geral_int())):\n",
        "    if geral_int()[i]%2==0:\n",
        "      par.append(geral_int()[i])\n",
        "  print(par)\n",
        "\n",
        "#14\n",
        "def indice(maior_indice):\n",
        "  compara_termo = int(input(\"Informe um valor para comparar aos da lista e retornar apenas os índices maiores que o fornecido: \"))\n",
        "  for i in range(len(geral_int())):\n",
        "    if compara_termo < i:\n",
        "      maior_indice.append(i)\n",
        "  print(maior_indice)\n",
        "\n",
        "#15\n",
        "def tamanho(tamanho_str):\n",
        "  for i in range(len(geral_str())):\n",
        "    tamanho_str.append(len(geral_str()[i]))\n",
        "  print(tamanho_str)\n",
        "\n",
        "#16\n",
        "def cubo(elev_cubo):\n",
        "  elev_cubo = [i**3 for i in geral_int()]\n",
        "  print(elev_cubo)\n",
        "\n",
        "#17\n",
        "def lista_unicos(ele_unicos):\n",
        "  iguais = []\n",
        "  for i in range(len(geral_int())):\n",
        "    if geral_int().count(geral_int()[i])>1:\n",
        "      iguais.append(geral_int()[i])\n",
        "  for i in range(len(geral_int())):\n",
        "      if geral_int()[i] not in iguais:\n",
        "          ele_unicos.append(geral_int()[i])\n",
        "  print(ele_unicos)\n",
        "\n",
        "#18\n",
        "def maiuscula(str_maiuscula):\n",
        "  for i in range(len(geral_str())):\n",
        "    if geral_str()[i][0].isupper():\n",
        "      str_maiuscula.append(geral_str()[i])\n",
        "  print(str_maiuscula)\n",
        "\n",
        "#19\n",
        "def multiplo(multiplo_3):\n",
        "  multiplo_3 = [i for i in geral_int() if i%3==0]\n",
        "  print(multiplo_3)\n",
        "\n",
        "#20\n",
        "def interseçao(interseçao_lista):\n",
        "  geral1 = geral_int()\n",
        "  geral2 = geral_int2()\n",
        "  set_geral1 = set(geral1)\n",
        "  set_geral2 = set(geral2)\n",
        "  interseçao_lista = set_geral1.intersection(set_geral2)\n",
        "  interseçao_lista = list(interseçao_lista)\n",
        "  interseçao_lista.sort()\n",
        "  print(interseçao_lista)"
      ]
    },
    {
      "cell_type": "code",
      "execution_count": null,
      "metadata": {
        "colab": {
          "base_uri": "https://localhost:8080/"
        },
        "id": "LH_-u50CR4pt",
        "outputId": "6d1c6076-96b1-4006-e3a9-5640bf2a08fa"
      },
      "outputs": [
        {
          "name": "stdout",
          "output_type": "stream",
          "text": [
            "[1, 3, 3, 5, 7, 9]\n"
          ]
        }
      ],
      "source": [
        "#1. Crie uma função que receba uma lista de números e retorne uma lista contendo apenas os números ímpares.\n",
        "retorna_impar = geral_int()\n",
        "impares = []\n",
        "impar(impares)"
      ]
    },
    {
      "cell_type": "code",
      "execution_count": null,
      "metadata": {
        "colab": {
          "base_uri": "https://localhost:8080/"
        },
        "id": "38vFf_6rWb7_",
        "outputId": "0675ac7d-c17b-468f-ec8c-69b796b449e1"
      },
      "outputs": [
        {
          "name": "stdout",
          "output_type": "stream",
          "text": [
            "[2, 4, 6, 6, 8, 10, 12, 12, 14, 16, 18]\n"
          ]
        }
      ],
      "source": [
        "#2. Escreva uma função que receba uma lista e retorne uma nova lista com o dobro de cada elemento.\n",
        "retorna_dobro = geral_int()\n",
        "dobro()"
      ]
    },
    {
      "cell_type": "code",
      "execution_count": null,
      "metadata": {
        "colab": {
          "base_uri": "https://localhost:8080/"
        },
        "id": "5lkNRYOtX6Vq",
        "outputId": "9d6f562d-dae9-49c8-c866-816d898332a4"
      },
      "outputs": [
        {
          "output_type": "stream",
          "name": "stdout",
          "text": [
            "[1, 2, 3, 4, 5, 6, 7, 8, 9]\n"
          ]
        }
      ],
      "source": [
        "#3. Faça uma função que receba uma lista e retorne uma lista sem duplicatas.\n",
        "dupli = geral_int()\n",
        "sem_dupli(dupli)"
      ]
    },
    {
      "cell_type": "code",
      "execution_count": null,
      "metadata": {
        "id": "AxQYo1Eues_c",
        "colab": {
          "base_uri": "https://localhost:8080/"
        },
        "outputId": "f25929c9-8c8a-4e66-cb6e-70e2cfe58243"
      },
      "outputs": [
        {
          "output_type": "stream",
          "name": "stdout",
          "text": [
            "Informe o valor do divisor: 3\n",
            "[3, 3, 6, 6, 9]\n"
          ]
        }
      ],
      "source": [
        "#4. Crie uma função que receba uma lista e um valor divisor e retorne uma lista dos elementos que são divisíveis pelo divisor.\n",
        "div_zero = []\n",
        "divide(div_zero)"
      ]
    },
    {
      "cell_type": "code",
      "execution_count": null,
      "metadata": {
        "id": "fPVTXcesetGi",
        "colab": {
          "base_uri": "https://localhost:8080/"
        },
        "outputId": "458ac922-a5fe-45db-b5b0-9fe8a5457e21"
      },
      "outputs": [
        {
          "output_type": "stream",
          "name": "stdout",
          "text": [
            "[1, 2, 3, 5, 7]\n"
          ]
        }
      ],
      "source": [
        "#5. Escreva uma função que receba duas listas e retorne um conjunto com os elementos que aparecem em ambas.\n",
        "valores_iguais = []\n",
        "semelhança(valores_iguais)"
      ]
    },
    {
      "cell_type": "code",
      "execution_count": null,
      "metadata": {
        "id": "SM2RV-bTetNz",
        "colab": {
          "base_uri": "https://localhost:8080/"
        },
        "outputId": "5956375c-cf68-4f9c-b92a-20c14168f05c"
      },
      "outputs": [
        {
          "output_type": "stream",
          "name": "stdout",
          "text": [
            "[9, 8, 7, 6, 6, 5, 4, 3, 3, 2, 1]\n"
          ]
        }
      ],
      "source": [
        "#6. Crie uma função que receba uma lista e retorne uma nova lista com os elementos em ordem inversa.\n",
        "inverter = geral_int()\n",
        "lista_invertida(inverter)"
      ]
    },
    {
      "cell_type": "code",
      "execution_count": null,
      "metadata": {
        "id": "VVqG6HWPetUi",
        "colab": {
          "base_uri": "https://localhost:8080/"
        },
        "outputId": "903ac495-d5ec-4f91-ee2b-f5771a184716"
      },
      "outputs": [
        {
          "output_type": "stream",
          "name": "stdout",
          "text": [
            "[1, 4, 9, 9, 16, 25, 36, 36, 49, 64, 81]\n"
          ]
        }
      ],
      "source": [
        "#7. Escreva uma função que receba uma lista de números e retorne uma lista contendo o quadrado de cada número.\n",
        "xx2 = []\n",
        "quadrado(xx2)"
      ]
    },
    {
      "cell_type": "code",
      "execution_count": null,
      "metadata": {
        "id": "k-9zJ1zOetba",
        "colab": {
          "base_uri": "https://localhost:8080/"
        },
        "outputId": "2ab944dc-ca5a-434c-9303-16eeddd6133e"
      },
      "outputs": [
        {
          "output_type": "stream",
          "name": "stdout",
          "text": [
            "Informe um valor para comparar aos da lista e retornar apenas os valores maiores que o fornecido: 5\n",
            "[6, 6, 7, 8, 9]\n"
          ]
        }
      ],
      "source": [
        "#8. Crie uma função que receba uma lista e um valor, e retorne uma lista com os elementos maiores que esse valor.\n",
        "maiores = []\n",
        "valor_maior(maiores)"
      ]
    },
    {
      "cell_type": "code",
      "execution_count": null,
      "metadata": {
        "id": "dlsO6wF6etjS",
        "colab": {
          "base_uri": "https://localhost:8080/"
        },
        "outputId": "c4ec8c90-882e-41d2-c2d1-84533491a583"
      },
      "outputs": [
        {
          "output_type": "stream",
          "name": "stdout",
          "text": [
            "[4, 6, 8, 9]\n"
          ]
        }
      ],
      "source": [
        "#9. Escreva uma função que receba duas listas e retorne uma lista dos elementos que estão em apenas uma das listas.\n",
        "diferente = []\n",
        "diferença(diferente)"
      ]
    },
    {
      "cell_type": "code",
      "execution_count": null,
      "metadata": {
        "id": "gd-dLf7Yetqi",
        "colab": {
          "base_uri": "https://localhost:8080/"
        },
        "outputId": "76267707-3135-49a4-a17a-ee3d8be54513"
      },
      "outputs": [
        {
          "output_type": "stream",
          "name": "stdout",
          "text": [
            "[1, 2, 4, 5, 7, 8, 9]\n"
          ]
        }
      ],
      "source": [
        "#10. Faça uma função que receba uma lista e retorne um conjunto dos elementos únicos.\n",
        "nao_repete = geral_int()\n",
        "unico(nao_repete)"
      ]
    },
    {
      "cell_type": "code",
      "execution_count": 12,
      "metadata": {
        "id": "2HJUyA3Yetxi",
        "colab": {
          "base_uri": "https://localhost:8080/"
        },
        "outputId": "4f3b2c6e-0c83-4a6f-d2eb-3f403e91b0d1"
      },
      "outputs": [
        {
          "output_type": "stream",
          "name": "stdout",
          "text": [
            "[1, 2, 5, 7]\n"
          ]
        }
      ],
      "source": [
        "#11. Crie uma função que receba duas listas e retorne uma lista dos elementos únicos que estão em ambas.\n",
        "soma_unico = []\n",
        "unico_duplo(soma_unico)"
      ]
    },
    {
      "cell_type": "code",
      "execution_count": 2,
      "metadata": {
        "id": "A9DR76zset4z",
        "colab": {
          "base_uri": "https://localhost:8080/"
        },
        "outputId": "20326ecd-8520-4d69-c805-7097757771c3"
      },
      "outputs": [
        {
          "output_type": "stream",
          "name": "stdout",
          "text": [
            "[3, 6]\n"
          ]
        }
      ],
      "source": [
        "#12. Escreva uma função que receba uma lista e retorne uma lista contendo os elementos que aparecem mais de uma vez.\n",
        "repetidos = []\n",
        "repete(repetidos)"
      ]
    },
    {
      "cell_type": "code",
      "execution_count": 2,
      "metadata": {
        "id": "geXKAw2set_z",
        "colab": {
          "base_uri": "https://localhost:8080/"
        },
        "outputId": "7b910e0f-e922-4607-c994-5b57d495a061"
      },
      "outputs": [
        {
          "output_type": "stream",
          "name": "stdout",
          "text": [
            "[2, 4, 6, 6, 8]\n"
          ]
        }
      ],
      "source": [
        "#13. Faça uma função que receba uma lista de números e retorne uma lista dos números pares.\n",
        "par = []\n",
        "pares(par)"
      ]
    },
    {
      "cell_type": "code",
      "execution_count": 4,
      "metadata": {
        "id": "JaoN-qqQeuGa",
        "colab": {
          "base_uri": "https://localhost:8080/"
        },
        "outputId": "e0a0b1ac-1e4c-48ff-9322-4169a71ea751"
      },
      "outputs": [
        {
          "output_type": "stream",
          "name": "stdout",
          "text": [
            "Informe um valor para comparar aos da lista e retornar apenas os índices maiores que o fornecido: 3\n",
            "[4, 5, 6, 7, 8, 9, 10]\n"
          ]
        }
      ],
      "source": [
        "#14. Escreva uma função que receba uma lista de números e um valor, e retorne uma lista com os índices dos elementos maiores que o valor.\n",
        "maior_indice = []\n",
        "indice(maior_indice)"
      ]
    },
    {
      "cell_type": "code",
      "execution_count": 9,
      "metadata": {
        "id": "TyUa0Wi4euOC",
        "colab": {
          "base_uri": "https://localhost:8080/"
        },
        "outputId": "5051ca29-caa9-4540-aa5d-7ce1776a7edb"
      },
      "outputs": [
        {
          "output_type": "stream",
          "name": "stdout",
          "text": [
            "[4, 5, 4, 9, 5, 4]\n"
          ]
        }
      ],
      "source": [
        "#15. Crie uma função que receba uma lista de strings e retorne uma lista com o tamanho de cada string.\n",
        "tamanho_str = []\n",
        "tamanho(tamanho_str)"
      ]
    },
    {
      "cell_type": "code",
      "execution_count": 11,
      "metadata": {
        "id": "sjD1hiCjeuVK",
        "colab": {
          "base_uri": "https://localhost:8080/"
        },
        "outputId": "e2e27877-8b8b-4ced-8d29-30763c1c40a5"
      },
      "outputs": [
        {
          "output_type": "stream",
          "name": "stdout",
          "text": [
            "[1, 8, 27, 27, 64, 125, 216, 216, 343, 512, 729]\n"
          ]
        }
      ],
      "source": [
        "#16. Escreva uma função que receba uma lista de números e retorne uma lista contendo cada número elevado ao cubo.\n",
        "elev_cubo = []\n",
        "cubo(elev_cubo)"
      ]
    },
    {
      "cell_type": "code",
      "execution_count": 30,
      "metadata": {
        "id": "a_a4pZnJeuc7",
        "colab": {
          "base_uri": "https://localhost:8080/"
        },
        "outputId": "49b5b892-5652-4a5c-d005-6b2a39fa3483"
      },
      "outputs": [
        {
          "output_type": "stream",
          "name": "stdout",
          "text": [
            "[1, 2, 4, 5, 7, 8, 9]\n"
          ]
        }
      ],
      "source": [
        "#17. Crie uma função que receba uma lista e retorne uma lista de todos os elementos únicos.\n",
        "ele_unicos = []\n",
        "lista_unicos(ele_unicos)"
      ]
    },
    {
      "cell_type": "code",
      "execution_count": 34,
      "metadata": {
        "id": "eaEz7bkveulF",
        "colab": {
          "base_uri": "https://localhost:8080/"
        },
        "outputId": "191d42aa-67e6-4660-c132-6c3be75cd296"
      },
      "outputs": [
        {
          "output_type": "stream",
          "name": "stdout",
          "text": [
            "['Cobra', 'Arca', 'Foca']\n"
          ]
        }
      ],
      "source": [
        "#18. Escreva uma função que receba uma lista de strings e retorne uma lista contendo as strings que começam com uma letra maiúscula.\n",
        "str_maiuscula = []\n",
        "maiuscula(str_maiuscula)"
      ]
    },
    {
      "cell_type": "code",
      "execution_count": 38,
      "metadata": {
        "id": "v4G4tJf3eusT",
        "colab": {
          "base_uri": "https://localhost:8080/"
        },
        "outputId": "42a10ddd-4ce4-450d-d1b1-04dfe0bc719a"
      },
      "outputs": [
        {
          "output_type": "stream",
          "name": "stdout",
          "text": [
            "[3, 3, 6, 6, 9]\n"
          ]
        }
      ],
      "source": [
        "#19. Faça uma função que receba uma lista de números e retorne uma lista contendo apenas os múltiplos de 3.\n",
        "multiplo_3 = []\n",
        "multiplo(multiplo_3)"
      ]
    },
    {
      "cell_type": "code",
      "execution_count": 42,
      "metadata": {
        "id": "wPLGsdHZeuzz",
        "colab": {
          "base_uri": "https://localhost:8080/"
        },
        "outputId": "6e2b7cc8-8442-450a-ea15-5fb11e0225ce"
      },
      "outputs": [
        {
          "output_type": "stream",
          "name": "stdout",
          "text": [
            "[1, 2, 3, 5, 7]\n"
          ]
        }
      ],
      "source": [
        "#20. Escreva uma função que receba duas listas e retorne uma lista com a interseção ordenada de forma crescente entre elas.\n",
        "interseçao_lista = []\n",
        "interseçao(interseçao_lista)"
      ]
    }
  ],
  "metadata": {
    "colab": {
      "provenance": [],
      "authorship_tag": "ABX9TyO0xoIlgi37zN7500HgBpBA",
      "include_colab_link": true
    },
    "kernelspec": {
      "display_name": "Python 3",
      "name": "python3"
    },
    "language_info": {
      "name": "python"
    }
  },
  "nbformat": 4,
  "nbformat_minor": 0
}