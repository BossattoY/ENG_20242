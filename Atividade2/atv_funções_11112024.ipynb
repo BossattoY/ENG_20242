{
  "nbformat": 4,
  "nbformat_minor": 0,
  "metadata": {
    "colab": {
      "provenance": [],
      "authorship_tag": "ABX9TyPhdcEp+RutteesoI4hgN6L",
      "include_colab_link": true
    },
    "kernelspec": {
      "name": "python3",
      "display_name": "Python 3"
    },
    "language_info": {
      "name": "python"
    }
  },
  "cells": [
    {
      "cell_type": "markdown",
      "metadata": {
        "id": "view-in-github",
        "colab_type": "text"
      },
      "source": [
        "<a href=\"https://colab.research.google.com/github/BossattoY/ENG_20242/blob/main/Atividade2/atv_fun%C3%A7%C3%B5es_11112024.ipynb\" target=\"_parent\"><img src=\"https://colab.research.google.com/assets/colab-badge.svg\" alt=\"Open In Colab\"/></a>"
      ]
    },
    {
      "cell_type": "code",
      "execution_count": 37,
      "metadata": {
        "id": "GSUkgj8WPKPV"
      },
      "outputs": [],
      "source": [
        "#Funções\n",
        "\n",
        "#Lista Geral\n",
        "def geral_int():\n",
        "  lista_geral = [1, 2, 3, 3, 4, 5, 6, 6, 7, 8, 9]\n",
        "  return lista_geral\n",
        "\n",
        "#1\n",
        "def impar(impares):\n",
        "  for i in range(len(retorna_impar)):\n",
        "    if retorna_impar[i] % 2 != 0:\n",
        "      impares.append(retorna_impar[i])\n",
        "  print(impares)\n",
        "\n",
        "#2\n",
        "def dobro():\n",
        "  retorna_dobro = [i*2 for i in geral_int()]\n",
        "  print(retorna_dobro)\n",
        "\n",
        "#3\n",
        "def sem_dupli(dupli):\n",
        ""
      ]
    },
    {
      "cell_type": "code",
      "source": [
        "#1. Crie uma função que receba uma lista de números e retorne uma lista contendo apenas os números ímpares.\n",
        "retorna_impar = geral_int()\n",
        "impares = []\n",
        "impar(impares)"
      ],
      "metadata": {
        "colab": {
          "base_uri": "https://localhost:8080/"
        },
        "id": "LH_-u50CR4pt",
        "outputId": "6d1c6076-96b1-4006-e3a9-5640bf2a08fa"
      },
      "execution_count": 38,
      "outputs": [
        {
          "output_type": "stream",
          "name": "stdout",
          "text": [
            "[1, 3, 3, 5, 7, 9]\n"
          ]
        }
      ]
    },
    {
      "cell_type": "code",
      "source": [
        "#2. Escreva uma função que receba uma lista e retorne uma nova lista com o dobro de cada elemento.\n",
        "retorna_dobro = geral_int()\n",
        "dobro()"
      ],
      "metadata": {
        "colab": {
          "base_uri": "https://localhost:8080/"
        },
        "id": "38vFf_6rWb7_",
        "outputId": "0675ac7d-c17b-468f-ec8c-69b796b449e1"
      },
      "execution_count": 39,
      "outputs": [
        {
          "output_type": "stream",
          "name": "stdout",
          "text": [
            "[2, 4, 6, 6, 8, 10, 12, 12, 14, 16, 18]\n"
          ]
        }
      ]
    },
    {
      "cell_type": "code",
      "source": [
        "#3. Faça uma função que receba uma lista e retorne uma lista sem duplicatas.\n"
      ],
      "metadata": {
        "id": "5lkNRYOtX6Vq"
      },
      "execution_count": null,
      "outputs": []
    }
  ]
}