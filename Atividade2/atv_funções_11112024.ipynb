{
  "cells": [
    {
      "cell_type": "markdown",
      "metadata": {
        "id": "view-in-github",
        "colab_type": "text"
      },
      "source": [
        "<a href=\"https://colab.research.google.com/github/BossattoY/ENG_20242/blob/main/Atividade2/atv_fun%C3%A7%C3%B5es_11112024.ipynb\" target=\"_parent\"><img src=\"https://colab.research.google.com/assets/colab-badge.svg\" alt=\"Open In Colab\"/></a>"
      ]
    },
    {
      "cell_type": "code",
      "execution_count": 27,
      "metadata": {
        "id": "GSUkgj8WPKPV"
      },
      "outputs": [],
      "source": [
        "#Funções\n",
        "\n",
        "#Lista Geral\n",
        "def geral_int():\n",
        "  lista_geral = [1, 2, 3, 3, 4, 5, 6, 6, 7, 8, 9]\n",
        "  return lista_geral\n",
        "\n",
        "#Lista Geral 2\n",
        "def geral_int2():\n",
        "  lista_geral2 = [1, 2, 3, 5, 7, 11, 13]\n",
        "  return lista_geral2\n",
        "\n",
        "#1\n",
        "def impar(impares):\n",
        "  for i in range(len(retorna_impar)):\n",
        "    if retorna_impar[i] % 2 != 0:\n",
        "      impares.append(retorna_impar[i])\n",
        "  print(impares)\n",
        "\n",
        "#2\n",
        "def dobro():\n",
        "  retorna_dobro = [i*2 for i in geral_int()]\n",
        "  print(retorna_dobro)\n",
        "\n",
        "#3\n",
        "def sem_dupli(dupli):\n",
        "  dupli = list(set(dupli))\n",
        "  print(dupli)\n",
        "\n",
        "#4\n",
        "def divide(div_zero):\n",
        "  divisor = int(input(\"Informe o valor do divisor: \"))\n",
        "  for i in range(len(geral_int())):\n",
        "    if geral_int()[i] % divisor == 0:\n",
        "      div_zero.append(geral_int()[i])\n",
        "  print(div_zero)\n",
        "\n",
        "#5\n",
        "def semelhança(valores_iguais):\n",
        "  for i in range(len(geral_int())):\n",
        "    for j in range(len(geral_int2())):\n",
        "      if geral_int()[i] == geral_int2()[j]:\n",
        "        valores_iguais.append(geral_int()[i])\n",
        "  valores_iguais = list(set(valores_iguais))\n",
        "  print(valores_iguais)\n",
        "\n",
        "#6\n",
        "def lista_invertida(inverter):\n",
        "  inverter.reverse()\n",
        "  print(inverter)\n",
        "\n",
        "#7\n",
        "def quadrado(xx2):\n",
        "  for i in range(len(geral_int())):\n",
        "    xx2.append(geral_int()[i]**2)\n",
        "  print(xx2)\n",
        "\n",
        "#8\n",
        "def valor_maior(maiores):\n",
        "  compara_termo = int(input(\"Informe um valor para comparar aos da lista e retornar apenas os valores maiores que o fornecido: \"))\n",
        "  for i in range(len(geral_int())):\n",
        "    if compara_termo < geral_int()[i]:\n",
        "      maiores.append(geral_int()[i])\n",
        "  print(maiores)"
      ]
    },
    {
      "cell_type": "code",
      "execution_count": null,
      "metadata": {
        "colab": {
          "base_uri": "https://localhost:8080/"
        },
        "id": "LH_-u50CR4pt",
        "outputId": "6d1c6076-96b1-4006-e3a9-5640bf2a08fa"
      },
      "outputs": [
        {
          "name": "stdout",
          "output_type": "stream",
          "text": [
            "[1, 3, 3, 5, 7, 9]\n"
          ]
        }
      ],
      "source": [
        "#1. Crie uma função que receba uma lista de números e retorne uma lista contendo apenas os números ímpares.\n",
        "retorna_impar = geral_int()\n",
        "impares = []\n",
        "impar(impares)"
      ]
    },
    {
      "cell_type": "code",
      "execution_count": null,
      "metadata": {
        "colab": {
          "base_uri": "https://localhost:8080/"
        },
        "id": "38vFf_6rWb7_",
        "outputId": "0675ac7d-c17b-468f-ec8c-69b796b449e1"
      },
      "outputs": [
        {
          "name": "stdout",
          "output_type": "stream",
          "text": [
            "[2, 4, 6, 6, 8, 10, 12, 12, 14, 16, 18]\n"
          ]
        }
      ],
      "source": [
        "#2. Escreva uma função que receba uma lista e retorne uma nova lista com o dobro de cada elemento.\n",
        "retorna_dobro = geral_int()\n",
        "dobro()"
      ]
    },
    {
      "cell_type": "code",
      "execution_count": 14,
      "metadata": {
        "colab": {
          "base_uri": "https://localhost:8080/"
        },
        "id": "5lkNRYOtX6Vq",
        "outputId": "9d6f562d-dae9-49c8-c866-816d898332a4"
      },
      "outputs": [
        {
          "output_type": "stream",
          "name": "stdout",
          "text": [
            "[1, 2, 3, 4, 5, 6, 7, 8, 9]\n"
          ]
        }
      ],
      "source": [
        "#3. Faça uma função que receba uma lista e retorne uma lista sem duplicatas.\n",
        "dupli = geral_int()\n",
        "sem_dupli(dupli)"
      ]
    },
    {
      "cell_type": "code",
      "execution_count": 16,
      "metadata": {
        "id": "AxQYo1Eues_c",
        "colab": {
          "base_uri": "https://localhost:8080/"
        },
        "outputId": "f25929c9-8c8a-4e66-cb6e-70e2cfe58243"
      },
      "outputs": [
        {
          "output_type": "stream",
          "name": "stdout",
          "text": [
            "Informe o valor do divisor: 3\n",
            "[3, 3, 6, 6, 9]\n"
          ]
        }
      ],
      "source": [
        "#4. Crie uma função que receba uma lista e um valor divisor e retorne uma lista dos elementos que são divisíveis pelo divisor.\n",
        "div_zero = []\n",
        "divide(div_zero)"
      ]
    },
    {
      "cell_type": "code",
      "execution_count": 12,
      "metadata": {
        "id": "fPVTXcesetGi",
        "colab": {
          "base_uri": "https://localhost:8080/"
        },
        "outputId": "458ac922-a5fe-45db-b5b0-9fe8a5457e21"
      },
      "outputs": [
        {
          "output_type": "stream",
          "name": "stdout",
          "text": [
            "[1, 2, 3, 5, 7]\n"
          ]
        }
      ],
      "source": [
        "#5. Escreva uma função que receba duas listas e retorne um conjunto com os elementos que aparecem em ambas.\n",
        "valores_iguais = []\n",
        "semelhança(valores_iguais)"
      ]
    },
    {
      "cell_type": "code",
      "execution_count": 18,
      "metadata": {
        "id": "SM2RV-bTetNz",
        "colab": {
          "base_uri": "https://localhost:8080/"
        },
        "outputId": "5956375c-cf68-4f9c-b92a-20c14168f05c"
      },
      "outputs": [
        {
          "output_type": "stream",
          "name": "stdout",
          "text": [
            "[9, 8, 7, 6, 6, 5, 4, 3, 3, 2, 1]\n"
          ]
        }
      ],
      "source": [
        "#6. Crie uma função que receba uma lista e retorne uma nova lista com os elementos em ordem inversa.\n",
        "inverter = geral_int()\n",
        "lista_invertida(inverter)"
      ]
    },
    {
      "cell_type": "code",
      "execution_count": 24,
      "metadata": {
        "id": "VVqG6HWPetUi",
        "colab": {
          "base_uri": "https://localhost:8080/"
        },
        "outputId": "903ac495-d5ec-4f91-ee2b-f5771a184716"
      },
      "outputs": [
        {
          "output_type": "stream",
          "name": "stdout",
          "text": [
            "[1, 4, 9, 9, 16, 25, 36, 36, 49, 64, 81]\n"
          ]
        }
      ],
      "source": [
        "#7. Escreva uma função que receba uma lista de números e retorne uma lista contendo o quadrado de cada número.\n",
        "xx2 = []\n",
        "quadrado(xx2)"
      ]
    },
    {
      "cell_type": "code",
      "execution_count": 28,
      "metadata": {
        "id": "k-9zJ1zOetba",
        "colab": {
          "base_uri": "https://localhost:8080/"
        },
        "outputId": "2ab944dc-ca5a-434c-9303-16eeddd6133e"
      },
      "outputs": [
        {
          "output_type": "stream",
          "name": "stdout",
          "text": [
            "Informe um valor para comparar aos da lista e retornar apenas os valores maiores que o fornecido: 5\n",
            "[6, 6, 7, 8, 9]\n"
          ]
        }
      ],
      "source": [
        "#8. Crie uma função que receba uma lista e um valor, e retorne uma lista com os elementos maiores que esse valor.\n",
        "maiores = []\n",
        "valor_maior(maiores)"
      ]
    },
    {
      "cell_type": "code",
      "execution_count": null,
      "metadata": {
        "id": "dlsO6wF6etjS"
      },
      "outputs": [],
      "source": [
        "#9. Escreva uma função que receba duas listas e retorne uma lista dos elementos que estão em apenas uma das listas.\n"
      ]
    },
    {
      "cell_type": "code",
      "execution_count": null,
      "metadata": {
        "id": "gd-dLf7Yetqi"
      },
      "outputs": [],
      "source": [
        "#10. Faça uma função que receba uma lista e retorne um conjunto dos elementos únicos.\n"
      ]
    },
    {
      "cell_type": "code",
      "execution_count": null,
      "metadata": {
        "id": "2HJUyA3Yetxi"
      },
      "outputs": [],
      "source": [
        "#11. Crie uma função que receba duas listas e retorne uma lista dos elementos únicos que estão em ambas.\n"
      ]
    },
    {
      "cell_type": "code",
      "execution_count": null,
      "metadata": {
        "id": "A9DR76zset4z"
      },
      "outputs": [],
      "source": [
        "#12. Escreva uma função que receba uma lista e retorne uma lista contendo os elementos que aparecem mais de uma vez.\n"
      ]
    },
    {
      "cell_type": "code",
      "execution_count": null,
      "metadata": {
        "id": "geXKAw2set_z"
      },
      "outputs": [],
      "source": [
        "#13. Faça uma função que receba uma lista de números e retorne uma lista dos números pares.\n"
      ]
    },
    {
      "cell_type": "code",
      "execution_count": null,
      "metadata": {
        "id": "JaoN-qqQeuGa"
      },
      "outputs": [],
      "source": [
        "#14. Escreva uma função que receba uma lista de números e um valor, e retorne uma lista com os índices dos elementos maiores que o valor.\n"
      ]
    },
    {
      "cell_type": "code",
      "execution_count": null,
      "metadata": {
        "id": "TyUa0Wi4euOC"
      },
      "outputs": [],
      "source": [
        "#15. Crie uma função que receba uma lista de strings e retorne uma lista com o tamanho de cada string.\n"
      ]
    },
    {
      "cell_type": "code",
      "execution_count": null,
      "metadata": {
        "id": "sjD1hiCjeuVK"
      },
      "outputs": [],
      "source": [
        "#16. Escreva uma função que receba uma lista de números e retorne uma lista contendo cada número elevado ao cubo.\n"
      ]
    },
    {
      "cell_type": "code",
      "execution_count": null,
      "metadata": {
        "id": "a_a4pZnJeuc7"
      },
      "outputs": [],
      "source": [
        "#17. Crie uma função que receba uma lista e retorne uma lista de todos os elementos únicos.\n"
      ]
    },
    {
      "cell_type": "code",
      "execution_count": null,
      "metadata": {
        "id": "eaEz7bkveulF"
      },
      "outputs": [],
      "source": [
        "#18. Escreva uma função que receba uma lista de strings e retorne uma lista contendo as strings que começam com uma letra maiúscula.\n"
      ]
    },
    {
      "cell_type": "code",
      "execution_count": null,
      "metadata": {
        "id": "v4G4tJf3eusT"
      },
      "outputs": [],
      "source": [
        "#19. Faça uma função que receba uma lista de números e retorne uma lista contendo apenas os múltiplos de 3.\n"
      ]
    },
    {
      "cell_type": "code",
      "execution_count": null,
      "metadata": {
        "id": "wPLGsdHZeuzz"
      },
      "outputs": [],
      "source": [
        "#20. Escreva uma função que receba duas listas e retorne uma lista com a interseção ordenada de forma crescente entre elas.\n"
      ]
    }
  ],
  "metadata": {
    "colab": {
      "provenance": [],
      "authorship_tag": "ABX9TyNndqNk1ZJZSoCj8bxlms7R",
      "include_colab_link": true
    },
    "kernelspec": {
      "display_name": "Python 3",
      "name": "python3"
    },
    "language_info": {
      "name": "python"
    }
  },
  "nbformat": 4,
  "nbformat_minor": 0
}